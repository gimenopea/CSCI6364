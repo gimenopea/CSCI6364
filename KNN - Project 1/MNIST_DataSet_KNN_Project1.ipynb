{
  "nbformat": 4,
  "nbformat_minor": 0,
  "metadata": {
    "colab": {
      "provenance": [],
      "collapsed_sections": [],
      "mount_file_id": "1Q7zkyxrB1miwCmNmIus82gTnsnh1Ats4",
      "authorship_tag": "ABX9TyO9cKaehBMUAQQgFtT98z79",
      "include_colab_link": true
    },
    "kernelspec": {
      "name": "python3",
      "display_name": "Python 3"
    },
    "language_info": {
      "name": "python"
    }
  },
  "cells": [
    {
      "cell_type": "markdown",
      "metadata": {
        "id": "view-in-github",
        "colab_type": "text"
      },
      "source": [
        "<a href=\"https://colab.research.google.com/github/gimenopea/CSCI6364/blob/main/MNIST_DataSet_KNN_Project1.ipynb\" target=\"_parent\"><img src=\"https://colab.research.google.com/assets/colab-badge.svg\" alt=\"Open In Colab\"/></a>"
      ]
    },
    {
      "cell_type": "markdown",
      "source": [
        "**KNN Implementation of the MNIST dataset w/o ML Libraries**\n",
        "\n",
        "CSCI6364 | Fall 2022\n",
        "Project 1 | part B\n",
        "\n",
        "pgimeno@gwu.edu\n"
      ],
      "metadata": {
        "id": "lXfyiPNB5MsS"
      }
    },
    {
      "cell_type": "code",
      "source": [
        "import pandas as pd\n",
        "import numpy as np\n",
        "import matplotlib.pyplot as plt\n",
        "import seaborn as sns\n",
        "%matplotlib inline\n",
        "import time\n",
        "import pickle\n",
        "\n",
        "from google.colab import drive\n",
        "drive.mount('/content/drive')"
      ],
      "metadata": {
        "id": "geEfKaVhnjFy",
        "colab": {
          "base_uri": "https://localhost:8080/"
        },
        "outputId": "115be426-168d-4429-848c-c8539fd14e7e"
      },
      "execution_count": 82,
      "outputs": [
        {
          "output_type": "stream",
          "name": "stdout",
          "text": [
            "Drive already mounted at /content/drive; to attempt to forcibly remount, call drive.mount(\"/content/drive\", force_remount=True).\n"
          ]
        }
      ]
    },
    {
      "cell_type": "markdown",
      "source": [
        "\n",
        "\n",
        "---\n",
        "\n",
        "\n",
        "I. **Exploratory Data Analysis**\n",
        "\n",
        "\n",
        "---\n",
        "\n",
        "\n"
      ],
      "metadata": {
        "id": "cE9ES7oN1cHH"
      }
    },
    {
      "cell_type": "code",
      "source": [
        "df = pd.read_csv('/content/drive/MyDrive/DATA_STORE/mnist-train.csv')"
      ],
      "metadata": {
        "id": "i6CFI787zrSz"
      },
      "execution_count": 83,
      "outputs": []
    },
    {
      "cell_type": "code",
      "source": [
        "df.describe()"
      ],
      "metadata": {
        "colab": {
          "base_uri": "https://localhost:8080/",
          "height": 330
        },
        "id": "ltPiJ39SMHra",
        "outputId": "4d0ac5b7-543a-416b-b709-fd2528de9c55"
      },
      "execution_count": 84,
      "outputs": [
        {
          "output_type": "execute_result",
          "data": {
            "text/plain": [
              "              label   pixel0   pixel1   pixel2   pixel3   pixel4   pixel5  \\\n",
              "count  42000.000000  42000.0  42000.0  42000.0  42000.0  42000.0  42000.0   \n",
              "mean       4.456643      0.0      0.0      0.0      0.0      0.0      0.0   \n",
              "std        2.887730      0.0      0.0      0.0      0.0      0.0      0.0   \n",
              "min        0.000000      0.0      0.0      0.0      0.0      0.0      0.0   \n",
              "25%        2.000000      0.0      0.0      0.0      0.0      0.0      0.0   \n",
              "50%        4.000000      0.0      0.0      0.0      0.0      0.0      0.0   \n",
              "75%        7.000000      0.0      0.0      0.0      0.0      0.0      0.0   \n",
              "max        9.000000      0.0      0.0      0.0      0.0      0.0      0.0   \n",
              "\n",
              "        pixel6   pixel7   pixel8  ...      pixel774      pixel775  \\\n",
              "count  42000.0  42000.0  42000.0  ...  42000.000000  42000.000000   \n",
              "mean       0.0      0.0      0.0  ...      0.219286      0.117095   \n",
              "std        0.0      0.0      0.0  ...      6.312890      4.633819   \n",
              "min        0.0      0.0      0.0  ...      0.000000      0.000000   \n",
              "25%        0.0      0.0      0.0  ...      0.000000      0.000000   \n",
              "50%        0.0      0.0      0.0  ...      0.000000      0.000000   \n",
              "75%        0.0      0.0      0.0  ...      0.000000      0.000000   \n",
              "max        0.0      0.0      0.0  ...    254.000000    254.000000   \n",
              "\n",
              "           pixel776     pixel777      pixel778      pixel779  pixel780  \\\n",
              "count  42000.000000  42000.00000  42000.000000  42000.000000   42000.0   \n",
              "mean       0.059024      0.02019      0.017238      0.002857       0.0   \n",
              "std        3.274488      1.75987      1.894498      0.414264       0.0   \n",
              "min        0.000000      0.00000      0.000000      0.000000       0.0   \n",
              "25%        0.000000      0.00000      0.000000      0.000000       0.0   \n",
              "50%        0.000000      0.00000      0.000000      0.000000       0.0   \n",
              "75%        0.000000      0.00000      0.000000      0.000000       0.0   \n",
              "max      253.000000    253.00000    254.000000     62.000000       0.0   \n",
              "\n",
              "       pixel781  pixel782  pixel783  \n",
              "count   42000.0   42000.0   42000.0  \n",
              "mean        0.0       0.0       0.0  \n",
              "std         0.0       0.0       0.0  \n",
              "min         0.0       0.0       0.0  \n",
              "25%         0.0       0.0       0.0  \n",
              "50%         0.0       0.0       0.0  \n",
              "75%         0.0       0.0       0.0  \n",
              "max         0.0       0.0       0.0  \n",
              "\n",
              "[8 rows x 785 columns]"
            ],
            "text/html": [
              "\n",
              "  <div id=\"df-652a1191-97cc-4474-b410-0d65124d7e7f\">\n",
              "    <div class=\"colab-df-container\">\n",
              "      <div>\n",
              "<style scoped>\n",
              "    .dataframe tbody tr th:only-of-type {\n",
              "        vertical-align: middle;\n",
              "    }\n",
              "\n",
              "    .dataframe tbody tr th {\n",
              "        vertical-align: top;\n",
              "    }\n",
              "\n",
              "    .dataframe thead th {\n",
              "        text-align: right;\n",
              "    }\n",
              "</style>\n",
              "<table border=\"1\" class=\"dataframe\">\n",
              "  <thead>\n",
              "    <tr style=\"text-align: right;\">\n",
              "      <th></th>\n",
              "      <th>label</th>\n",
              "      <th>pixel0</th>\n",
              "      <th>pixel1</th>\n",
              "      <th>pixel2</th>\n",
              "      <th>pixel3</th>\n",
              "      <th>pixel4</th>\n",
              "      <th>pixel5</th>\n",
              "      <th>pixel6</th>\n",
              "      <th>pixel7</th>\n",
              "      <th>pixel8</th>\n",
              "      <th>...</th>\n",
              "      <th>pixel774</th>\n",
              "      <th>pixel775</th>\n",
              "      <th>pixel776</th>\n",
              "      <th>pixel777</th>\n",
              "      <th>pixel778</th>\n",
              "      <th>pixel779</th>\n",
              "      <th>pixel780</th>\n",
              "      <th>pixel781</th>\n",
              "      <th>pixel782</th>\n",
              "      <th>pixel783</th>\n",
              "    </tr>\n",
              "  </thead>\n",
              "  <tbody>\n",
              "    <tr>\n",
              "      <th>count</th>\n",
              "      <td>42000.000000</td>\n",
              "      <td>42000.0</td>\n",
              "      <td>42000.0</td>\n",
              "      <td>42000.0</td>\n",
              "      <td>42000.0</td>\n",
              "      <td>42000.0</td>\n",
              "      <td>42000.0</td>\n",
              "      <td>42000.0</td>\n",
              "      <td>42000.0</td>\n",
              "      <td>42000.0</td>\n",
              "      <td>...</td>\n",
              "      <td>42000.000000</td>\n",
              "      <td>42000.000000</td>\n",
              "      <td>42000.000000</td>\n",
              "      <td>42000.00000</td>\n",
              "      <td>42000.000000</td>\n",
              "      <td>42000.000000</td>\n",
              "      <td>42000.0</td>\n",
              "      <td>42000.0</td>\n",
              "      <td>42000.0</td>\n",
              "      <td>42000.0</td>\n",
              "    </tr>\n",
              "    <tr>\n",
              "      <th>mean</th>\n",
              "      <td>4.456643</td>\n",
              "      <td>0.0</td>\n",
              "      <td>0.0</td>\n",
              "      <td>0.0</td>\n",
              "      <td>0.0</td>\n",
              "      <td>0.0</td>\n",
              "      <td>0.0</td>\n",
              "      <td>0.0</td>\n",
              "      <td>0.0</td>\n",
              "      <td>0.0</td>\n",
              "      <td>...</td>\n",
              "      <td>0.219286</td>\n",
              "      <td>0.117095</td>\n",
              "      <td>0.059024</td>\n",
              "      <td>0.02019</td>\n",
              "      <td>0.017238</td>\n",
              "      <td>0.002857</td>\n",
              "      <td>0.0</td>\n",
              "      <td>0.0</td>\n",
              "      <td>0.0</td>\n",
              "      <td>0.0</td>\n",
              "    </tr>\n",
              "    <tr>\n",
              "      <th>std</th>\n",
              "      <td>2.887730</td>\n",
              "      <td>0.0</td>\n",
              "      <td>0.0</td>\n",
              "      <td>0.0</td>\n",
              "      <td>0.0</td>\n",
              "      <td>0.0</td>\n",
              "      <td>0.0</td>\n",
              "      <td>0.0</td>\n",
              "      <td>0.0</td>\n",
              "      <td>0.0</td>\n",
              "      <td>...</td>\n",
              "      <td>6.312890</td>\n",
              "      <td>4.633819</td>\n",
              "      <td>3.274488</td>\n",
              "      <td>1.75987</td>\n",
              "      <td>1.894498</td>\n",
              "      <td>0.414264</td>\n",
              "      <td>0.0</td>\n",
              "      <td>0.0</td>\n",
              "      <td>0.0</td>\n",
              "      <td>0.0</td>\n",
              "    </tr>\n",
              "    <tr>\n",
              "      <th>min</th>\n",
              "      <td>0.000000</td>\n",
              "      <td>0.0</td>\n",
              "      <td>0.0</td>\n",
              "      <td>0.0</td>\n",
              "      <td>0.0</td>\n",
              "      <td>0.0</td>\n",
              "      <td>0.0</td>\n",
              "      <td>0.0</td>\n",
              "      <td>0.0</td>\n",
              "      <td>0.0</td>\n",
              "      <td>...</td>\n",
              "      <td>0.000000</td>\n",
              "      <td>0.000000</td>\n",
              "      <td>0.000000</td>\n",
              "      <td>0.00000</td>\n",
              "      <td>0.000000</td>\n",
              "      <td>0.000000</td>\n",
              "      <td>0.0</td>\n",
              "      <td>0.0</td>\n",
              "      <td>0.0</td>\n",
              "      <td>0.0</td>\n",
              "    </tr>\n",
              "    <tr>\n",
              "      <th>25%</th>\n",
              "      <td>2.000000</td>\n",
              "      <td>0.0</td>\n",
              "      <td>0.0</td>\n",
              "      <td>0.0</td>\n",
              "      <td>0.0</td>\n",
              "      <td>0.0</td>\n",
              "      <td>0.0</td>\n",
              "      <td>0.0</td>\n",
              "      <td>0.0</td>\n",
              "      <td>0.0</td>\n",
              "      <td>...</td>\n",
              "      <td>0.000000</td>\n",
              "      <td>0.000000</td>\n",
              "      <td>0.000000</td>\n",
              "      <td>0.00000</td>\n",
              "      <td>0.000000</td>\n",
              "      <td>0.000000</td>\n",
              "      <td>0.0</td>\n",
              "      <td>0.0</td>\n",
              "      <td>0.0</td>\n",
              "      <td>0.0</td>\n",
              "    </tr>\n",
              "    <tr>\n",
              "      <th>50%</th>\n",
              "      <td>4.000000</td>\n",
              "      <td>0.0</td>\n",
              "      <td>0.0</td>\n",
              "      <td>0.0</td>\n",
              "      <td>0.0</td>\n",
              "      <td>0.0</td>\n",
              "      <td>0.0</td>\n",
              "      <td>0.0</td>\n",
              "      <td>0.0</td>\n",
              "      <td>0.0</td>\n",
              "      <td>...</td>\n",
              "      <td>0.000000</td>\n",
              "      <td>0.000000</td>\n",
              "      <td>0.000000</td>\n",
              "      <td>0.00000</td>\n",
              "      <td>0.000000</td>\n",
              "      <td>0.000000</td>\n",
              "      <td>0.0</td>\n",
              "      <td>0.0</td>\n",
              "      <td>0.0</td>\n",
              "      <td>0.0</td>\n",
              "    </tr>\n",
              "    <tr>\n",
              "      <th>75%</th>\n",
              "      <td>7.000000</td>\n",
              "      <td>0.0</td>\n",
              "      <td>0.0</td>\n",
              "      <td>0.0</td>\n",
              "      <td>0.0</td>\n",
              "      <td>0.0</td>\n",
              "      <td>0.0</td>\n",
              "      <td>0.0</td>\n",
              "      <td>0.0</td>\n",
              "      <td>0.0</td>\n",
              "      <td>...</td>\n",
              "      <td>0.000000</td>\n",
              "      <td>0.000000</td>\n",
              "      <td>0.000000</td>\n",
              "      <td>0.00000</td>\n",
              "      <td>0.000000</td>\n",
              "      <td>0.000000</td>\n",
              "      <td>0.0</td>\n",
              "      <td>0.0</td>\n",
              "      <td>0.0</td>\n",
              "      <td>0.0</td>\n",
              "    </tr>\n",
              "    <tr>\n",
              "      <th>max</th>\n",
              "      <td>9.000000</td>\n",
              "      <td>0.0</td>\n",
              "      <td>0.0</td>\n",
              "      <td>0.0</td>\n",
              "      <td>0.0</td>\n",
              "      <td>0.0</td>\n",
              "      <td>0.0</td>\n",
              "      <td>0.0</td>\n",
              "      <td>0.0</td>\n",
              "      <td>0.0</td>\n",
              "      <td>...</td>\n",
              "      <td>254.000000</td>\n",
              "      <td>254.000000</td>\n",
              "      <td>253.000000</td>\n",
              "      <td>253.00000</td>\n",
              "      <td>254.000000</td>\n",
              "      <td>62.000000</td>\n",
              "      <td>0.0</td>\n",
              "      <td>0.0</td>\n",
              "      <td>0.0</td>\n",
              "      <td>0.0</td>\n",
              "    </tr>\n",
              "  </tbody>\n",
              "</table>\n",
              "<p>8 rows × 785 columns</p>\n",
              "</div>\n",
              "      <button class=\"colab-df-convert\" onclick=\"convertToInteractive('df-652a1191-97cc-4474-b410-0d65124d7e7f')\"\n",
              "              title=\"Convert this dataframe to an interactive table.\"\n",
              "              style=\"display:none;\">\n",
              "        \n",
              "  <svg xmlns=\"http://www.w3.org/2000/svg\" height=\"24px\"viewBox=\"0 0 24 24\"\n",
              "       width=\"24px\">\n",
              "    <path d=\"M0 0h24v24H0V0z\" fill=\"none\"/>\n",
              "    <path d=\"M18.56 5.44l.94 2.06.94-2.06 2.06-.94-2.06-.94-.94-2.06-.94 2.06-2.06.94zm-11 1L8.5 8.5l.94-2.06 2.06-.94-2.06-.94L8.5 2.5l-.94 2.06-2.06.94zm10 10l.94 2.06.94-2.06 2.06-.94-2.06-.94-.94-2.06-.94 2.06-2.06.94z\"/><path d=\"M17.41 7.96l-1.37-1.37c-.4-.4-.92-.59-1.43-.59-.52 0-1.04.2-1.43.59L10.3 9.45l-7.72 7.72c-.78.78-.78 2.05 0 2.83L4 21.41c.39.39.9.59 1.41.59.51 0 1.02-.2 1.41-.59l7.78-7.78 2.81-2.81c.8-.78.8-2.07 0-2.86zM5.41 20L4 18.59l7.72-7.72 1.47 1.35L5.41 20z\"/>\n",
              "  </svg>\n",
              "      </button>\n",
              "      \n",
              "  <style>\n",
              "    .colab-df-container {\n",
              "      display:flex;\n",
              "      flex-wrap:wrap;\n",
              "      gap: 12px;\n",
              "    }\n",
              "\n",
              "    .colab-df-convert {\n",
              "      background-color: #E8F0FE;\n",
              "      border: none;\n",
              "      border-radius: 50%;\n",
              "      cursor: pointer;\n",
              "      display: none;\n",
              "      fill: #1967D2;\n",
              "      height: 32px;\n",
              "      padding: 0 0 0 0;\n",
              "      width: 32px;\n",
              "    }\n",
              "\n",
              "    .colab-df-convert:hover {\n",
              "      background-color: #E2EBFA;\n",
              "      box-shadow: 0px 1px 2px rgba(60, 64, 67, 0.3), 0px 1px 3px 1px rgba(60, 64, 67, 0.15);\n",
              "      fill: #174EA6;\n",
              "    }\n",
              "\n",
              "    [theme=dark] .colab-df-convert {\n",
              "      background-color: #3B4455;\n",
              "      fill: #D2E3FC;\n",
              "    }\n",
              "\n",
              "    [theme=dark] .colab-df-convert:hover {\n",
              "      background-color: #434B5C;\n",
              "      box-shadow: 0px 1px 3px 1px rgba(0, 0, 0, 0.15);\n",
              "      filter: drop-shadow(0px 1px 2px rgba(0, 0, 0, 0.3));\n",
              "      fill: #FFFFFF;\n",
              "    }\n",
              "  </style>\n",
              "\n",
              "      <script>\n",
              "        const buttonEl =\n",
              "          document.querySelector('#df-652a1191-97cc-4474-b410-0d65124d7e7f button.colab-df-convert');\n",
              "        buttonEl.style.display =\n",
              "          google.colab.kernel.accessAllowed ? 'block' : 'none';\n",
              "\n",
              "        async function convertToInteractive(key) {\n",
              "          const element = document.querySelector('#df-652a1191-97cc-4474-b410-0d65124d7e7f');\n",
              "          const dataTable =\n",
              "            await google.colab.kernel.invokeFunction('convertToInteractive',\n",
              "                                                     [key], {});\n",
              "          if (!dataTable) return;\n",
              "\n",
              "          const docLinkHtml = 'Like what you see? Visit the ' +\n",
              "            '<a target=\"_blank\" href=https://colab.research.google.com/notebooks/data_table.ipynb>data table notebook</a>'\n",
              "            + ' to learn more about interactive tables.';\n",
              "          element.innerHTML = '';\n",
              "          dataTable['output_type'] = 'display_data';\n",
              "          await google.colab.output.renderOutput(dataTable, element);\n",
              "          const docLink = document.createElement('div');\n",
              "          docLink.innerHTML = docLinkHtml;\n",
              "          element.appendChild(docLink);\n",
              "        }\n",
              "      </script>\n",
              "    </div>\n",
              "  </div>\n",
              "  "
            ]
          },
          "metadata": {},
          "execution_count": 84
        }
      ]
    },
    {
      "cell_type": "markdown",
      "source": [
        "- The image contains 783 features and is a a collection of 28x28 images\n",
        "- Our target labels are images from 0 to 9"
      ],
      "metadata": {
        "id": "0OpLpdiXpi68"
      }
    },
    {
      "cell_type": "code",
      "source": [
        "def show_image(df):\n",
        "\n",
        "    label = df.label\n",
        "    pixels = df.drop(labels = [\"label\"],axis = 1)\n",
        "\n",
        "    pixels = np.array(pixels)\n",
        "    label = np.array(label)\n",
        "    \n",
        "\n",
        "    pixels = pixels.reshape(pixels.shape[0], 28, 28)\n",
        "\n",
        "    for i in range(0, 9):\n",
        "        plt.subplot(330 + (i+1))\n",
        "        plt.imshow(pixels[i], cmap=plt.get_cmap('gray'))\n",
        "        plt.title(label[i]);\n",
        "\n",
        "show_image(df)"
      ],
      "metadata": {
        "colab": {
          "base_uri": "https://localhost:8080/",
          "height": 281
        },
        "id": "mKOiLjVLqPVP",
        "outputId": "882ed957-4744-4d2a-c752-da1b3e4fe968"
      },
      "execution_count": 85,
      "outputs": [
        {
          "output_type": "display_data",
          "data": {
            "text/plain": [
              "<Figure size 432x288 with 9 Axes>"
            ],
            "image/png": "[encoded data removed]"
          },
          "metadata": {
            "needs_background": "light"
          }
        }
      ]
    },
    {
      "cell_type": "code",
      "source": [
        "#plotting class distribution of our labels\n",
        "plt.bar(x = sorted(df.label.unique()), height=[i for i in df.label.value_counts()])\n",
        "plt.title('Distribution of target digits');"
      ],
      "metadata": {
        "colab": {
          "base_uri": "https://localhost:8080/",
          "height": 281
        },
        "id": "0QGSagOIo6E1",
        "outputId": "17b46ca8-a95a-4686-e6ab-460a23aac2b9"
      },
      "execution_count": 86,
      "outputs": [
        {
          "output_type": "display_data",
          "data": {
            "text/plain": [
              "<Figure size 432x288 with 1 Axes>"
            ],
            "image/png": "[encoded data removed]"
          },
          "metadata": {
            "needs_background": "light"
          }
        }
      ]
    },
    {
      "cell_type": "markdown",
      "source": [
        "- The distribution of the labels in this dataset appears to be balanced across all classes"
      ],
      "metadata": {
        "id": "wpgNPl-Up2SW"
      }
    },
    {
      "cell_type": "markdown",
      "source": [
        "II. Sample reduction "
      ],
      "metadata": {
        "id": "iG1kRYUUoyUl"
      }
    },
    {
      "cell_type": "code",
      "source": [
        "df_sample = df.groupby('label', group_keys=False).apply(lambda x: x.sample(1000)) #samples 1000 of each targets\n",
        "df_sample.label.value_counts()"
      ],
      "metadata": {
        "colab": {
          "base_uri": "https://localhost:8080/"
        },
        "id": "uodciSt5pskS",
        "outputId": "7a62f3e5-28d0-437e-fb4e-cb256f447dba"
      },
      "execution_count": 87,
      "outputs": [
        {
          "output_type": "execute_result",
          "data": {
            "text/plain": [
              "0    1000\n",
              "1    1000\n",
              "2    1000\n",
              "3    1000\n",
              "4    1000\n",
              "5    1000\n",
              "6    1000\n",
              "7    1000\n",
              "8    1000\n",
              "9    1000\n",
              "Name: label, dtype: int64"
            ]
          },
          "metadata": {},
          "execution_count": 87
        }
      ]
    },
    {
      "cell_type": "code",
      "source": [
        "#plot distribution of labels in df_sample\n",
        "df_sample.label.value_counts().plot(kind='bar')\n"
      ],
      "metadata": {
        "colab": {
          "base_uri": "https://localhost:8080/",
          "height": 279
        },
        "id": "T1xlmvcau0sl",
        "outputId": "c71211d1-cdb0-4512-95ab-7af5b9162e83"
      },
      "execution_count": 88,
      "outputs": [
        {
          "output_type": "execute_result",
          "data": {
            "text/plain": [
              "<matplotlib.axes._subplots.AxesSubplot at 0x7f3ed6a58ed0>"
            ]
          },
          "metadata": {},
          "execution_count": 88
        },
        {
          "output_type": "display_data",
          "data": {
            "text/plain": [
              "<Figure size 432x288 with 1 Axes>"
            ],
            "image/png": "[encoded data removed]"
          },
          "metadata": {
            "needs_background": "light"
          }
        }
      ]
    },
    {
      "cell_type": "markdown",
      "source": [
        "\n",
        "\n",
        "---\n",
        "\n",
        "\n",
        "II. **Train Test Split: Splitting data into training, testing and validation sets**\n",
        "\n",
        "\n",
        "---"
      ],
      "metadata": {
        "id": "uWUYMKs_tKZZ"
      }
    },
    {
      "cell_type": "markdown",
      "source": [
        "Training = 80% of data\n",
        "\n",
        "Validation = 10% of data\n",
        "\n",
        "Testing = 10% of data\n",
        "\n"
      ],
      "metadata": {
        "id": "v-9dMjXm3gCK"
      }
    },
    {
      "cell_type": "code",
      "source": [
        "# add a dataframe column which labels our row samples as either train, test or validation\n",
        "def train_test_split(df, test_size=0.2):\n",
        "    train = df_sample.sample(frac=1-test_size, random_state=666)\n",
        "    validation = df_sample.drop(train.index)\n",
        "    test = validation.sample(frac=.5, random_state=666)\n",
        "    validation = validation.drop(test.index)\n",
        "\n",
        "    #shuffle dataframes\n",
        "    train = train.sample(frac=1).reset_index(drop=True)\n",
        "    validation = validation.sample(frac=1).reset_index(drop=True)\n",
        "    test = test.sample(frac=1).reset_index(drop=True)\n",
        "\n",
        "    #split into X and y\n",
        "    X_train = train.drop('label', axis=1)\n",
        "    y_train = train.label\n",
        "    X_validation = validation.drop('label', axis=1)\n",
        "    y_validation = validation.label\n",
        "    X_test = test.drop('label', axis=1)\n",
        "    y_test = test.label\n",
        "\n",
        "    #convert to numpy arrays\n",
        "    X_train = X_train.values\n",
        "    y_train = y_train.values\n",
        "    X_validation = X_validation.values\n",
        "    y_validation = y_validation.values\n",
        "    X_test = X_test.values\n",
        "    y_test = y_test.values\n",
        "\n",
        "    #print shapes\n",
        "    print('X_train shape:', X_train.shape)\n",
        "    print('y_train shape:', y_train.shape)\n",
        "    print('X_validation shape:', X_validation.shape)\n",
        "    print('y_validation shape:', y_validation.shape)\n",
        "    print('X_test shape:', X_test.shape)\n",
        "    print('y_test shape:', y_test.shape)\n",
        "    \n",
        "    return X_train, y_train, X_validation, y_validation, X_test, y_test"
      ],
      "metadata": {
        "id": "Pv-8UeAWtY-o"
      },
      "execution_count": 89,
      "outputs": []
    },
    {
      "cell_type": "markdown",
      "source": [
        "\n",
        "\n",
        "---\n",
        "III. **Normalizing our feature vectors:**\n",
        "\n",
        "---\n",
        "\n",
        "\n",
        "\n"
      ],
      "metadata": {
        "id": "2qjdVR3_3Ogx"
      }
    },
    {
      "cell_type": "markdown",
      "source": [
        "As a pre-processing task, i am scaling down the features so that our min and max values falls in the range between 0 and 1. The main function transforms our row vector using the equation below \n",
        "\n",
        "<img src='https://wikimedia.org/api/rest_v1/media/math/render/svg/358923abc154221bb5022fc329061f6fc4dcc69f'>\n",
        "\n",
        "\n",
        "[Reference](https://en.wikipedia.org/wiki/Feature_scaling#Rescaling_(min-max_normalization))"
      ],
      "metadata": {
        "id": "YnNcxvCeOs-h"
      }
    },
    {
      "cell_type": "code",
      "source": [
        "#function to normalize input dataFrame\n",
        "\n",
        "def normalize(X_train, X_validation, X_test):\n",
        "    #get the max and min values of X_train\n",
        "    max_value = X_train.max()\n",
        "    min_value = X_train.min()\n",
        "\n",
        "    #normalize X_train, X_validation and X_test\n",
        "    X_train = (X_train - min_value)/(max_value - min_value)\n",
        "\n",
        "    X_validation = (X_validation - min_value)/(max_value - min_value)\n",
        "\n",
        "    X_test = (X_test - min_value)/(max_value - min_value)\n",
        "\n",
        "    return X_train, X_validation, X_test"
      ],
      "metadata": {
        "id": "Va3Tc_poRZmx"
      },
      "execution_count": 90,
      "outputs": []
    },
    {
      "cell_type": "markdown",
      "source": [
        "- for the normalization process, the training max and min's are used for both the validation and the test sets"
      ],
      "metadata": {
        "id": "GcR4fRFPPFIi"
      }
    },
    {
      "cell_type": "markdown",
      "source": [
        "\n",
        "\n",
        "---\n",
        "\n",
        "\n",
        "IV. **Generating the distance function**\n",
        "\n",
        "\n",
        "---\n",
        "\n"
      ],
      "metadata": {
        "id": "FhRNpRI327CH"
      }
    },
    {
      "cell_type": "markdown",
      "source": [
        "For these classification tasks, i am implementing euclidean distances and the Manhattan distance to calculate distances between two sample points\n",
        "\n",
        "**Euclidean Distance** function will be derived from:\n",
        "\n",
        "<img src='https://www.gstatic.com/education/formulas2/472522532/en/euclidean_distance.svg'>\n",
        "\n",
        "**Manhattan Distance** function will be derived from\n",
        "\n",
        "<img src='https://miro.medium.com/max/640/1*KDgfdK6SooXtaUvlnXdpaA.png'>"
      ],
      "metadata": {
        "id": "RkUYmzOZ4tIH"
      }
    },
    {
      "cell_type": "code",
      "source": [
        "def calc_euclidean_dist(x1, x2):\n",
        "  return np.sqrt(np.sum((x1 - x2)**2))\n",
        "\n",
        "def calc_manhattan_dist(x1, x2):\n",
        "    return np.sum(np.abs(x1 - x2))\n",
        "\n",
        "def minkowski_distance(x1, x2, p):\n",
        "  return np.sum(np.abs(x1-x2)**p)**(1/p)\n",
        " "
      ],
      "metadata": {
        "id": "_OiGD-Kx4sWJ"
      },
      "execution_count": 91,
      "outputs": []
    },
    {
      "cell_type": "markdown",
      "source": [
        "\n",
        "\n",
        "---\n",
        "\n",
        "\n",
        "V. **Generating a prediction on test data**\n",
        "\n",
        "\n",
        "---\n",
        "\n"
      ],
      "metadata": {
        "id": "0rxSWXyvB0rc"
      }
    },
    {
      "cell_type": "code",
      "source": [
        "#create a predict function for each test row sample\n",
        "\n",
        "def knn_predict(X_train, y_train, X_validation, k = 1, distance_func = calc_euclidean_dist):\n",
        "  ''' input numpy array X_train, y_train, X_validation\n",
        "  outputs: numpy array of predictions '''\n",
        "  \n",
        "\n",
        "  predictions = []\n",
        "\n",
        "  for i,v_validation in enumerate(X_validation):\n",
        "      distance = []\n",
        "      for j,v_train in enumerate(X_train):\n",
        "      \n",
        "          dist = distance_func(v_validation, v_train)\n",
        "          \n",
        "          distance.append(dist)\n",
        "    \n",
        "      numpied_distance = np.array(distance)\n",
        "\n",
        "      #get k smallest distances using O(n) method np.argpartition. this variable is an array of indices of the k smallest distances.\n",
        "      smallest = np.argpartition(numpied_distance, k)[:k]\n",
        "\n",
        "      #get the labels in the training y targets\n",
        "      vals = y_train[smallest]\n",
        "\n",
        "      #if tie, use first in training set\n",
        "      majority_label = np.bincount(vals).argmax()\n",
        "\n",
        "      #prediction at index i\n",
        "      predictions.append(majority_label)\n",
        "\n",
        "  return np.array(predictions)\n",
        "\n",
        " "
      ],
      "metadata": {
        "id": "IofHg05GGdbb"
      },
      "execution_count": 92,
      "outputs": []
    },
    {
      "cell_type": "code",
      "source": [
        "#function to produce a 10x10 confusion matrix\n",
        "def confusion_matrix(y_actual, y_predict):\n",
        "  '''inputs two numpy array of size n (n,1) and returns a 10x10 numpy array'''\n",
        "  \n",
        "  confusion_matrix = np.zeros((10,10), dtype=int)\n",
        "  for i in range(len(y_actual)):\n",
        "      confusion_matrix[y_actual[i], y_predict[i]] += 1\n",
        "  return confusion_matrix\n",
        "\n",
        "def matrix_accuracy(confusion_matrix):\n",
        "    diagonal_sum = confusion_matrix.trace()\n",
        "    sum_of_all_elements = confusion_matrix.sum()\n",
        "    return diagonal_sum / sum_of_all_elements\n",
        "\n",
        "def accuracy_per_digit(confusion_matrix):\n",
        "    accuracy_per_digit = np.diag(confusion_matrix) / np.sum(confusion_matrix, axis = 1)\n",
        "    return accuracy_per_digit\n",
        "\n",
        "def f1_score(confusion_matrix):\n",
        "    recall = np.diag(confusion_matrix) / np.sum(confusion_matrix, axis = 1)\n",
        "    precision = np.diag(confusion_matrix) / np.sum(confusion_matrix, axis = 0)\n",
        "    f1 = 2 * (precision * recall) / (precision + recall)\n",
        "    return recall, precision, f1\n",
        "    \n"
      ],
      "metadata": {
        "id": "YKRKvE9kBA12"
      },
      "execution_count": 93,
      "outputs": []
    },
    {
      "cell_type": "code",
      "source": [
        "#generating a run function\n",
        "\n",
        "run_df = df.copy()\n",
        "df_sample = run_df.groupby('label', group_keys=False).apply(lambda x: x.sample(1000))\n",
        "print(f'\\ntrain_test_split_summary on sample size {df_sample.shape}\\n')\n",
        "X_train, y_train, X_validation, y_validation, X_test, y_test = train_test_split(df_sample,test_size=0.2)\n",
        "X_train, X_validation, X_test = normalize(X_train, X_validation, X_test)\n",
        "\n",
        "\n",
        "def run(X_train, y_train, X_validation, y_validation, k=1, distance_function = calc_euclidean_dist):\n",
        "  \n",
        "  print(f'{\"-\"*30}')\n",
        "  print(f'\\nI. Begin run at k: {k} using distance function: < {distance_function.__name__}>')\n",
        "  #print(f'{\"-\"*30}')\n",
        "  begin = time.time()\n",
        "  preds = knn_predict(X_train, y_train, X_validation, k, distance_func=distance_function)\n",
        "  print(f'\\nII. Run KNN training wall time {round(time.time() - begin,2)} seconds\\n')\n",
        "\n",
        "\n",
        "  print(f'\\nIII. Confusion Matrix\\n')\n",
        "  conf_matrix = confusion_matrix(y_validation,preds)\n",
        "  print(conf_matrix)\n",
        "  \n",
        "  print(f'\\nIV. Matrix Accuracy: {matrix_accuracy(conf_matrix)}\\n')\n",
        "  digit_accuracy = accuracy_per_digit(conf_matrix)\n",
        "  print(f'\\nV. Digit Accuracy: {digit_accuracy}\\n')\n",
        "  print(f'{\"-\"*30}\\n')\n",
        "\n",
        "  recall, precision, f1 = f1_score(conf_matrix)\n",
        "  print(f'VI. Digit Precision: {precision}\\n\\nDigit Recall: {recall}\\n\\nDigit F1 Score {f1}')\n",
        "  return preds, conf_matrix, y_validation"
      ],
      "metadata": {
        "colab": {
          "base_uri": "https://localhost:8080/"
        },
        "id": "5kG9nBbLPRSz",
        "outputId": "1c65aebd-740d-4345-eaa5-614a7af5a016"
      },
      "execution_count": 94,
      "outputs": [
        {
          "output_type": "stream",
          "name": "stdout",
          "text": [
            "\n",
            "train_test_split_summary on sample size (10000, 785)\n",
            "\n",
            "X_train shape: (8000, 784)\n",
            "y_train shape: (8000,)\n",
            "X_validation shape: (1000, 784)\n",
            "y_validation shape: (1000,)\n",
            "X_test shape: (1000, 784)\n",
            "y_test shape: (1000,)\n"
          ]
        }
      ]
    },
    {
      "cell_type": "code",
      "source": [
        "preds, cm, actual = run(X_train, y_train, X_validation, y_validation,k=1,distance_function= calc_euclidean_dist)"
      ],
      "metadata": {
        "colab": {
          "base_uri": "https://localhost:8080/"
        },
        "id": "BXaRalmlDtdb",
        "outputId": "1728c5ac-3e96-4abb-d75d-2e3851a0991f"
      },
      "execution_count": 95,
      "outputs": [
        {
          "output_type": "stream",
          "name": "stdout",
          "text": [
            "------------------------------\n",
            "\n",
            "I. Begin run at k: 1 using distance function: < calc_euclidean_dist>\n",
            "\n",
            "II. Run KNN training wall time 98.97 seconds\n",
            "\n",
            "\n",
            "III. Confusion Matrix\n",
            "\n",
            "[[100   0   0   0   0   0   2   0   0   0]\n",
            " [  0 101   0   0   0   0   0   0   0   0]\n",
            " [  1   2  88   0   1   0   0   2   1   0]\n",
            " [  0   0   0  88   0   1   0   2   3   1]\n",
            " [  0   1   0   0 102   0   1   0   0   4]\n",
            " [  0   0   0   2   0  85   2   1   1   1]\n",
            " [  2   1   0   0   0   1  86   0   0   0]\n",
            " [  0   0   1   0   0   0   0  92   0   2]\n",
            " [  0   1   0   1   0   3   0   0  94   1]\n",
            " [  0   0   0   3   4   0   0  10   0 105]]\n",
            "\n",
            "IV. Matrix Accuracy: 0.941\n",
            "\n",
            "\n",
            "V. Digit Accuracy: [0.98039216 1.         0.92631579 0.92631579 0.94444444 0.92391304\n",
            " 0.95555556 0.96842105 0.94       0.86065574]\n",
            "\n",
            "------------------------------\n",
            "\n",
            "VI. Digit Precision: [0.97087379 0.95283019 0.98876404 0.93617021 0.95327103 0.94444444\n",
            " 0.94505495 0.85981308 0.94949495 0.92105263]\n",
            "\n",
            "Digit Recall: [0.98039216 1.         0.92631579 0.92631579 0.94444444 0.92391304\n",
            " 0.95555556 0.96842105 0.94       0.86065574]\n",
            "\n",
            "Digit F1 Score [0.97560976 0.97584541 0.95652174 0.93121693 0.94883721 0.93406593\n",
            " 0.95027624 0.91089109 0.94472362 0.88983051]\n"
          ]
        }
      ]
    },
    {
      "cell_type": "code",
      "source": [
        "#sanity check\n",
        "preds[:10]"
      ],
      "metadata": {
        "colab": {
          "base_uri": "https://localhost:8080/"
        },
        "id": "enhn8S3Os9hs",
        "outputId": "e6e4de23-98e5-45e5-e03d-333aa1407f69"
      },
      "execution_count": 96,
      "outputs": [
        {
          "output_type": "execute_result",
          "data": {
            "text/plain": [
              "array([7, 3, 9, 5, 8, 4, 5, 7, 1, 0])"
            ]
          },
          "metadata": {},
          "execution_count": 96
        }
      ]
    },
    {
      "cell_type": "code",
      "source": [
        "actual[:10]"
      ],
      "metadata": {
        "colab": {
          "base_uri": "https://localhost:8080/"
        },
        "id": "MPUPfMPntACd",
        "outputId": "b90992d8-65eb-4607-d9f1-55b191034d56"
      },
      "execution_count": 97,
      "outputs": [
        {
          "output_type": "execute_result",
          "data": {
            "text/plain": [
              "array([7, 3, 9, 5, 8, 4, 5, 7, 1, 0])"
            ]
          },
          "metadata": {},
          "execution_count": 97
        }
      ]
    },
    {
      "cell_type": "markdown",
      "source": [
        "---\n",
        "\n",
        "Find a combination of distance function and K that provides the best accuracy and low runtimes\n",
        "\n",
        "---"
      ],
      "metadata": {
        "id": "8LSGG3h4tDQM"
      }
    },
    {
      "cell_type": "code",
      "source": [
        "# generate a run sequence\n",
        "run_df = df.copy()\n",
        "df_sample = run_df.groupby('label', group_keys=False).apply(lambda x: x.sample(1000))  \n",
        "X_train, y_train, X_validation, y_validation, X_test, y_test = train_test_split(df_sample,test_size=0.2)\n",
        "\n",
        "\n",
        "def grid_find_best(X_train, y_train, X_validation, y_validation, X_test, y_test, max_k=1, number_to_focus=1):\n",
        "  distance_functions = [calc_euclidean_dist, calc_manhattan_dist]  \n",
        "  performance_log = []\n",
        "  \n",
        "  def run():\n",
        "    begin = time.time()\n",
        "    preds = knn_predict(X_train, y_train, X_validation, k=i, distance_func=j)\n",
        "    walltime = round(time.time() - begin,2)\n",
        "    conf_matrix = confusion_matrix(y_validation,preds)\n",
        "    digit_accuracy = accuracy_per_digit(conf_matrix)\n",
        "    recall, precision, f1 = f1_score(conf_matrix)\n",
        "    performance_log.append((i,j.__name__,matrix_accuracy(conf_matrix),digit_accuracy[number_to_focus-1],walltime,recall[number_to_focus-1], precision[number_to_focus-1], f1[number_to_focus-1]))\n",
        "\n",
        "  for i in range(1,max_k):\n",
        "   \n",
        "    for j in distance_functions:\n",
        "      if i < 3:\n",
        "        print(f'{\"-\"*30}')\n",
        "        print(f'I. Begin run at k: {i} using distance function: < {j.__name__}>')  \n",
        "  \n",
        "        begin = time.time()\n",
        "        preds = knn_predict(X_train, y_train, X_validation, k=i, distance_func=j)\n",
        "        walltime = round(time.time() - begin,2)\n",
        "        print(f'II. Run KNN training wall time {walltime} seconds')\n",
        "        conf_matrix = confusion_matrix(y_validation,preds)\n",
        "    \n",
        "        print(f'III. Matrix Accuracy: {matrix_accuracy(conf_matrix)}')\n",
        "      \n",
        "        digit_accuracy = accuracy_per_digit(conf_matrix)\n",
        "        recall, precision, f1 = f1_score(conf_matrix)\n",
        "        performance_log.append((i,\n",
        "                                j.__name__,\n",
        "                                matrix_accuracy(conf_matrix),\n",
        "                                digit_accuracy[number_to_focus-1],\n",
        "                                walltime,\n",
        "                                recall[number_to_focus-1],precision[number_to_focus-1],f1[number_to_focus-1]))\n",
        "        print(f'IV. Digit Accuracy of number {number_to_focus}: {digit_accuracy[number_to_focus-1]}')\n",
        "      elif i == 3:\n",
        "        print('...cont....')\n",
        "      else:\n",
        "       run()\n",
        "\n",
        "  return performance_log"
      ],
      "metadata": {
        "colab": {
          "base_uri": "https://localhost:8080/"
        },
        "id": "cz413K5qYQG0",
        "outputId": "6142a37a-6e3b-4ae9-a657-46d06ad7b248"
      },
      "execution_count": 98,
      "outputs": [
        {
          "output_type": "stream",
          "name": "stdout",
          "text": [
            "X_train shape: (8000, 784)\n",
            "y_train shape: (8000,)\n",
            "X_validation shape: (1000, 784)\n",
            "y_validation shape: (1000,)\n",
            "X_test shape: (1000, 784)\n",
            "y_test shape: (1000,)\n"
          ]
        }
      ]
    },
    {
      "cell_type": "code",
      "source": [
        "grid_performance = grid_find_best(X_train, y_train, X_validation, y_validation, X_test, y_test, max_k=20, number_to_focus=3)"
      ],
      "metadata": {
        "colab": {
          "base_uri": "https://localhost:8080/"
        },
        "id": "d-gb6FuLYR_M",
        "outputId": "ed376830-d9d9-41dd-9ab8-4ac58fd37a16"
      },
      "execution_count": 99,
      "outputs": [
        {
          "output_type": "stream",
          "name": "stdout",
          "text": [
            "------------------------------\n",
            "I. Begin run at k: 1 using distance function: < calc_euclidean_dist>\n",
            "II. Run KNN training wall time 109.72 seconds\n",
            "III. Matrix Accuracy: 0.942\n",
            "IV. Digit Accuracy of number 3: 0.9368421052631579\n",
            "------------------------------\n",
            "I. Begin run at k: 1 using distance function: < calc_manhattan_dist>\n",
            "II. Run KNN training wall time 84.3 seconds\n",
            "III. Matrix Accuracy: 0.934\n",
            "IV. Digit Accuracy of number 3: 0.9052631578947369\n",
            "------------------------------\n",
            "I. Begin run at k: 2 using distance function: < calc_euclidean_dist>\n",
            "II. Run KNN training wall time 104.69 seconds\n",
            "III. Matrix Accuracy: 0.93\n",
            "IV. Digit Accuracy of number 3: 0.9473684210526315\n",
            "------------------------------\n",
            "I. Begin run at k: 2 using distance function: < calc_manhattan_dist>\n",
            "II. Run KNN training wall time 83.82 seconds\n",
            "III. Matrix Accuracy: 0.915\n",
            "IV. Digit Accuracy of number 3: 0.8947368421052632\n",
            "...cont....\n",
            "...cont....\n"
          ]
        }
      ]
    },
    {
      "cell_type": "code",
      "source": [
        "perf = pd.DataFrame(grid_performance, columns=['k', 'distance', 'accuracy', 'digit_accuracy','walltime_secs', 'recall','precision','f1'])\n",
        "perf"
      ],
      "metadata": {
        "id": "cOaUD3EI23Rh",
        "colab": {
          "base_uri": "https://localhost:8080/",
          "height": 1000
        },
        "outputId": "bcdf9a56-d75e-4be2-c7b6-ae5611a42897"
      },
      "execution_count": 110,
      "outputs": [
        {
          "output_type": "execute_result",
          "data": {
            "text/plain": [
              "     k             distance  accuracy  digit_accuracy  walltime_secs  \\\n",
              "0    1  calc_euclidean_dist     0.942        0.936842         109.72   \n",
              "1    1  calc_manhattan_dist     0.934        0.905263          84.30   \n",
              "2    2  calc_euclidean_dist     0.930        0.947368         104.69   \n",
              "3    2  calc_manhattan_dist     0.915        0.894737          83.82   \n",
              "4    4  calc_euclidean_dist     0.934        0.905263         111.77   \n",
              "5    4  calc_manhattan_dist     0.923        0.884211          83.71   \n",
              "6    5  calc_euclidean_dist     0.940        0.894737         109.73   \n",
              "7    5  calc_manhattan_dist     0.930        0.884211          81.12   \n",
              "8    6  calc_euclidean_dist     0.936        0.894737         103.43   \n",
              "9    6  calc_manhattan_dist     0.928        0.894737          81.15   \n",
              "10   7  calc_euclidean_dist     0.937        0.894737         103.37   \n",
              "11   7  calc_manhattan_dist     0.920        0.863158          81.46   \n",
              "12   8  calc_euclidean_dist     0.937        0.894737         103.81   \n",
              "13   8  calc_manhattan_dist     0.922        0.873684          81.02   \n",
              "14   9  calc_euclidean_dist     0.934        0.884211         103.76   \n",
              "15   9  calc_manhattan_dist     0.923        0.873684          81.13   \n",
              "16  10  calc_euclidean_dist     0.937        0.894737         103.45   \n",
              "17  10  calc_manhattan_dist     0.923        0.873684          80.68   \n",
              "18  11  calc_euclidean_dist     0.935        0.894737         103.93   \n",
              "19  11  calc_manhattan_dist     0.917        0.863158          81.34   \n",
              "20  12  calc_euclidean_dist     0.936        0.873684         103.68   \n",
              "21  12  calc_manhattan_dist     0.913        0.821053          81.26   \n",
              "22  13  calc_euclidean_dist     0.933        0.863158         103.66   \n",
              "23  13  calc_manhattan_dist     0.916        0.842105          81.13   \n",
              "24  14  calc_euclidean_dist     0.930        0.852632         103.95   \n",
              "25  14  calc_manhattan_dist     0.917        0.842105          81.16   \n",
              "26  15  calc_euclidean_dist     0.931        0.863158         103.68   \n",
              "27  15  calc_manhattan_dist     0.920        0.842105          81.08   \n",
              "28  16  calc_euclidean_dist     0.928        0.852632         103.65   \n",
              "29  16  calc_manhattan_dist     0.913        0.810526          81.56   \n",
              "30  17  calc_euclidean_dist     0.928        0.852632         103.74   \n",
              "31  17  calc_manhattan_dist     0.915        0.821053          81.54   \n",
              "32  18  calc_euclidean_dist     0.925        0.842105         103.96   \n",
              "33  18  calc_manhattan_dist     0.911        0.810526          81.55   \n",
              "34  19  calc_euclidean_dist     0.925        0.852632         103.82   \n",
              "35  19  calc_manhattan_dist     0.914        0.810526          81.15   \n",
              "\n",
              "      recall  precision        f1  \n",
              "0   0.936842   0.988889  0.962162  \n",
              "1   0.905263   0.988506  0.945055  \n",
              "2   0.947368   0.967742  0.957447  \n",
              "3   0.894737   0.955056  0.923913  \n",
              "4   0.905263   0.955556  0.929730  \n",
              "5   0.884211   0.954545  0.918033  \n",
              "6   0.894737   0.965909  0.928962  \n",
              "7   0.884211   0.988235  0.933333  \n",
              "8   0.894737   0.965909  0.928962  \n",
              "9   0.894737   0.977011  0.934066  \n",
              "10  0.894737   0.965909  0.928962  \n",
              "11  0.863158   0.976190  0.916201  \n",
              "12  0.894737   0.955056  0.923913  \n",
              "13  0.873684   0.965116  0.917127  \n",
              "14  0.884211   0.965517  0.923077  \n",
              "15  0.873684   0.976471  0.922222  \n",
              "16  0.894737   0.965909  0.928962  \n",
              "17  0.873684   0.976471  0.922222  \n",
              "18  0.894737   0.965909  0.928962  \n",
              "19  0.863158   0.964706  0.911111  \n",
              "20  0.873684   0.988095  0.927374  \n",
              "21  0.821053   0.975000  0.891429  \n",
              "22  0.863158   0.976190  0.916201  \n",
              "23  0.842105   0.987654  0.909091  \n",
              "24  0.852632   0.975904  0.910112  \n",
              "25  0.842105   0.963855  0.898876  \n",
              "26  0.863158   0.976190  0.916201  \n",
              "27  0.842105   0.987654  0.909091  \n",
              "28  0.852632   0.975904  0.910112  \n",
              "29  0.810526   0.987179  0.890173  \n",
              "30  0.852632   0.975904  0.910112  \n",
              "31  0.821053   0.975000  0.891429  \n",
              "32  0.842105   0.975610  0.903955  \n",
              "33  0.810526   0.987179  0.890173  \n",
              "34  0.852632   0.975904  0.910112  \n",
              "35  0.810526   1.000000  0.895349  "
            ],
            "text/html": [
              "\n",
              "  <div id=\"df-2c2f638a-1231-4239-814d-ca4490ec73c4\">\n",
              "    <div class=\"colab-df-container\">\n",
              "      <div>\n",
              "<style scoped>\n",
              "    .dataframe tbody tr th:only-of-type {\n",
              "        vertical-align: middle;\n",
              "    }\n",
              "\n",
              "    .dataframe tbody tr th {\n",
              "        vertical-align: top;\n",
              "    }\n",
              "\n",
              "    .dataframe thead th {\n",
              "        text-align: right;\n",
              "    }\n",
              "</style>\n",
              "<table border=\"1\" class=\"dataframe\">\n",
              "  <thead>\n",
              "    <tr style=\"text-align: right;\">\n",
              "      <th></th>\n",
              "      <th>k</th>\n",
              "      <th>distance</th>\n",
              "      <th>accuracy</th>\n",
              "      <th>digit_accuracy</th>\n",
              "      <th>walltime_secs</th>\n",
              "      <th>recall</th>\n",
              "      <th>precision</th>\n",
              "      <th>f1</th>\n",
              "    </tr>\n",
              "  </thead>\n",
              "  <tbody>\n",
              "    <tr>\n",
              "      <th>0</th>\n",
              "      <td>1</td>\n",
              "      <td>calc_euclidean_dist</td>\n",
              "      <td>0.942</td>\n",
              "      <td>0.936842</td>\n",
              "      <td>109.72</td>\n",
              "      <td>0.936842</td>\n",
              "      <td>0.988889</td>\n",
              "      <td>0.962162</td>\n",
              "    </tr>\n",
              "    <tr>\n",
              "      <th>1</th>\n",
              "      <td>1</td>\n",
              "      <td>calc_manhattan_dist</td>\n",
              "      <td>0.934</td>\n",
              "      <td>0.905263</td>\n",
              "      <td>84.30</td>\n",
              "      <td>0.905263</td>\n",
              "      <td>0.988506</td>\n",
              "      <td>0.945055</td>\n",
              "    </tr>\n",
              "    <tr>\n",
              "      <th>2</th>\n",
              "      <td>2</td>\n",
              "      <td>calc_euclidean_dist</td>\n",
              "      <td>0.930</td>\n",
              "      <td>0.947368</td>\n",
              "      <td>104.69</td>\n",
              "      <td>0.947368</td>\n",
              "      <td>0.967742</td>\n",
              "      <td>0.957447</td>\n",
              "    </tr>\n",
              "    <tr>\n",
              "      <th>3</th>\n",
              "      <td>2</td>\n",
              "      <td>calc_manhattan_dist</td>\n",
              "      <td>0.915</td>\n",
              "      <td>0.894737</td>\n",
              "      <td>83.82</td>\n",
              "      <td>0.894737</td>\n",
              "      <td>0.955056</td>\n",
              "      <td>0.923913</td>\n",
              "    </tr>\n",
              "    <tr>\n",
              "      <th>4</th>\n",
              "      <td>4</td>\n",
              "      <td>calc_euclidean_dist</td>\n",
              "      <td>0.934</td>\n",
              "      <td>0.905263</td>\n",
              "      <td>111.77</td>\n",
              "      <td>0.905263</td>\n",
              "      <td>0.955556</td>\n",
              "      <td>0.929730</td>\n",
              "    </tr>\n",
              "    <tr>\n",
              "      <th>5</th>\n",
              "      <td>4</td>\n",
              "      <td>calc_manhattan_dist</td>\n",
              "      <td>0.923</td>\n",
              "      <td>0.884211</td>\n",
              "      <td>83.71</td>\n",
              "      <td>0.884211</td>\n",
              "      <td>0.954545</td>\n",
              "      <td>0.918033</td>\n",
              "    </tr>\n",
              "    <tr>\n",
              "      <th>6</th>\n",
              "      <td>5</td>\n",
              "      <td>calc_euclidean_dist</td>\n",
              "      <td>0.940</td>\n",
              "      <td>0.894737</td>\n",
              "      <td>109.73</td>\n",
              "      <td>0.894737</td>\n",
              "      <td>0.965909</td>\n",
              "      <td>0.928962</td>\n",
              "    </tr>\n",
              "    <tr>\n",
              "      <th>7</th>\n",
              "      <td>5</td>\n",
              "      <td>calc_manhattan_dist</td>\n",
              "      <td>0.930</td>\n",
              "      <td>0.884211</td>\n",
              "      <td>81.12</td>\n",
              "      <td>0.884211</td>\n",
              "      <td>0.988235</td>\n",
              "      <td>0.933333</td>\n",
              "    </tr>\n",
              "    <tr>\n",
              "      <th>8</th>\n",
              "      <td>6</td>\n",
              "      <td>calc_euclidean_dist</td>\n",
              "      <td>0.936</td>\n",
              "      <td>0.894737</td>\n",
              "      <td>103.43</td>\n",
              "      <td>0.894737</td>\n",
              "      <td>0.965909</td>\n",
              "      <td>0.928962</td>\n",
              "    </tr>\n",
              "    <tr>\n",
              "      <th>9</th>\n",
              "      <td>6</td>\n",
              "      <td>calc_manhattan_dist</td>\n",
              "      <td>0.928</td>\n",
              "      <td>0.894737</td>\n",
              "      <td>81.15</td>\n",
              "      <td>0.894737</td>\n",
              "      <td>0.977011</td>\n",
              "      <td>0.934066</td>\n",
              "    </tr>\n",
              "    <tr>\n",
              "      <th>10</th>\n",
              "      <td>7</td>\n",
              "      <td>calc_euclidean_dist</td>\n",
              "      <td>0.937</td>\n",
              "      <td>0.894737</td>\n",
              "      <td>103.37</td>\n",
              "      <td>0.894737</td>\n",
              "      <td>0.965909</td>\n",
              "      <td>0.928962</td>\n",
              "    </tr>\n",
              "    <tr>\n",
              "      <th>11</th>\n",
              "      <td>7</td>\n",
              "      <td>calc_manhattan_dist</td>\n",
              "      <td>0.920</td>\n",
              "      <td>0.863158</td>\n",
              "      <td>81.46</td>\n",
              "      <td>0.863158</td>\n",
              "      <td>0.976190</td>\n",
              "      <td>0.916201</td>\n",
              "    </tr>\n",
              "    <tr>\n",
              "      <th>12</th>\n",
              "      <td>8</td>\n",
              "      <td>calc_euclidean_dist</td>\n",
              "      <td>0.937</td>\n",
              "      <td>0.894737</td>\n",
              "      <td>103.81</td>\n",
              "      <td>0.894737</td>\n",
              "      <td>0.955056</td>\n",
              "      <td>0.923913</td>\n",
              "    </tr>\n",
              "    <tr>\n",
              "      <th>13</th>\n",
              "      <td>8</td>\n",
              "      <td>calc_manhattan_dist</td>\n",
              "      <td>0.922</td>\n",
              "      <td>0.873684</td>\n",
              "      <td>81.02</td>\n",
              "      <td>0.873684</td>\n",
              "      <td>0.965116</td>\n",
              "      <td>0.917127</td>\n",
              "    </tr>\n",
              "    <tr>\n",
              "      <th>14</th>\n",
              "      <td>9</td>\n",
              "      <td>calc_euclidean_dist</td>\n",
              "      <td>0.934</td>\n",
              "      <td>0.884211</td>\n",
              "      <td>103.76</td>\n",
              "      <td>0.884211</td>\n",
              "      <td>0.965517</td>\n",
              "      <td>0.923077</td>\n",
              "    </tr>\n",
              "    <tr>\n",
              "      <th>15</th>\n",
              "      <td>9</td>\n",
              "      <td>calc_manhattan_dist</td>\n",
              "      <td>0.923</td>\n",
              "      <td>0.873684</td>\n",
              "      <td>81.13</td>\n",
              "      <td>0.873684</td>\n",
              "      <td>0.976471</td>\n",
              "      <td>0.922222</td>\n",
              "    </tr>\n",
              "    <tr>\n",
              "      <th>16</th>\n",
              "      <td>10</td>\n",
              "      <td>calc_euclidean_dist</td>\n",
              "      <td>0.937</td>\n",
              "      <td>0.894737</td>\n",
              "      <td>103.45</td>\n",
              "      <td>0.894737</td>\n",
              "      <td>0.965909</td>\n",
              "      <td>0.928962</td>\n",
              "    </tr>\n",
              "    <tr>\n",
              "      <th>17</th>\n",
              "      <td>10</td>\n",
              "      <td>calc_manhattan_dist</td>\n",
              "      <td>0.923</td>\n",
              "      <td>0.873684</td>\n",
              "      <td>80.68</td>\n",
              "      <td>0.873684</td>\n",
              "      <td>0.976471</td>\n",
              "      <td>0.922222</td>\n",
              "    </tr>\n",
              "    <tr>\n",
              "      <th>18</th>\n",
              "      <td>11</td>\n",
              "      <td>calc_euclidean_dist</td>\n",
              "      <td>0.935</td>\n",
              "      <td>0.894737</td>\n",
              "      <td>103.93</td>\n",
              "      <td>0.894737</td>\n",
              "      <td>0.965909</td>\n",
              "      <td>0.928962</td>\n",
              "    </tr>\n",
              "    <tr>\n",
              "      <th>19</th>\n",
              "      <td>11</td>\n",
              "      <td>calc_manhattan_dist</td>\n",
              "      <td>0.917</td>\n",
              "      <td>0.863158</td>\n",
              "      <td>81.34</td>\n",
              "      <td>0.863158</td>\n",
              "      <td>0.964706</td>\n",
              "      <td>0.911111</td>\n",
              "    </tr>\n",
              "    <tr>\n",
              "      <th>20</th>\n",
              "      <td>12</td>\n",
              "      <td>calc_euclidean_dist</td>\n",
              "      <td>0.936</td>\n",
              "      <td>0.873684</td>\n",
              "      <td>103.68</td>\n",
              "      <td>0.873684</td>\n",
              "      <td>0.988095</td>\n",
              "      <td>0.927374</td>\n",
              "    </tr>\n",
              "    <tr>\n",
              "      <th>21</th>\n",
              "      <td>12</td>\n",
              "      <td>calc_manhattan_dist</td>\n",
              "      <td>0.913</td>\n",
              "      <td>0.821053</td>\n",
              "      <td>81.26</td>\n",
              "      <td>0.821053</td>\n",
              "      <td>0.975000</td>\n",
              "      <td>0.891429</td>\n",
              "    </tr>\n",
              "    <tr>\n",
              "      <th>22</th>\n",
              "      <td>13</td>\n",
              "      <td>calc_euclidean_dist</td>\n",
              "      <td>0.933</td>\n",
              "      <td>0.863158</td>\n",
              "      <td>103.66</td>\n",
              "      <td>0.863158</td>\n",
              "      <td>0.976190</td>\n",
              "      <td>0.916201</td>\n",
              "    </tr>\n",
              "    <tr>\n",
              "      <th>23</th>\n",
              "      <td>13</td>\n",
              "      <td>calc_manhattan_dist</td>\n",
              "      <td>0.916</td>\n",
              "      <td>0.842105</td>\n",
              "      <td>81.13</td>\n",
              "      <td>0.842105</td>\n",
              "      <td>0.987654</td>\n",
              "      <td>0.909091</td>\n",
              "    </tr>\n",
              "    <tr>\n",
              "      <th>24</th>\n",
              "      <td>14</td>\n",
              "      <td>calc_euclidean_dist</td>\n",
              "      <td>0.930</td>\n",
              "      <td>0.852632</td>\n",
              "      <td>103.95</td>\n",
              "      <td>0.852632</td>\n",
              "      <td>0.975904</td>\n",
              "      <td>0.910112</td>\n",
              "    </tr>\n",
              "    <tr>\n",
              "      <th>25</th>\n",
              "      <td>14</td>\n",
              "      <td>calc_manhattan_dist</td>\n",
              "      <td>0.917</td>\n",
              "      <td>0.842105</td>\n",
              "      <td>81.16</td>\n",
              "      <td>0.842105</td>\n",
              "      <td>0.963855</td>\n",
              "      <td>0.898876</td>\n",
              "    </tr>\n",
              "    <tr>\n",
              "      <th>26</th>\n",
              "      <td>15</td>\n",
              "      <td>calc_euclidean_dist</td>\n",
              "      <td>0.931</td>\n",
              "      <td>0.863158</td>\n",
              "      <td>103.68</td>\n",
              "      <td>0.863158</td>\n",
              "      <td>0.976190</td>\n",
              "      <td>0.916201</td>\n",
              "    </tr>\n",
              "    <tr>\n",
              "      <th>27</th>\n",
              "      <td>15</td>\n",
              "      <td>calc_manhattan_dist</td>\n",
              "      <td>0.920</td>\n",
              "      <td>0.842105</td>\n",
              "      <td>81.08</td>\n",
              "      <td>0.842105</td>\n",
              "      <td>0.987654</td>\n",
              "      <td>0.909091</td>\n",
              "    </tr>\n",
              "    <tr>\n",
              "      <th>28</th>\n",
              "      <td>16</td>\n",
              "      <td>calc_euclidean_dist</td>\n",
              "      <td>0.928</td>\n",
              "      <td>0.852632</td>\n",
              "      <td>103.65</td>\n",
              "      <td>0.852632</td>\n",
              "      <td>0.975904</td>\n",
              "      <td>0.910112</td>\n",
              "    </tr>\n",
              "    <tr>\n",
              "      <th>29</th>\n",
              "      <td>16</td>\n",
              "      <td>calc_manhattan_dist</td>\n",
              "      <td>0.913</td>\n",
              "      <td>0.810526</td>\n",
              "      <td>81.56</td>\n",
              "      <td>0.810526</td>\n",
              "      <td>0.987179</td>\n",
              "      <td>0.890173</td>\n",
              "    </tr>\n",
              "    <tr>\n",
              "      <th>30</th>\n",
              "      <td>17</td>\n",
              "      <td>calc_euclidean_dist</td>\n",
              "      <td>0.928</td>\n",
              "      <td>0.852632</td>\n",
              "      <td>103.74</td>\n",
              "      <td>0.852632</td>\n",
              "      <td>0.975904</td>\n",
              "      <td>0.910112</td>\n",
              "    </tr>\n",
              "    <tr>\n",
              "      <th>31</th>\n",
              "      <td>17</td>\n",
              "      <td>calc_manhattan_dist</td>\n",
              "      <td>0.915</td>\n",
              "      <td>0.821053</td>\n",
              "      <td>81.54</td>\n",
              "      <td>0.821053</td>\n",
              "      <td>0.975000</td>\n",
              "      <td>0.891429</td>\n",
              "    </tr>\n",
              "    <tr>\n",
              "      <th>32</th>\n",
              "      <td>18</td>\n",
              "      <td>calc_euclidean_dist</td>\n",
              "      <td>0.925</td>\n",
              "      <td>0.842105</td>\n",
              "      <td>103.96</td>\n",
              "      <td>0.842105</td>\n",
              "      <td>0.975610</td>\n",
              "      <td>0.903955</td>\n",
              "    </tr>\n",
              "    <tr>\n",
              "      <th>33</th>\n",
              "      <td>18</td>\n",
              "      <td>calc_manhattan_dist</td>\n",
              "      <td>0.911</td>\n",
              "      <td>0.810526</td>\n",
              "      <td>81.55</td>\n",
              "      <td>0.810526</td>\n",
              "      <td>0.987179</td>\n",
              "      <td>0.890173</td>\n",
              "    </tr>\n",
              "    <tr>\n",
              "      <th>34</th>\n",
              "      <td>19</td>\n",
              "      <td>calc_euclidean_dist</td>\n",
              "      <td>0.925</td>\n",
              "      <td>0.852632</td>\n",
              "      <td>103.82</td>\n",
              "      <td>0.852632</td>\n",
              "      <td>0.975904</td>\n",
              "      <td>0.910112</td>\n",
              "    </tr>\n",
              "    <tr>\n",
              "      <th>35</th>\n",
              "      <td>19</td>\n",
              "      <td>calc_manhattan_dist</td>\n",
              "      <td>0.914</td>\n",
              "      <td>0.810526</td>\n",
              "      <td>81.15</td>\n",
              "      <td>0.810526</td>\n",
              "      <td>1.000000</td>\n",
              "      <td>0.895349</td>\n",
              "    </tr>\n",
              "  </tbody>\n",
              "</table>\n",
              "</div>\n",
              "      <button class=\"colab-df-convert\" onclick=\"convertToInteractive('df-2c2f638a-1231-4239-814d-ca4490ec73c4')\"\n",
              "              title=\"Convert this dataframe to an interactive table.\"\n",
              "              style=\"display:none;\">\n",
              "        \n",
              "  <svg xmlns=\"http://www.w3.org/2000/svg\" height=\"24px\"viewBox=\"0 0 24 24\"\n",
              "       width=\"24px\">\n",
              "    <path d=\"M0 0h24v24H0V0z\" fill=\"none\"/>\n",
              "    <path d=\"M18.56 5.44l.94 2.06.94-2.06 2.06-.94-2.06-.94-.94-2.06-.94 2.06-2.06.94zm-11 1L8.5 8.5l.94-2.06 2.06-.94-2.06-.94L8.5 2.5l-.94 2.06-2.06.94zm10 10l.94 2.06.94-2.06 2.06-.94-2.06-.94-.94-2.06-.94 2.06-2.06.94z\"/><path d=\"M17.41 7.96l-1.37-1.37c-.4-.4-.92-.59-1.43-.59-.52 0-1.04.2-1.43.59L10.3 9.45l-7.72 7.72c-.78.78-.78 2.05 0 2.83L4 21.41c.39.39.9.59 1.41.59.51 0 1.02-.2 1.41-.59l7.78-7.78 2.81-2.81c.8-.78.8-2.07 0-2.86zM5.41 20L4 18.59l7.72-7.72 1.47 1.35L5.41 20z\"/>\n",
              "  </svg>\n",
              "      </button>\n",
              "      \n",
              "  <style>\n",
              "    .colab-df-container {\n",
              "      display:flex;\n",
              "      flex-wrap:wrap;\n",
              "      gap: 12px;\n",
              "    }\n",
              "\n",
              "    .colab-df-convert {\n",
              "      background-color: #E8F0FE;\n",
              "      border: none;\n",
              "      border-radius: 50%;\n",
              "      cursor: pointer;\n",
              "      display: none;\n",
              "      fill: #1967D2;\n",
              "      height: 32px;\n",
              "      padding: 0 0 0 0;\n",
              "      width: 32px;\n",
              "    }\n",
              "\n",
              "    .colab-df-convert:hover {\n",
              "      background-color: #E2EBFA;\n",
              "      box-shadow: 0px 1px 2px rgba(60, 64, 67, 0.3), 0px 1px 3px 1px rgba(60, 64, 67, 0.15);\n",
              "      fill: #174EA6;\n",
              "    }\n",
              "\n",
              "    [theme=dark] .colab-df-convert {\n",
              "      background-color: #3B4455;\n",
              "      fill: #D2E3FC;\n",
              "    }\n",
              "\n",
              "    [theme=dark] .colab-df-convert:hover {\n",
              "      background-color: #434B5C;\n",
              "      box-shadow: 0px 1px 3px 1px rgba(0, 0, 0, 0.15);\n",
              "      filter: drop-shadow(0px 1px 2px rgba(0, 0, 0, 0.3));\n",
              "      fill: #FFFFFF;\n",
              "    }\n",
              "  </style>\n",
              "\n",
              "      <script>\n",
              "        const buttonEl =\n",
              "          document.querySelector('#df-2c2f638a-1231-4239-814d-ca4490ec73c4 button.colab-df-convert');\n",
              "        buttonEl.style.display =\n",
              "          google.colab.kernel.accessAllowed ? 'block' : 'none';\n",
              "\n",
              "        async function convertToInteractive(key) {\n",
              "          const element = document.querySelector('#df-2c2f638a-1231-4239-814d-ca4490ec73c4');\n",
              "          const dataTable =\n",
              "            await google.colab.kernel.invokeFunction('convertToInteractive',\n",
              "                                                     [key], {});\n",
              "          if (!dataTable) return;\n",
              "\n",
              "          const docLinkHtml = 'Like what you see? Visit the ' +\n",
              "            '<a target=\"_blank\" href=https://colab.research.google.com/notebooks/data_table.ipynb>data table notebook</a>'\n",
              "            + ' to learn more about interactive tables.';\n",
              "          element.innerHTML = '';\n",
              "          dataTable['output_type'] = 'display_data';\n",
              "          await google.colab.output.renderOutput(dataTable, element);\n",
              "          const docLink = document.createElement('div');\n",
              "          docLink.innerHTML = docLinkHtml;\n",
              "          element.appendChild(docLink);\n",
              "        }\n",
              "      </script>\n",
              "    </div>\n",
              "  </div>\n",
              "  "
            ]
          },
          "metadata": {},
          "execution_count": 110
        }
      ]
    },
    {
      "cell_type": "code",
      "source": [
        "import pickle\n",
        "\n",
        "save_path = '/content/drive/MyDrive/DATA_STORE/mnist_perf_params_1k_samples.pkl'\n",
        "pickle.dump(perf,open(save_path, 'wb'))\n"
      ],
      "metadata": {
        "id": "E1UIHQicuwgm"
      },
      "execution_count": 111,
      "outputs": []
    },
    {
      "cell_type": "code",
      "source": [
        "performance_reload = pickle.load(open(save_path, 'rb'))\n",
        "perf = performance_reload"
      ],
      "metadata": {
        "id": "lWnqM6eRvkHa"
      },
      "execution_count": 112,
      "outputs": []
    },
    {
      "cell_type": "code",
      "source": [
        "sns.lineplot(x='k', y='digit_accuracy', data=perf, hue='distance')\n",
        "plt.xticks(np.arange(1, 20, 1.0))\n",
        "plt.title('Digit Accuracy vs K');"
      ],
      "metadata": {
        "colab": {
          "base_uri": "https://localhost:8080/",
          "height": 295
        },
        "id": "2kO2xG4aj_y8",
        "outputId": "936e2d78-ec52-47a9-b406-8ab53393c024"
      },
      "execution_count": 113,
      "outputs": [
        {
          "output_type": "display_data",
          "data": {
            "text/plain": [
              "<Figure size 432x288 with 1 Axes>"
            ],
            "image/png": "[encoded data removed]"
          },
          "metadata": {
            "needs_background": "light"
          }
        }
      ]
    },
    {
      "cell_type": "code",
      "source": [
        "sns.lineplot(x='k', y='accuracy', data=perf, hue='distance')\n",
        "plt.xticks(np.arange(1, 20, 1.0))\n",
        "plt.title('Overall Accuracy vs K');"
      ],
      "metadata": {
        "colab": {
          "base_uri": "https://localhost:8080/",
          "height": 295
        },
        "id": "y-A6-gIYiAkI",
        "outputId": "544a5335-579e-4517-ecfa-1b5b05660399"
      },
      "execution_count": 114,
      "outputs": [
        {
          "output_type": "display_data",
          "data": {
            "text/plain": [
              "<Figure size 432x288 with 1 Axes>"
            ],
            "image/png": "[encoded data removed]"
          },
          "metadata": {
            "needs_background": "light"
          }
        }
      ]
    },
    {
      "cell_type": "markdown",
      "source": [
        "\n",
        "--- \n",
        "\n",
        "**Final Model Evaluation**\n",
        "\n",
        "---"
      ],
      "metadata": {
        "id": "NR0cT5KxuQG1"
      }
    },
    {
      "cell_type": "markdown",
      "source": [
        "- based on validation data, the best parameters to pick for knn of sample size 10k evenly distributed images is K = 1 with a euclidean distance mode of calculating distances.\n",
        "- This yields the highest accuracy for our validation set but has a higher runtime compared to using to the manhattan distance\n",
        "- at K=3 using Euclidean distance, classifying the number **'3'** appears to yield the highest accurate prediction "
      ],
      "metadata": {
        "id": "MhWjTQi39Ycl"
      }
    },
    {
      "cell_type": "markdown",
      "source": [
        "\n",
        "**running the model against the testing holdout set**"
      ],
      "metadata": {
        "id": "9P-G34ps6biU"
      }
    },
    {
      "cell_type": "code",
      "source": [
        "preds, cm, actual = run(X_train, y_train, X_test, y_test,k=1,distance_function= calc_euclidean_dist)"
      ],
      "metadata": {
        "colab": {
          "base_uri": "https://localhost:8080/"
        },
        "id": "gdUX4ruTioUM",
        "outputId": "84a23eed-fc7c-4499-8123-541d14265518"
      },
      "execution_count": 115,
      "outputs": [
        {
          "output_type": "stream",
          "name": "stdout",
          "text": [
            "------------------------------\n",
            "\n",
            "I. Begin run at k: 1 using distance function: < calc_euclidean_dist>\n",
            "\n",
            "II. Run KNN training wall time 102.88 seconds\n",
            "\n",
            "\n",
            "III. Confusion Matrix\n",
            "\n",
            "[[ 88   0   0   0   0   1   0   0   0   0]\n",
            " [  0  97   0   0   0   0   0   1   0   1]\n",
            " [  0   1  90   1   0   0   0   2   1   0]\n",
            " [  0   0   0  86   0   1   0   1   5   1]\n",
            " [  0   1   0   0  94   0   1   2   0   5]\n",
            " [  0   0   0   3   1 101   1   0   1   1]\n",
            " [  1   0   0   0   0   2  92   0   1   0]\n",
            " [  0   1   0   0   0   0   0  92   0   2]\n",
            " [  2   4   1   3   0   0   0   0  95   3]\n",
            " [  1   0   0   0   5   0   0   7   0 100]]\n",
            "\n",
            "IV. Matrix Accuracy: 0.935\n",
            "\n",
            "\n",
            "V. Digit Accuracy: [0.98876404 0.97979798 0.94736842 0.91489362 0.91262136 0.93518519\n",
            " 0.95833333 0.96842105 0.87962963 0.88495575]\n",
            "\n",
            "------------------------------\n",
            "\n",
            "VI. Digit Precision: [0.95652174 0.93269231 0.98901099 0.92473118 0.94       0.96190476\n",
            " 0.9787234  0.87619048 0.9223301  0.88495575]\n",
            "\n",
            "Digit Recall: [0.98876404 0.97979798 0.94736842 0.91489362 0.91262136 0.93518519\n",
            " 0.95833333 0.96842105 0.87962963 0.88495575]\n",
            "\n",
            "Digit F1 Score [0.97237569 0.95566502 0.96774194 0.9197861  0.92610837 0.94835681\n",
            " 0.96842105 0.92       0.90047393 0.88495575]\n"
          ]
        }
      ]
    },
    {
      "cell_type": "code",
      "source": [
        "#validation decision to use k = 1 with it's digit accuracy\n",
        "perf.loc[:3]"
      ],
      "metadata": {
        "colab": {
          "base_uri": "https://localhost:8080/",
          "height": 175
        },
        "id": "AebnB93iGpvw",
        "outputId": "69af329d-5330-4ea5-c6a8-d0deb51d3f5e"
      },
      "execution_count": 117,
      "outputs": [
        {
          "output_type": "execute_result",
          "data": {
            "text/plain": [
              "   k             distance  accuracy  digit_accuracy  walltime_secs    recall  \\\n",
              "0  1  calc_euclidean_dist     0.942        0.936842         109.72  0.936842   \n",
              "1  1  calc_manhattan_dist     0.934        0.905263          84.30  0.905263   \n",
              "2  2  calc_euclidean_dist     0.930        0.947368         104.69  0.947368   \n",
              "3  2  calc_manhattan_dist     0.915        0.894737          83.82  0.894737   \n",
              "\n",
              "   precision        f1  \n",
              "0   0.988889  0.962162  \n",
              "1   0.988506  0.945055  \n",
              "2   0.967742  0.957447  \n",
              "3   0.955056  0.923913  "
            ],
            "text/html": [
              "\n",
              "  <div id=\"df-bcf716b0-3199-463b-9c27-c4256e71c837\">\n",
              "    <div class=\"colab-df-container\">\n",
              "      <div>\n",
              "<style scoped>\n",
              "    .dataframe tbody tr th:only-of-type {\n",
              "        vertical-align: middle;\n",
              "    }\n",
              "\n",
              "    .dataframe tbody tr th {\n",
              "        vertical-align: top;\n",
              "    }\n",
              "\n",
              "    .dataframe thead th {\n",
              "        text-align: right;\n",
              "    }\n",
              "</style>\n",
              "<table border=\"1\" class=\"dataframe\">\n",
              "  <thead>\n",
              "    <tr style=\"text-align: right;\">\n",
              "      <th></th>\n",
              "      <th>k</th>\n",
              "      <th>distance</th>\n",
              "      <th>accuracy</th>\n",
              "      <th>digit_accuracy</th>\n",
              "      <th>walltime_secs</th>\n",
              "      <th>recall</th>\n",
              "      <th>precision</th>\n",
              "      <th>f1</th>\n",
              "    </tr>\n",
              "  </thead>\n",
              "  <tbody>\n",
              "    <tr>\n",
              "      <th>0</th>\n",
              "      <td>1</td>\n",
              "      <td>calc_euclidean_dist</td>\n",
              "      <td>0.942</td>\n",
              "      <td>0.936842</td>\n",
              "      <td>109.72</td>\n",
              "      <td>0.936842</td>\n",
              "      <td>0.988889</td>\n",
              "      <td>0.962162</td>\n",
              "    </tr>\n",
              "    <tr>\n",
              "      <th>1</th>\n",
              "      <td>1</td>\n",
              "      <td>calc_manhattan_dist</td>\n",
              "      <td>0.934</td>\n",
              "      <td>0.905263</td>\n",
              "      <td>84.30</td>\n",
              "      <td>0.905263</td>\n",
              "      <td>0.988506</td>\n",
              "      <td>0.945055</td>\n",
              "    </tr>\n",
              "    <tr>\n",
              "      <th>2</th>\n",
              "      <td>2</td>\n",
              "      <td>calc_euclidean_dist</td>\n",
              "      <td>0.930</td>\n",
              "      <td>0.947368</td>\n",
              "      <td>104.69</td>\n",
              "      <td>0.947368</td>\n",
              "      <td>0.967742</td>\n",
              "      <td>0.957447</td>\n",
              "    </tr>\n",
              "    <tr>\n",
              "      <th>3</th>\n",
              "      <td>2</td>\n",
              "      <td>calc_manhattan_dist</td>\n",
              "      <td>0.915</td>\n",
              "      <td>0.894737</td>\n",
              "      <td>83.82</td>\n",
              "      <td>0.894737</td>\n",
              "      <td>0.955056</td>\n",
              "      <td>0.923913</td>\n",
              "    </tr>\n",
              "  </tbody>\n",
              "</table>\n",
              "</div>\n",
              "      <button class=\"colab-df-convert\" onclick=\"convertToInteractive('df-bcf716b0-3199-463b-9c27-c4256e71c837')\"\n",
              "              title=\"Convert this dataframe to an interactive table.\"\n",
              "              style=\"display:none;\">\n",
              "        \n",
              "  <svg xmlns=\"http://www.w3.org/2000/svg\" height=\"24px\"viewBox=\"0 0 24 24\"\n",
              "       width=\"24px\">\n",
              "    <path d=\"M0 0h24v24H0V0z\" fill=\"none\"/>\n",
              "    <path d=\"M18.56 5.44l.94 2.06.94-2.06 2.06-.94-2.06-.94-.94-2.06-.94 2.06-2.06.94zm-11 1L8.5 8.5l.94-2.06 2.06-.94-2.06-.94L8.5 2.5l-.94 2.06-2.06.94zm10 10l.94 2.06.94-2.06 2.06-.94-2.06-.94-.94-2.06-.94 2.06-2.06.94z\"/><path d=\"M17.41 7.96l-1.37-1.37c-.4-.4-.92-.59-1.43-.59-.52 0-1.04.2-1.43.59L10.3 9.45l-7.72 7.72c-.78.78-.78 2.05 0 2.83L4 21.41c.39.39.9.59 1.41.59.51 0 1.02-.2 1.41-.59l7.78-7.78 2.81-2.81c.8-.78.8-2.07 0-2.86zM5.41 20L4 18.59l7.72-7.72 1.47 1.35L5.41 20z\"/>\n",
              "  </svg>\n",
              "      </button>\n",
              "      \n",
              "  <style>\n",
              "    .colab-df-container {\n",
              "      display:flex;\n",
              "      flex-wrap:wrap;\n",
              "      gap: 12px;\n",
              "    }\n",
              "\n",
              "    .colab-df-convert {\n",
              "      background-color: #E8F0FE;\n",
              "      border: none;\n",
              "      border-radius: 50%;\n",
              "      cursor: pointer;\n",
              "      display: none;\n",
              "      fill: #1967D2;\n",
              "      height: 32px;\n",
              "      padding: 0 0 0 0;\n",
              "      width: 32px;\n",
              "    }\n",
              "\n",
              "    .colab-df-convert:hover {\n",
              "      background-color: #E2EBFA;\n",
              "      box-shadow: 0px 1px 2px rgba(60, 64, 67, 0.3), 0px 1px 3px 1px rgba(60, 64, 67, 0.15);\n",
              "      fill: #174EA6;\n",
              "    }\n",
              "\n",
              "    [theme=dark] .colab-df-convert {\n",
              "      background-color: #3B4455;\n",
              "      fill: #D2E3FC;\n",
              "    }\n",
              "\n",
              "    [theme=dark] .colab-df-convert:hover {\n",
              "      background-color: #434B5C;\n",
              "      box-shadow: 0px 1px 3px 1px rgba(0, 0, 0, 0.15);\n",
              "      filter: drop-shadow(0px 1px 2px rgba(0, 0, 0, 0.3));\n",
              "      fill: #FFFFFF;\n",
              "    }\n",
              "  </style>\n",
              "\n",
              "      <script>\n",
              "        const buttonEl =\n",
              "          document.querySelector('#df-bcf716b0-3199-463b-9c27-c4256e71c837 button.colab-df-convert');\n",
              "        buttonEl.style.display =\n",
              "          google.colab.kernel.accessAllowed ? 'block' : 'none';\n",
              "\n",
              "        async function convertToInteractive(key) {\n",
              "          const element = document.querySelector('#df-bcf716b0-3199-463b-9c27-c4256e71c837');\n",
              "          const dataTable =\n",
              "            await google.colab.kernel.invokeFunction('convertToInteractive',\n",
              "                                                     [key], {});\n",
              "          if (!dataTable) return;\n",
              "\n",
              "          const docLinkHtml = 'Like what you see? Visit the ' +\n",
              "            '<a target=\"_blank\" href=https://colab.research.google.com/notebooks/data_table.ipynb>data table notebook</a>'\n",
              "            + ' to learn more about interactive tables.';\n",
              "          element.innerHTML = '';\n",
              "          dataTable['output_type'] = 'display_data';\n",
              "          await google.colab.output.renderOutput(dataTable, element);\n",
              "          const docLink = document.createElement('div');\n",
              "          docLink.innerHTML = docLinkHtml;\n",
              "          element.appendChild(docLink);\n",
              "        }\n",
              "      </script>\n",
              "    </div>\n",
              "  </div>\n",
              "  "
            ]
          },
          "metadata": {},
          "execution_count": 117
        }
      ]
    },
    {
      "cell_type": "markdown",
      "source": [
        "\n",
        "**Model Runtime**\n",
        "\n",
        "- Implementation of this KNN follows a naive approach where in this experiment, the number of training samples n with m dimensions would yield an O(n x m) time complexity\n",
        "- Manhattan distance calculations perform quicker in general as seen in the grid search experiments"
      ],
      "metadata": {
        "id": "BGqJT4xTZln6"
      }
    },
    {
      "cell_type": "code",
      "source": [
        "#average_runtime of euclidean KNN's (s)\n",
        "perf.walltime_secs.mean()"
      ],
      "metadata": {
        "colab": {
          "base_uri": "https://localhost:8080/"
        },
        "id": "i2IzyVwrciCP",
        "outputId": "17c7e657-4153-4afe-b1c4-779afb7b28c1"
      },
      "execution_count": 122,
      "outputs": [
        {
          "output_type": "execute_result",
          "data": {
            "text/plain": [
              "93.27666666666669"
            ]
          },
          "metadata": {},
          "execution_count": 122
        }
      ]
    },
    {
      "cell_type": "code",
      "source": [],
      "metadata": {
        "id": "MkvsUwWlpF9y"
      },
      "execution_count": null,
      "outputs": []
    }
  ]
}