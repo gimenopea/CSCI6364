{
  "nbformat": 4,
  "nbformat_minor": 0,
  "metadata": {
    "colab": {
      "provenance": [],
      "collapsed_sections": [],
      "authorship_tag": "ABX9TyOjW4Z3PAl3bj5S6nd84+Ez",
      "include_colab_link": true
    },
    "kernelspec": {
      "name": "python3",
      "display_name": "Python 3"
    },
    "language_info": {
      "name": "python"
    }
  },
  "cells": [
    {
      "cell_type": "markdown",
      "metadata": {
        "id": "view-in-github",
        "colab_type": "text"
      },
      "source": [
        "<a href=\"https://colab.research.google.com/github/gimenopea/CSCI6364/blob/main/KNNClassifier_PaulGimeno.ipynb\" target=\"_parent\"><img src=\"https://colab.research.google.com/assets/colab-badge.svg\" alt=\"Open In Colab\"/></a>"
      ]
    },
    {
      "cell_type": "code",
      "execution_count": 36,
      "metadata": {
        "id": "i0DPPsDAtTC8"
      },
      "outputs": [],
      "source": [
        "from sklearn.neighbors import KNeighborsRegressor\n",
        "from sklearn import preprocessing"
      ]
    },
    {
      "cell_type": "code",
      "source": [
        "# games i'd play features\n",
        "\n",
        "games = [('rts', 'online'), \n",
        "         ('rts', 'offline'), \n",
        "         ('mmorpg','online'), \n",
        "         ('mmorpg','mobile'), \n",
        "         ('mmorpg','offline'), \n",
        "         ('fps','online'), \n",
        "         ('fps','offline'), \n",
        "         ('fps','mobile'),\n",
        "         ('card game','online'),\n",
        "         ('idle games','online')\n",
        "         ]\n",
        "\n",
        "play = ['yes','yes','yes','no','no','yes','no','yes','no','no']"
      ],
      "metadata": {
        "id": "J7BgvHkLX4s-"
      },
      "execution_count": 65,
      "outputs": []
    },
    {
      "cell_type": "code",
      "source": [
        "# Import LabelEncoder\n",
        "from sklearn import preprocessing\n",
        "#creating labelEncoder\n",
        "preproc = preprocessing.LabelEncoder()\n",
        "\n",
        "#We use a LabelEncoder to label strings into numerical classes to use in our model\n",
        "games_genre_encoded = preproc.fit_transform([i[0] for i in games])\n",
        "games_format_encoded = preproc.fit_transform([i[1] for i in games])\n",
        "play_encoded = preproc.fit_transform(play)"
      ],
      "metadata": {
        "id": "rYbhuZ1pZYMx"
      },
      "execution_count": 66,
      "outputs": []
    },
    {
      "cell_type": "code",
      "source": [
        "list(zip(games_genre_encoded, [i[0] for i in games]))"
      ],
      "metadata": {
        "colab": {
          "base_uri": "https://localhost:8080/"
        },
        "id": "vZ9lF4dWdN_i",
        "outputId": "fe7a850d-200f-4779-8825-4aea008af8b9"
      },
      "execution_count": 70,
      "outputs": [
        {
          "output_type": "execute_result",
          "data": {
            "text/plain": [
              "[(4, 'rts'),\n",
              " (4, 'rts'),\n",
              " (3, 'mmorpg'),\n",
              " (3, 'mmorpg'),\n",
              " (3, 'mmorpg'),\n",
              " (1, 'fps'),\n",
              " (1, 'fps'),\n",
              " (1, 'fps'),\n",
              " (0, 'card game'),\n",
              " (2, 'idle games')]"
            ]
          },
          "metadata": {},
          "execution_count": 70
        }
      ]
    },
    {
      "cell_type": "code",
      "source": [
        "list(zip(games_format_encoded, [i[1] for i in games]))"
      ],
      "metadata": {
        "colab": {
          "base_uri": "https://localhost:8080/"
        },
        "id": "w673_KBMdP3i",
        "outputId": "c264c283-9f66-4dcc-d68d-189ae534820f"
      },
      "execution_count": 71,
      "outputs": [
        {
          "output_type": "execute_result",
          "data": {
            "text/plain": [
              "[(2, 'online'),\n",
              " (1, 'offline'),\n",
              " (2, 'online'),\n",
              " (0, 'mobile'),\n",
              " (1, 'offline'),\n",
              " (2, 'online'),\n",
              " (1, 'offline'),\n",
              " (0, 'mobile'),\n",
              " (2, 'online'),\n",
              " (2, 'online')]"
            ]
          },
          "metadata": {},
          "execution_count": 71
        }
      ]
    },
    {
      "cell_type": "code",
      "source": [
        "play_encoded"
      ],
      "metadata": {
        "colab": {
          "base_uri": "https://localhost:8080/"
        },
        "id": "gtcOk9hddUHK",
        "outputId": "cb1eeb85-6bf6-4413-f686-18a4351f1da0"
      },
      "execution_count": 72,
      "outputs": [
        {
          "output_type": "execute_result",
          "data": {
            "text/plain": [
              "array([1, 1, 1, 0, 0, 1, 0, 1, 0, 0])"
            ]
          },
          "metadata": {},
          "execution_count": 72
        }
      ]
    },
    {
      "cell_type": "code",
      "source": [
        "#our features are recombined into a list of tuples so that it can be used as input into our KNeighborsRegressor function\n",
        "model_features=list(zip(games_genre_encoded,games_format_encoded))\n"
      ],
      "metadata": {
        "id": "Zgp2xMWYZc3Z"
      },
      "execution_count": 58,
      "outputs": []
    },
    {
      "cell_type": "code",
      "source": [
        "model_features"
      ],
      "metadata": {
        "colab": {
          "base_uri": "https://localhost:8080/"
        },
        "id": "uT8ueX0nZfDp",
        "outputId": "4bceda8f-54f6-4cb5-bbc1-f7c175140dc1"
      },
      "execution_count": 59,
      "outputs": [
        {
          "output_type": "execute_result",
          "data": {
            "text/plain": [
              "[(4, 2),\n",
              " (4, 1),\n",
              " (3, 2),\n",
              " (3, 0),\n",
              " (3, 1),\n",
              " (1, 2),\n",
              " (1, 1),\n",
              " (1, 0),\n",
              " (0, 2),\n",
              " (2, 2)]"
            ]
          },
          "metadata": {},
          "execution_count": 59
        }
      ]
    },
    {
      "cell_type": "code",
      "source": [
        "games_model = KNeighborsClassifier(n_neighbors=3)\n",
        "games_model.fit(model_features, play_encoded)"
      ],
      "metadata": {
        "colab": {
          "base_uri": "https://localhost:8080/"
        },
        "id": "-b9NcTOFZgAx",
        "outputId": "f473ff2a-421f-452d-b16f-5b08d25f0bd6"
      },
      "execution_count": 74,
      "outputs": [
        {
          "output_type": "execute_result",
          "data": {
            "text/plain": [
              "KNeighborsClassifier(n_neighbors=3)"
            ]
          },
          "metadata": {},
          "execution_count": 74
        }
      ]
    },
    {
      "cell_type": "code",
      "source": [
        "#predict if i'd play a card game on mobile 2: card game, 0: mobile\n",
        "predicted_card_mobile = model.predict([[2,0]])\n",
        "\n",
        "#predict if i'd play an idle game offline\n",
        "predicted_idle_offline= model.predict([[2,1]])"
      ],
      "metadata": {
        "id": "6A7ly_3ucgdz"
      },
      "execution_count": 77,
      "outputs": []
    },
    {
      "cell_type": "code",
      "source": [
        "#predicts me playing a mobile card game\n",
        "predicted_card_mobile"
      ],
      "metadata": {
        "colab": {
          "base_uri": "https://localhost:8080/"
        },
        "id": "0CuzcUxdc04H",
        "outputId": "57969956-a4f3-4218-c9e7-1df607256d3a"
      },
      "execution_count": 81,
      "outputs": [
        {
          "output_type": "execute_result",
          "data": {
            "text/plain": [
              "array([1])"
            ]
          },
          "metadata": {},
          "execution_count": 81
        }
      ]
    },
    {
      "cell_type": "code",
      "source": [
        "#predicts me playing an idle offline game\n",
        "predicted_idle_offline"
      ],
      "metadata": {
        "colab": {
          "base_uri": "https://localhost:8080/"
        },
        "id": "8vyLmq-vf-Oy",
        "outputId": "4f675f81-20e7-4ffb-a3c0-026589820b0b"
      },
      "execution_count": 82,
      "outputs": [
        {
          "output_type": "execute_result",
          "data": {
            "text/plain": [
              "array([1])"
            ]
          },
          "metadata": {},
          "execution_count": 82
        }
      ]
    },
    {
      "cell_type": "code",
      "source": [
        "# accuracy = 100%\n",
        "# precision\n",
        "# recall\n",
        "# f1\n"
      ],
      "metadata": {
        "id": "CCqa0TCngCT1"
      },
      "execution_count": 83,
      "outputs": []
    },
    {
      "cell_type": "code",
      "source": [],
      "metadata": {
        "id": "RJSD69AhgPTd"
      },
      "execution_count": null,
      "outputs": []
    }
  ]
}