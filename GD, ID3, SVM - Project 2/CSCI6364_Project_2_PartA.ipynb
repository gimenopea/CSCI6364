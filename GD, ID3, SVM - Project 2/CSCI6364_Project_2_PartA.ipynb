{
  "cells": [
    {
      "cell_type": "markdown",
      "metadata": {
        "id": "view-in-github",
        "colab_type": "text"
      },
      "source": [
        "<a href=\"https://colab.research.google.com/github/gimenopea/CSCI6364/blob/main/GD%2C%20ID3%2C%20SVM%20-%20Project%202/CSCI6364_Project_2_PartA.ipynb\" target=\"_parent\"><img src=\"https://colab.research.google.com/assets/colab-badge.svg\" alt=\"Open In Colab\"/></a>"
      ]
    },
    {
      "cell_type": "markdown",
      "metadata": {
        "id": "2jICyaQMh_q8"
      },
      "source": [
        "### **Project 2**- Task 1 Linear Regression (15pts):\n",
        "\n",
        "In this exercise, you will implement a linear regression model to predict the house price. For this\n",
        "exercises use the dataset from the link below. Only use a single feature for you regression model and\n",
        "explain your reasons for selecting that feature. Please explain the data setting and experimental setup\n",
        "similar to Project 1.\n",
        "The key components of your linear regression model are the cost function and gradient decent method\n",
        "to update the weights.\n",
        "\n",
        "https://www.kaggle.com/mayanksrivastava/predict-housing-prices-simple-linear-regression/data\n"
      ]
    },
    {
      "cell_type": "markdown",
      "metadata": {
        "id": "b6_J8lrUaHRP"
      },
      "source": [
        "# 1. Task Setup and sample splitting"
      ]
    },
    {
      "cell_type": "code",
      "execution_count": 2,
      "metadata": {
        "id": "bobmfSDQihjl"
      },
      "outputs": [],
      "source": [
        "import pandas as pd\n",
        "import seaborn as sns\n",
        "import numpy as np\n",
        "from sklearn.model_selection import train_test_split\n",
        "\n",
        "df = pd.read_csv('/content/drive/MyDrive/DATA_STORE/kc_house_data.csv')\n"
      ]
    },
    {
      "cell_type": "code",
      "source": [
        "df_norm = (df - df.mean()) / df.std()"
      ],
      "metadata": {
        "colab": {
          "base_uri": "https://localhost:8080/"
        },
        "id": "SMZVjOmlQgF2",
        "outputId": "c709c15b-11ac-433c-d4b4-d786d629286d"
      },
      "execution_count": 5,
      "outputs": [
        {
          "output_type": "stream",
          "name": "stderr",
          "text": [
            "/usr/local/lib/python3.7/dist-packages/ipykernel_launcher.py:1: FutureWarning: Dropping of nuisance columns in DataFrame reductions (with 'numeric_only=None') is deprecated; in a future version this will raise TypeError.  Select only valid columns before calling the reduction.\n",
            "  \"\"\"Entry point for launching an IPython kernel.\n"
          ]
        }
      ]
    },
    {
      "cell_type": "code",
      "execution_count": 6,
      "metadata": {
        "colab": {
          "base_uri": "https://localhost:8080/"
        },
        "id": "rruPbzQPackO",
        "outputId": "dca98f1d-843c-4da3-f90f-253e29fd93e2"
      },
      "outputs": [
        {
          "output_type": "stream",
          "name": "stdout",
          "text": [
            "(13832, 21)\n",
            "(3458, 21)\n",
            "(4323, 21)\n"
          ]
        }
      ],
      "source": [
        "train, test = train_test_split(df_norm, test_size=0.2, random_state=69)\n",
        "\n",
        "train, val = train_test_split(train, test_size=0.2, random_state=69)\n",
        "\n",
        "#check the shape of the data\n",
        "print(train.shape)\n",
        "print(val.shape)\n",
        "print(test.shape)"
      ]
    },
    {
      "cell_type": "markdown",
      "metadata": {
        "id": "HGPtrQG0bnRk"
      },
      "source": [
        "# 2. Feature selection\n",
        "\n",
        "One feature will be selected based on the highest correlation among the variables to the target which is price."
      ]
    },
    {
      "cell_type": "code",
      "execution_count": 7,
      "metadata": {
        "colab": {
          "base_uri": "https://localhost:8080/"
        },
        "id": "vCS1P5Jaah-a",
        "outputId": "88f0d752-ad2d-444e-a4dc-d674f26d4deb"
      },
      "outputs": [
        {
          "output_type": "execute_result",
          "data": {
            "text/plain": [
              "price            1.000000\n",
              "sqft_living      0.696098\n",
              "grade            0.663449\n",
              "sqft_above       0.599814\n",
              "sqft_living15    0.587558\n",
              "bathrooms        0.512786\n",
              "view             0.384801\n",
              "bedrooms         0.321161\n",
              "lat              0.318558\n",
              "sqft_basement    0.311594\n",
              "floors           0.268417\n",
              "waterfront       0.254408\n",
              "yr_renovated     0.115188\n",
              "sqft_lot         0.085132\n",
              "sqft_lot15       0.078625\n",
              "yr_built         0.051809\n",
              "condition        0.032224\n",
              "long             0.020111\n",
              "id              -0.014780\n",
              "zipcode         -0.047377\n",
              "Name: price, dtype: float64"
            ]
          },
          "metadata": {},
          "execution_count": 7
        }
      ],
      "source": [
        "#calculate and sort highest correlation wrt price\n",
        "corr = train.corr()\n",
        "corr['price'].sort_values(ascending=False)"
      ]
    },
    {
      "cell_type": "code",
      "execution_count": 8,
      "metadata": {
        "colab": {
          "base_uri": "https://localhost:8080/",
          "height": 320
        },
        "id": "bYsgb5r6b7fY",
        "outputId": "bda5037e-276b-452d-d0f4-3545d3c8b22c"
      },
      "outputs": [
        {
          "output_type": "execute_result",
          "data": {
            "text/plain": [
              "<seaborn.axisgrid.PairGrid at 0x7f671378f290>"
            ]
          },
          "metadata": {},
          "execution_count": 8
        },
        {
          "output_type": "display_data",
          "data": {
            "text/plain": [
              "<Figure size 864x288 with 3 Axes>"
            ],
            "image/png": "[encoded data removed]"
          },
          "metadata": {
            "needs_background": "light"
          }
        }
      ],
      "source": [
        "#for this task, i am selecting sqft_living as my primary feature\n",
        "#pairplot of sqft_living, grade, sqft_above and price\n",
        "\n",
        "sns.pairplot(train, x_vars=['sqft_living', 'grade', 'sqft_above'], y_vars='price', height=4, aspect=1, kind='reg')\n",
        "\n"
      ]
    },
    {
      "cell_type": "markdown",
      "metadata": {
        "id": "ePw-bJo6cdGU"
      },
      "source": [
        "#3. Implementing Gradient Descent \n",
        "\n"
      ]
    },
    {
      "cell_type": "markdown",
      "metadata": {
        "id": "xlTjGc6Dcx8l"
      },
      "source": [
        "task: minimize the cost function on each pass:\n",
        "\n",
        "\\begin{align} \\mathbf{J_{cost}} = \\frac{1}{n}\\sum_{i=1}^n (y_i - \\hat{y} )^2.\n",
        "\\end{align}\n",
        "\n",
        "---\n",
        "\n",
        "\n",
        "to minimize the cost, weights will need to be updated by finding the gradient with respect to m and b.\n",
        "\n"
      ]
    },
    {
      "cell_type": "code",
      "execution_count": 9,
      "metadata": {
        "id": "8a1edO2kmAlb"
      },
      "outputs": [],
      "source": [
        "X = df_norm['sqft_living']\n",
        "y = df_norm['price']\n",
        "\n",
        "#convert to numpy array\n",
        "X = np.array(X)\n",
        "y = np.array(y)"
      ]
    },
    {
      "cell_type": "code",
      "execution_count": 17,
      "metadata": {
        "id": "CPgKA52hlzdL"
      },
      "outputs": [],
      "source": [
        "m = 0\n",
        "c = 0\n",
        "learning_rate = .01\n",
        "n_iter = 5000\n",
        "#mean squared error if y is a vector\n",
        "def error_calc(X,y,m,c):\n",
        "    error = 0\n",
        "    n = len(X)\n",
        "    for i in range(n):\n",
        "        y_hat = m*X[i] + c\n",
        "        error += (y_hat - y[i])**2\n",
        "    return error/n\n",
        "    \n",
        "\n",
        "def calculate_gradient(X,y,m,c):\n",
        "    n = len(X)\n",
        "    c_grad = 0\n",
        "    m_grad = 0\n",
        "    for i in range(n):\n",
        "        y_hat = m*X[i] + c\n",
        "        c_grad += -2*(y[i] - y_hat)\n",
        "        m_grad += -2*X[i]*(y[i] - y_hat)\n",
        "    return c_grad/n, m_grad/n\n",
        "\n",
        "#gradient descent\n",
        "def gradient_descent(X, y, m, c, learning_rate, n_iter):\n",
        "    \n",
        "    errors = []\n",
        "    \n",
        "    \n",
        " \n",
        "    for i in range(n_iter):  \n",
        "\n",
        "        #calculate total error\n",
        "        error = error_calc(X,y,m,c)\n",
        "        if i % 100 == 0:\n",
        "          print(f'on iter: {i} m:{m} c: {c} error {error}')\n",
        "          errors.append(error)\n",
        "\n",
        "        c_grad, m_grad = calculate_gradient(X,y,m,c)\n",
        "        \n",
        "        #update m and c\n",
        "           \n",
        "        m = m - learning_rate * m_grad\n",
        "        c = c - learning_rate * c_grad \n",
        "                         \n",
        "    return m,c,errors\n",
        "\n"
      ]
    },
    {
      "cell_type": "code",
      "execution_count": 18,
      "metadata": {
        "colab": {
          "base_uri": "https://localhost:8080/"
        },
        "id": "mn9sBhn1l6j0",
        "outputId": "b2463c22-dd82-4817-a1ef-426f3875792c"
      },
      "outputs": [
        {
          "output_type": "stream",
          "name": "stdout",
          "text": [
            "on iter: 0 m:0 c: 0 error 0.999953731550449\n",
            "on iter: 100 m:0.12736713474826108 c: -9.907254666759938e-18 error 0.8373512554795197\n",
            "on iter: 200 m:0.23162660997522946 c: -2.2297498753836638e-17 error 0.7283971835138715\n",
            "on iter: 300 m:0.31697074679739473 c: -3.763889522393681e-17 error 0.655390977921292\n",
            "on iter: 400 m:0.38683127193493655 c: -5.248013912375218e-17 error 0.6064721448857956\n",
            "on iter: 500 m:0.44401730901048575 c: -6.775454362801856e-17 error 0.5736933940093345\n",
            "on iter: 600 m:0.4908283346929812 c: -8.240350828318371e-17 error 0.5517295317838907\n",
            "on iter: 700 m:0.5291466417047497 c: -9.51601932608571e-17 error 0.5370123375358077\n",
            "on iter: 800 m:0.5605130266715546 c: -1.074773197125638e-16 error 0.527150874906307\n",
            "on iter: 900 m:0.5861887462586337 c: -1.196041317570186e-16 error 0.5205430634203826\n",
            "on iter: 1000 m:0.6072062328772546 c: -1.3098368917050025e-16 error 0.5161154065631859\n",
            "on iter: 1100 m:0.6244106092635042 c: -1.4160395636078805e-16 error 0.5131485929234727\n",
            "on iter: 1200 m:0.6384936712494937 c: -1.5058806107057088e-16 error 0.5111606377912963\n",
            "on iter: 1300 m:0.6500217051897264 c: -1.5918720148149919e-16 error 0.5098285805448793\n",
            "on iter: 1400 m:0.6594582585940476 c: -1.6672761044971527e-16 error 0.5089360168853617\n",
            "on iter: 1500 m:0.6671827795847284 c: -1.679913733170557e-16 error 0.508337942074061\n",
            "on iter: 1600 m:0.6735058746787633 c: -1.6951115578161675e-16 error 0.5079371936500162\n",
            "on iter: 1700 m:0.6786817984177818 c: -1.713313914211667e-16 error 0.5076686665421354\n",
            "on iter: 1800 m:0.6829186770592889 c: -1.7328791742896427e-16 error 0.5074887361834862\n",
            "on iter: 1900 m:0.6863868774285364 c: -1.751190636950088e-16 error 0.5073681713205217\n"
          ]
        }
      ],
      "source": [
        "m, c, errors = gradient_descent(X, y, m, c, learning_rate, n_iter)"
      ]
    },
    {
      "cell_type": "code",
      "execution_count": 19,
      "metadata": {
        "colab": {
          "base_uri": "https://localhost:8080/",
          "height": 279
        },
        "id": "2yN7Qs9PmIs8",
        "outputId": "1774a588-35d7-455f-9b3c-2af079b9a41f"
      },
      "outputs": [
        {
          "output_type": "display_data",
          "data": {
            "text/plain": [
              "<Figure size 432x288 with 1 Axes>"
            ],
            "image/png": "[encoded data removed]"
          },
          "metadata": {
            "needs_background": "light"
          }
        }
      ],
      "source": [
        "#plot the errors\n",
        "import matplotlib.pyplot as plt\n",
        "plt.plot(errors)\n",
        "plt.xlabel('Iterations')\n",
        "plt.ylabel('Error')\n",
        "plt.show()"
      ]
    },
    {
      "cell_type": "code",
      "execution_count": null,
      "metadata": {
        "id": "ZS1ciymImJtM"
      },
      "outputs": [],
      "source": []
    }
  ],
  "metadata": {
    "colab": {
      "provenance": [],
      "mount_file_id": "1Pur3I3Mn445aChXZxgMdQIYDbh_zbVZM",
      "authorship_tag": "ABX9TyOIlFfU8tndxsdaWTEyJMKu",
      "include_colab_link": true
    },
    "kernelspec": {
      "display_name": "Python 3",
      "name": "python3"
    },
    "language_info": {
      "name": "python"
    }
  },
  "nbformat": 4,
  "nbformat_minor": 0
}