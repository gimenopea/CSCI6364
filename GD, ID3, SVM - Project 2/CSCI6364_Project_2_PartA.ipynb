{
  "cells": [
    {
      "cell_type": "markdown",
      "metadata": {
        "id": "view-in-github",
        "colab_type": "text"
      },
      "source": [
        "<a href=\"https://colab.research.google.com/github/gimenopea/CSCI6364/blob/main/GD%2C%20ID3%2C%20SVM%20-%20Project%202/CSCI6364_Project_2_PartA.ipynb\" target=\"_parent\"><img src=\"https://colab.research.google.com/assets/colab-badge.svg\" alt=\"Open In Colab\"/></a>"
      ]
    },
    {
      "cell_type": "markdown",
      "metadata": {
        "id": "2jICyaQMh_q8"
      },
      "source": [
        "### **Project 2**- Task 1 Linear Regression (15pts):\n",
        "\n",
        "In this exercise, you will implement a linear regression model to predict the house price. For this\n",
        "exercises use the dataset from the link below. Only use a single feature for you regression model and\n",
        "explain your reasons for selecting that feature. Please explain the data setting and experimental setup\n",
        "similar to Project 1.\n",
        "The key components of your linear regression model are the cost function and gradient decent method\n",
        "to update the weights.\n",
        "\n",
        "https://www.kaggle.com/mayanksrivastava/predict-housing-prices-simple-linear-regression/data\n"
      ]
    },
    {
      "cell_type": "markdown",
      "metadata": {
        "id": "b6_J8lrUaHRP"
      },
      "source": [
        "# 1. Task Setup and sample splitting"
      ]
    },
    {
      "cell_type": "code",
      "execution_count": null,
      "metadata": {
        "id": "bobmfSDQihjl"
      },
      "outputs": [],
      "source": [
        "import pandas as pd\n",
        "import seaborn as sns\n",
        "import numpy as np\n",
        "from sklearn.model_selection import train_test_split\n",
        "\n",
        "df = pd.read_csv('/content/drive/MyDrive/DATA_STORE/kc_house_data.csv')\n"
      ]
    },
    {
      "cell_type": "code",
      "source": [
        "df_norm = (df - df.mean()) / df.std()"
      ],
      "metadata": {
        "id": "SMZVjOmlQgF2"
      },
      "execution_count": null,
      "outputs": []
    },
    {
      "cell_type": "code",
      "execution_count": null,
      "metadata": {
        "colab": {
          "base_uri": "https://localhost:8080/"
        },
        "id": "rruPbzQPackO",
        "outputId": "dc1d39d9-9edf-4a52-a460-ee7d6cbde0f3"
      },
      "outputs": [
        {
          "output_type": "stream",
          "name": "stdout",
          "text": [
            "(13832, 21)\n",
            "(3458, 21)\n",
            "(4323, 21)\n"
          ]
        }
      ],
      "source": [
        "train, test = train_test_split(df_norm, test_size=0.2, random_state=69)\n",
        "\n",
        "train, val = train_test_split(train, test_size=0.2, random_state=69)\n",
        "\n",
        "#check the shape of the data\n",
        "print(train.shape)\n",
        "print(val.shape)\n",
        "print(test.shape)"
      ]
    },
    {
      "cell_type": "markdown",
      "metadata": {
        "id": "HGPtrQG0bnRk"
      },
      "source": [
        "# 2. Feature selection\n",
        "\n",
        "One feature will be selected based on the highest correlation among the variables to the target which is price."
      ]
    },
    {
      "cell_type": "code",
      "execution_count": null,
      "metadata": {
        "colab": {
          "base_uri": "https://localhost:8080/"
        },
        "id": "vCS1P5Jaah-a",
        "outputId": "841b0d58-8f3e-401f-95ed-cbf3bd6bfa8f"
      },
      "outputs": [
        {
          "output_type": "execute_result",
          "data": {
            "text/plain": [
              "price            1.000000\n",
              "sqft_living      0.696098\n",
              "grade            0.663449\n",
              "sqft_above       0.599814\n",
              "sqft_living15    0.587558\n",
              "bathrooms        0.512786\n",
              "view             0.384801\n",
              "bedrooms         0.321161\n",
              "lat              0.318558\n",
              "sqft_basement    0.311594\n",
              "floors           0.268417\n",
              "waterfront       0.254408\n",
              "yr_renovated     0.115188\n",
              "sqft_lot         0.085132\n",
              "sqft_lot15       0.078625\n",
              "yr_built         0.051809\n",
              "condition        0.032224\n",
              "long             0.020111\n",
              "id              -0.014780\n",
              "zipcode         -0.047377\n",
              "Name: price, dtype: float64"
            ]
          },
          "metadata": {},
          "execution_count": 5
        }
      ],
      "source": [
        "#calculate and sort highest correlation wrt price\n",
        "corr = train.corr()\n",
        "corr['price'].sort_values(ascending=False)"
      ]
    },
    {
      "cell_type": "code",
      "execution_count": null,
      "metadata": {
        "colab": {
          "base_uri": "https://localhost:8080/",
          "height": 320
        },
        "id": "bYsgb5r6b7fY",
        "outputId": "69d37b20-4c5d-4c55-d09b-efedeeb329e9"
      },
      "outputs": [
        {
          "output_type": "execute_result",
          "data": {
            "text/plain": [
              "<seaborn.axisgrid.PairGrid at 0x7fdb85ee2810>"
            ]
          },
          "metadata": {},
          "execution_count": 6
        },
        {
          "output_type": "display_data",
          "data": {
            "text/plain": [
              "<Figure size 864x288 with 3 Axes>"
            ],
            "image/png": "[encoded data removed]"
          },
          "metadata": {
            "needs_background": "light"
          }
        }
      ],
      "source": [
        "#for this task, i am selecting sqft_living as my primary feature\n",
        "#pairplot of sqft_living, grade, sqft_above and price\n",
        "\n",
        "sns.pairplot(train, x_vars=['sqft_living', 'grade', 'sqft_above'], y_vars='price', height=4, aspect=1, kind='reg')\n",
        "\n"
      ]
    },
    {
      "cell_type": "markdown",
      "metadata": {
        "id": "ePw-bJo6cdGU"
      },
      "source": [
        "#3. Implementing Gradient Descent \n",
        "\n"
      ]
    },
    {
      "cell_type": "markdown",
      "metadata": {
        "id": "xlTjGc6Dcx8l"
      },
      "source": [
        "task: minimize the cost function on each pass:\n",
        "\n",
        "\\begin{align} \\mathbf{J_{cost}} = \\frac{1}{n}\\sum_{i=1}^n (y_i - \\hat{y} )^2.\n",
        "\\end{align}\n",
        "\n",
        "---\n",
        "\n",
        "\n",
        "to minimize the cost, weights will need to be updated by finding the gradient with respect to m and b.\n",
        "\n"
      ]
    },
    {
      "cell_type": "code",
      "execution_count": null,
      "metadata": {
        "id": "8a1edO2kmAlb"
      },
      "outputs": [],
      "source": [
        "X = train['sqft_living']\n",
        "y = train['price']\n",
        "\n",
        "#convert to numpy array\n",
        "X = np.array(X)\n",
        "y = np.array(y)"
      ]
    },
    {
      "cell_type": "code",
      "execution_count": null,
      "metadata": {
        "id": "CPgKA52hlzdL"
      },
      "outputs": [],
      "source": [
        "m = 0\n",
        "c = 0\n",
        "learning_rate = .01\n",
        "n_iter = 5000\n",
        "#mean squared error if y is a vector\n",
        "def error_calc(X,y,m,c):\n",
        "    error = 0\n",
        "    n = len(X)\n",
        "    for i in range(n):\n",
        "        y_hat = m*X[i] + c\n",
        "        error += (y_hat - y[i])**2\n",
        "    return error/n\n",
        "    \n",
        "\n",
        "def calculate_gradient(X,y,m,c):\n",
        "    n = len(X)\n",
        "    c_grad = 0\n",
        "    m_grad = 0\n",
        "    for i in range(n):\n",
        "        y_hat = m*X[i] + c\n",
        "        c_grad += -2*(y[i] - y_hat)\n",
        "        m_grad += -2*X[i]*(y[i] - y_hat)\n",
        "    return c_grad/n, m_grad/n\n",
        "\n",
        "#gradient descent\n",
        "def gradient_descent(X, y, m, c, learning_rate, n_iter):\n",
        "    \n",
        "    errors = []\n",
        "    \n",
        "    \n",
        " \n",
        "    for i in range(n_iter):  \n",
        "\n",
        "        #calculate total error\n",
        "        error = error_calc(X,y,m,c)\n",
        "        if i % 100 == 0:\n",
        "          print(f'on iter: {i} m:{m} c: {c} error {error}')\n",
        "          errors.append(error)\n",
        "\n",
        "        c_grad, m_grad = calculate_gradient(X,y,m,c)\n",
        "        \n",
        "        #update m and c\n",
        "           \n",
        "        m = m - learning_rate * m_grad\n",
        "        c = c - learning_rate * c_grad \n",
        "                         \n",
        "    return m,c,errors\n",
        "\n"
      ]
    },
    {
      "cell_type": "code",
      "execution_count": null,
      "metadata": {
        "colab": {
          "base_uri": "https://localhost:8080/"
        },
        "id": "mn9sBhn1l6j0",
        "outputId": "c4c89ae4-81e5-458a-a15a-2ca0a99cc7b0"
      },
      "outputs": [
        {
          "output_type": "stream",
          "name": "stdout",
          "text": [
            "on iter: 0 m:0 c: 0 error 0.8859723280450877\n",
            "on iter: 100 m:0.5717517862877473 c: -0.0097373580626163 error 0.4652078947990888\n",
            "on iter: 200 m:0.6528726271773571 c: -0.009940936731296663 error 0.45674097853803924\n",
            "on iter: 300 m:0.6643843924412159 c: -0.009813583704232675 error 0.4565704648051399\n",
            "on iter: 400 m:0.6660183111079834 c: -0.009774788334663484 error 0.45656702845648245\n",
            "on iter: 500 m:0.6662502602482104 c: -0.009766533840132048 error 0.45656695916178847\n",
            "on iter: 600 m:0.6662831926980016 c: -0.009764997680627356 error 0.4565669577637074\n",
            "on iter: 700 m:0.6662878691843008 c: -0.009764731273170494 error 0.4565669577354861\n",
            "on iter: 800 m:0.6662885333483373 c: -0.009764687040620609 error 0.4565669577349177\n",
            "on iter: 900 m:0.6662886276864279 c: -0.00976467991019783 error 0.45656695773490447\n",
            "on iter: 1000 m:0.6662886410878559 c: -0.00976467878496869 error 0.45656695773490436\n",
            "on iter: 1100 m:0.6662886429918422 c: -0.009764678610226955 error 0.45656695773490363\n",
            "on iter: 1200 m:0.6662886432623762 c: -0.00976467858342768 error 0.4565669577349079\n",
            "on iter: 1300 m:0.6662886433008195 c: -0.009764678579358466 error 0.4565669577349055\n",
            "on iter: 1400 m:0.6662886433062832 c: -0.009764678578745602 error 0.45656695773490535\n",
            "on iter: 1500 m:0.6662886433070598 c: -0.009764678578653926 error 0.45656695773490463\n",
            "on iter: 1600 m:0.66628864330717 c: -0.009764678578640284 error 0.4565669577349075\n",
            "on iter: 1700 m:0.6662886433071855 c: -0.009764678578638268 error 0.45656695773490763\n",
            "on iter: 1800 m:0.6662886433071855 c: -0.009764678578637996 error 0.4565669577349076\n",
            "on iter: 1900 m:0.6662886433071855 c: -0.009764678578637996 error 0.4565669577349076\n",
            "on iter: 2000 m:0.6662886433071855 c: -0.009764678578637996 error 0.4565669577349076\n",
            "on iter: 2100 m:0.6662886433071855 c: -0.009764678578637996 error 0.4565669577349076\n",
            "on iter: 2200 m:0.6662886433071855 c: -0.009764678578637996 error 0.4565669577349076\n",
            "on iter: 2300 m:0.6662886433071855 c: -0.009764678578637996 error 0.4565669577349076\n",
            "on iter: 2400 m:0.6662886433071855 c: -0.009764678578637996 error 0.4565669577349076\n",
            "on iter: 2500 m:0.6662886433071855 c: -0.009764678578637996 error 0.4565669577349076\n",
            "on iter: 2600 m:0.6662886433071855 c: -0.009764678578637996 error 0.4565669577349076\n",
            "on iter: 2700 m:0.6662886433071855 c: -0.009764678578637996 error 0.4565669577349076\n",
            "on iter: 2800 m:0.6662886433071855 c: -0.009764678578637996 error 0.4565669577349076\n",
            "on iter: 2900 m:0.6662886433071855 c: -0.009764678578637996 error 0.4565669577349076\n",
            "on iter: 3000 m:0.6662886433071855 c: -0.009764678578637996 error 0.4565669577349076\n",
            "on iter: 3100 m:0.6662886433071855 c: -0.009764678578637996 error 0.4565669577349076\n",
            "on iter: 3200 m:0.6662886433071855 c: -0.009764678578637996 error 0.4565669577349076\n",
            "on iter: 3300 m:0.6662886433071855 c: -0.009764678578637996 error 0.4565669577349076\n",
            "on iter: 3400 m:0.6662886433071855 c: -0.009764678578637996 error 0.4565669577349076\n",
            "on iter: 3500 m:0.6662886433071855 c: -0.009764678578637996 error 0.4565669577349076\n",
            "on iter: 3600 m:0.6662886433071855 c: -0.009764678578637996 error 0.4565669577349076\n",
            "on iter: 3700 m:0.6662886433071855 c: -0.009764678578637996 error 0.4565669577349076\n",
            "on iter: 3800 m:0.6662886433071855 c: -0.009764678578637996 error 0.4565669577349076\n",
            "on iter: 3900 m:0.6662886433071855 c: -0.009764678578637996 error 0.4565669577349076\n",
            "on iter: 4000 m:0.6662886433071855 c: -0.009764678578637996 error 0.4565669577349076\n",
            "on iter: 4100 m:0.6662886433071855 c: -0.009764678578637996 error 0.4565669577349076\n",
            "on iter: 4200 m:0.6662886433071855 c: -0.009764678578637996 error 0.4565669577349076\n",
            "on iter: 4300 m:0.6662886433071855 c: -0.009764678578637996 error 0.4565669577349076\n",
            "on iter: 4400 m:0.6662886433071855 c: -0.009764678578637996 error 0.4565669577349076\n",
            "on iter: 4500 m:0.6662886433071855 c: -0.009764678578637996 error 0.4565669577349076\n",
            "on iter: 4600 m:0.6662886433071855 c: -0.009764678578637996 error 0.4565669577349076\n",
            "on iter: 4700 m:0.6662886433071855 c: -0.009764678578637996 error 0.4565669577349076\n",
            "on iter: 4800 m:0.6662886433071855 c: -0.009764678578637996 error 0.4565669577349076\n",
            "on iter: 4900 m:0.6662886433071855 c: -0.009764678578637996 error 0.4565669577349076\n"
          ]
        }
      ],
      "source": [
        "m, c, errors = gradient_descent(X, y, m, c, learning_rate, n_iter)"
      ]
    },
    {
      "cell_type": "code",
      "execution_count": null,
      "metadata": {
        "colab": {
          "base_uri": "https://localhost:8080/",
          "height": 280
        },
        "id": "2yN7Qs9PmIs8",
        "outputId": "a91de614-0185-4b0e-cb05-2f121d87b5e4"
      },
      "outputs": [
        {
          "output_type": "display_data",
          "data": {
            "text/plain": [
              "<Figure size 432x288 with 1 Axes>"
            ],
            "image/png": "[encoded data removed]"
          },
          "metadata": {
            "needs_background": "light"
          }
        }
      ],
      "source": [
        "#plot the errors\n",
        "import matplotlib.pyplot as plt\n",
        "plt.plot(errors[:5])\n",
        "plt.xlabel('Iterations')\n",
        "plt.ylabel('Error')\n",
        "plt.show()"
      ]
    },
    {
      "cell_type": "markdown",
      "source": [
        "### 4. Parameter tuning on learning rate, iter, and batch size\n"
      ],
      "metadata": {
        "id": "Tqe9RX70e5fn"
      }
    },
    {
      "cell_type": "code",
      "execution_count": null,
      "metadata": {
        "id": "ZS1ciymImJtM",
        "colab": {
          "base_uri": "https://localhost:8080/"
        },
        "outputId": "08a535b8-3693-4d64-b924-79a630f27011"
      },
      "outputs": [
        {
          "output_type": "stream",
          "name": "stdout",
          "text": [
            "error on validation set: 0.5886410067999407\n"
          ]
        }
      ],
      "source": [
        "#train on validation set\n",
        "X_val = val['sqft_living']\n",
        "y_val = val['price']\n",
        "\n",
        "#convert to numpy array\n",
        "X_val = np.array(X_val)\n",
        "y_val = np.array(y_val)\n",
        "\n",
        "#calculate error on validation set\n",
        "error_val = error_calc(X_val,y_val,m,c)\n",
        "\n",
        "print(f'error on validation set: {error_val}')"
      ]
    },
    {
      "cell_type": "code",
      "source": [
        "def mini_batch_gradient_descent(X, y, m, c, learning_rate, n_iter, batch_size):\n",
        "\n",
        "    errors = []\n",
        "    \n",
        "    n = len(X)\n",
        "    \n",
        "    for i in range(n_iter):  \n",
        "\n",
        "        #calculate total error\n",
        "        error = error_calc(X,y,m,c)\n",
        "        if i % 300 == 0:\n",
        "          print(f'on iter: {i} m:{m} c: {c} error {error}')\n",
        "          errors.append(error)\n",
        "\n",
        "        #calculate the batch size\n",
        "        batch_size = int(n/batch_size)      \n",
        "        shuffled = np.random.permutation(n) \n",
        "\n",
        "        #loop through mini batch\n",
        "        for i in range(0, n, batch_size):\n",
        "            X_batch = X[shuffled[i:i+batch_size]]\n",
        "            y_batch = y[shuffled[i:i+batch_size]]\n",
        "            \n",
        "            c_grad, m_grad = calculate_gradient(X_batch,y_batch,m,c)\n",
        "        \n",
        "            #update m and c\n",
        "           \n",
        "            m = m - learning_rate * m_grad\n",
        "            c = c - learning_rate * c_grad \n",
        "\n",
        "    return m,c,errors "
      ],
      "metadata": {
        "id": "syxYer19fdVa"
      },
      "execution_count": null,
      "outputs": []
    },
    {
      "cell_type": "code",
      "source": [
        "m = 0\n",
        "c = 0\n",
        "learning_rate = .001\n",
        "n_iter = 5000\n",
        "batch_size = 100\n",
        "m, c, errors = mini_batch_gradient_descent(X, y, m, c, learning_rate, n_iter, batch_size)"
      ],
      "metadata": {
        "colab": {
          "base_uri": "https://localhost:8080/"
        },
        "id": "cyRnDFqHncPT",
        "outputId": "993cdfb0-d5bc-49d6-fc81-70eff8141468"
      },
      "execution_count": null,
      "outputs": [
        {
          "output_type": "stream",
          "name": "stdout",
          "text": [
            "on iter: 0 m:0 c: 0 error 0.8859723280450877\n",
            "on iter: 300 m:0.6661616490540442 c: -0.009820327782986846 error 0.4565669763284889\n",
            "on iter: 600 m:0.6652382612025579 c: -0.010195809910280107 error 0.45656820417500815\n",
            "on iter: 900 m:0.6672251313111631 c: -0.009573387817406317 error 0.456567839823961\n",
            "on iter: 1200 m:0.6684237807540697 c: -0.008877963835020297 error 0.4565721259229629\n",
            "on iter: 1500 m:0.6671128250325946 c: -0.009298395484528274 error 0.4565678266843223\n",
            "on iter: 1800 m:0.6659387790401518 c: -0.010486550138334858 error 0.4565675937466653\n",
            "on iter: 2100 m:0.66603984051827 c: -0.010010347370106634 error 0.4565670771075355\n",
            "on iter: 2400 m:0.6647501435823665 c: -0.009938016155627158 error 0.4565692726588319\n",
            "on iter: 2700 m:0.6654124657032779 c: -0.009886614005474309 error 0.45656771338503843\n",
            "on iter: 3000 m:0.665764994630479 c: -0.009607449711065582 error 0.4565672486915925\n",
            "on iter: 3300 m:0.666464363642439 c: -0.009799515295859708 error 0.4565669888855997\n",
            "on iter: 3600 m:0.6672395129443799 c: -0.008998559398137844 error 0.4565684089457063\n",
            "on iter: 3900 m:0.668088973017084 c: -0.009642954974246163 error 0.45657010329691355\n",
            "on iter: 4200 m:0.6657205745472354 c: -0.009829228415886827 error 0.45656727340592007\n",
            "on iter: 4500 m:0.665724360049563 c: -0.00982196756060143 error 0.45656726843588435\n",
            "on iter: 4800 m:0.6672669459474012 c: -0.009269691448266405 error 0.45656812150792087\n"
          ]
        }
      ]
    },
    {
      "cell_type": "code",
      "source": [
        "X_val = val['sqft_living']\n",
        "y_val = val['price']\n",
        "\n",
        "#convert to numpy array\n",
        "X_val = np.array(X_val)\n",
        "y_val = np.array(y_val)\n",
        "\n",
        "#calculate error on validation set\n",
        "error_val = error_calc(X_val,y_val,m,c)\n",
        "print(error_val)"
      ],
      "metadata": {
        "colab": {
          "base_uri": "https://localhost:8080/"
        },
        "id": "zTMaK1BcqBYk",
        "outputId": "69c8f952-6cfc-45fe-84c3-573b1a1d1574"
      },
      "execution_count": null,
      "outputs": [
        {
          "output_type": "stream",
          "name": "stdout",
          "text": [
            "0.5886072792691415\n"
          ]
        }
      ]
    },
    {
      "cell_type": "code",
      "source": [
        "#final evaluation on test set\n",
        "\n",
        "X_test = test['sqft_living']\n",
        "y_test = test['price']\n",
        "\n",
        "#convert to numpy array\n",
        "X_test = np.array(X_test)\n",
        "y_test = np.array(y_test)\n",
        "error_val = error_calc(X_test,y_test,m,c)\n",
        "print(error_val)"
      ],
      "metadata": {
        "colab": {
          "base_uri": "https://localhost:8080/"
        },
        "id": "WdGmYpyPqB-E",
        "outputId": "3dc9903d-76a8-492c-cee2-4cd15b8477ef"
      },
      "execution_count": null,
      "outputs": [
        {
          "output_type": "stream",
          "name": "stdout",
          "text": [
            "0.6105094345555423\n"
          ]
        }
      ]
    },
    {
      "cell_type": "code",
      "source": [
        "df[['sqft_living','price']].sort_values('sqft_living')[:10]"
      ],
      "metadata": {
        "colab": {
          "base_uri": "https://localhost:8080/",
          "height": 363
        },
        "id": "lZoCJr0cr6FH",
        "outputId": "5830238a-4149-4a51-f29d-c26408c72ade"
      },
      "execution_count": null,
      "outputs": [
        {
          "output_type": "execute_result",
          "data": {
            "text/plain": [
              "       sqft_living     price\n",
              "19452          290  142000.0\n",
              "15381          370  276000.0\n",
              "860            380  245000.0\n",
              "18379          384  265000.0\n",
              "4868           390  228000.0\n",
              "21332          390  245000.0\n",
              "8623           410  325000.0\n",
              "11500          420  229050.0\n",
              "14466          420  280000.0\n",
              "465            430   80000.0"
            ],
            "text/html": [
              "\n",
              "  <div id=\"df-e7ce20bc-931f-458d-8123-fac078242b6e\">\n",
              "    <div class=\"colab-df-container\">\n",
              "      <div>\n",
              "<style scoped>\n",
              "    .dataframe tbody tr th:only-of-type {\n",
              "        vertical-align: middle;\n",
              "    }\n",
              "\n",
              "    .dataframe tbody tr th {\n",
              "        vertical-align: top;\n",
              "    }\n",
              "\n",
              "    .dataframe thead th {\n",
              "        text-align: right;\n",
              "    }\n",
              "</style>\n",
              "<table border=\"1\" class=\"dataframe\">\n",
              "  <thead>\n",
              "    <tr style=\"text-align: right;\">\n",
              "      <th></th>\n",
              "      <th>sqft_living</th>\n",
              "      <th>price</th>\n",
              "    </tr>\n",
              "  </thead>\n",
              "  <tbody>\n",
              "    <tr>\n",
              "      <th>19452</th>\n",
              "      <td>290</td>\n",
              "      <td>142000.0</td>\n",
              "    </tr>\n",
              "    <tr>\n",
              "      <th>15381</th>\n",
              "      <td>370</td>\n",
              "      <td>276000.0</td>\n",
              "    </tr>\n",
              "    <tr>\n",
              "      <th>860</th>\n",
              "      <td>380</td>\n",
              "      <td>245000.0</td>\n",
              "    </tr>\n",
              "    <tr>\n",
              "      <th>18379</th>\n",
              "      <td>384</td>\n",
              "      <td>265000.0</td>\n",
              "    </tr>\n",
              "    <tr>\n",
              "      <th>4868</th>\n",
              "      <td>390</td>\n",
              "      <td>228000.0</td>\n",
              "    </tr>\n",
              "    <tr>\n",
              "      <th>21332</th>\n",
              "      <td>390</td>\n",
              "      <td>245000.0</td>\n",
              "    </tr>\n",
              "    <tr>\n",
              "      <th>8623</th>\n",
              "      <td>410</td>\n",
              "      <td>325000.0</td>\n",
              "    </tr>\n",
              "    <tr>\n",
              "      <th>11500</th>\n",
              "      <td>420</td>\n",
              "      <td>229050.0</td>\n",
              "    </tr>\n",
              "    <tr>\n",
              "      <th>14466</th>\n",
              "      <td>420</td>\n",
              "      <td>280000.0</td>\n",
              "    </tr>\n",
              "    <tr>\n",
              "      <th>465</th>\n",
              "      <td>430</td>\n",
              "      <td>80000.0</td>\n",
              "    </tr>\n",
              "  </tbody>\n",
              "</table>\n",
              "</div>\n",
              "      <button class=\"colab-df-convert\" onclick=\"convertToInteractive('df-e7ce20bc-931f-458d-8123-fac078242b6e')\"\n",
              "              title=\"Convert this dataframe to an interactive table.\"\n",
              "              style=\"display:none;\">\n",
              "        \n",
              "  <svg xmlns=\"http://www.w3.org/2000/svg\" height=\"24px\"viewBox=\"0 0 24 24\"\n",
              "       width=\"24px\">\n",
              "    <path d=\"M0 0h24v24H0V0z\" fill=\"none\"/>\n",
              "    <path d=\"M18.56 5.44l.94 2.06.94-2.06 2.06-.94-2.06-.94-.94-2.06-.94 2.06-2.06.94zm-11 1L8.5 8.5l.94-2.06 2.06-.94-2.06-.94L8.5 2.5l-.94 2.06-2.06.94zm10 10l.94 2.06.94-2.06 2.06-.94-2.06-.94-.94-2.06-.94 2.06-2.06.94z\"/><path d=\"M17.41 7.96l-1.37-1.37c-.4-.4-.92-.59-1.43-.59-.52 0-1.04.2-1.43.59L10.3 9.45l-7.72 7.72c-.78.78-.78 2.05 0 2.83L4 21.41c.39.39.9.59 1.41.59.51 0 1.02-.2 1.41-.59l7.78-7.78 2.81-2.81c.8-.78.8-2.07 0-2.86zM5.41 20L4 18.59l7.72-7.72 1.47 1.35L5.41 20z\"/>\n",
              "  </svg>\n",
              "      </button>\n",
              "      \n",
              "  <style>\n",
              "    .colab-df-container {\n",
              "      display:flex;\n",
              "      flex-wrap:wrap;\n",
              "      gap: 12px;\n",
              "    }\n",
              "\n",
              "    .colab-df-convert {\n",
              "      background-color: #E8F0FE;\n",
              "      border: none;\n",
              "      border-radius: 50%;\n",
              "      cursor: pointer;\n",
              "      display: none;\n",
              "      fill: #1967D2;\n",
              "      height: 32px;\n",
              "      padding: 0 0 0 0;\n",
              "      width: 32px;\n",
              "    }\n",
              "\n",
              "    .colab-df-convert:hover {\n",
              "      background-color: #E2EBFA;\n",
              "      box-shadow: 0px 1px 2px rgba(60, 64, 67, 0.3), 0px 1px 3px 1px rgba(60, 64, 67, 0.15);\n",
              "      fill: #174EA6;\n",
              "    }\n",
              "\n",
              "    [theme=dark] .colab-df-convert {\n",
              "      background-color: #3B4455;\n",
              "      fill: #D2E3FC;\n",
              "    }\n",
              "\n",
              "    [theme=dark] .colab-df-convert:hover {\n",
              "      background-color: #434B5C;\n",
              "      box-shadow: 0px 1px 3px 1px rgba(0, 0, 0, 0.15);\n",
              "      filter: drop-shadow(0px 1px 2px rgba(0, 0, 0, 0.3));\n",
              "      fill: #FFFFFF;\n",
              "    }\n",
              "  </style>\n",
              "\n",
              "      <script>\n",
              "        const buttonEl =\n",
              "          document.querySelector('#df-e7ce20bc-931f-458d-8123-fac078242b6e button.colab-df-convert');\n",
              "        buttonEl.style.display =\n",
              "          google.colab.kernel.accessAllowed ? 'block' : 'none';\n",
              "\n",
              "        async function convertToInteractive(key) {\n",
              "          const element = document.querySelector('#df-e7ce20bc-931f-458d-8123-fac078242b6e');\n",
              "          const dataTable =\n",
              "            await google.colab.kernel.invokeFunction('convertToInteractive',\n",
              "                                                     [key], {});\n",
              "          if (!dataTable) return;\n",
              "\n",
              "          const docLinkHtml = 'Like what you see? Visit the ' +\n",
              "            '<a target=\"_blank\" href=https://colab.research.google.com/notebooks/data_table.ipynb>data table notebook</a>'\n",
              "            + ' to learn more about interactive tables.';\n",
              "          element.innerHTML = '';\n",
              "          dataTable['output_type'] = 'display_data';\n",
              "          await google.colab.output.renderOutput(dataTable, element);\n",
              "          const docLink = document.createElement('div');\n",
              "          docLink.innerHTML = docLinkHtml;\n",
              "          element.appendChild(docLink);\n",
              "        }\n",
              "      </script>\n",
              "    </div>\n",
              "  </div>\n",
              "  "
            ]
          },
          "metadata": {},
          "execution_count": 42
        }
      ]
    },
    {
      "cell_type": "code",
      "source": [
        "#sanity check\n",
        "m*380 + c"
      ],
      "metadata": {
        "colab": {
          "base_uri": "https://localhost:8080/"
        },
        "id": "iDZXyRMesA0I",
        "outputId": "9e63b456-5c9a-469d-c7e3-0ca790a02f2f"
      },
      "execution_count": null,
      "outputs": [
        {
          "output_type": "execute_result",
          "data": {
            "text/plain": [
              "253.22853589190441"
            ]
          },
          "metadata": {},
          "execution_count": 44
        }
      ]
    },
    {
      "cell_type": "code",
      "source": [],
      "metadata": {
        "id": "CQ0i5HdksSOC"
      },
      "execution_count": null,
      "outputs": []
    }
  ],
  "metadata": {
    "colab": {
      "provenance": [],
      "collapsed_sections": [],
      "mount_file_id": "1Pur3I3Mn445aChXZxgMdQIYDbh_zbVZM",
      "authorship_tag": "ABX9TyM2Nfip1I9ciVaCcm+F8yb7",
      "include_colab_link": true
    },
    "kernelspec": {
      "display_name": "Python 3",
      "name": "python3"
    },
    "language_info": {
      "name": "python"
    }
  },
  "nbformat": 4,
  "nbformat_minor": 0
}