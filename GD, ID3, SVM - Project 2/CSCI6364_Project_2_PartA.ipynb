{
  "cells": [
    {
      "cell_type": "markdown",
      "metadata": {
        "colab_type": "text",
        "id": "view-in-github"
      },
      "source": [
        "<a href=\"https://colab.research.google.com/github/gimenopea/CSCI6364/blob/main/GD%2C%20ID3%2C%20SVM%20-%20Project%202/CSCI6364_Project_2_PartA.ipynb\" target=\"_parent\"><img src=\"https://colab.research.google.com/assets/colab-badge.svg\" alt=\"Open In Colab\"/></a>"
      ]
    },
    {
      "cell_type": "markdown",
      "metadata": {
        "id": "2jICyaQMh_q8"
      },
      "source": [
        "### **Project 2**- Task 1 Linear Regression (15pts):\n",
        "\n",
        "In this exercise, you will implement a linear regression model to predict the house price. For this\n",
        "exercises use the dataset from the link below. Only use a single feature for you regression model and\n",
        "explain your reasons for selecting that feature. Please explain the data setting and experimental setup\n",
        "similar to Project 1.\n",
        "The key components of your linear regression model are the cost function and gradient decent method\n",
        "to update the weights.\n",
        "\n",
        "https://www.kaggle.com/mayanksrivastava/predict-housing-prices-simple-linear-regression/data\n"
      ]
    },
    {
      "cell_type": "markdown",
      "metadata": {
        "id": "b6_J8lrUaHRP"
      },
      "source": [
        "# 1. Task Setup and sample splitting"
      ]
    },
    {
      "cell_type": "code",
      "execution_count": 6,
      "metadata": {
        "id": "bobmfSDQihjl"
      },
      "outputs": [],
      "source": [
        "import pandas as pd\n",
        "import seaborn as sns\n",
        "import numpy as np\n",
        "from sklearn.model_selection import train_test_split\n",
        "\n",
        "df = pd.read_csv('kc_house_data.csv')\n"
      ]
    },
    {
      "cell_type": "code",
      "execution_count": 7,
      "metadata": {
        "id": "SMZVjOmlQgF2"
      },
      "outputs": [
        {
          "name": "stderr",
          "output_type": "stream",
          "text": [
            "C:\\Users\\gimen\\AppData\\Local\\Temp/ipykernel_22388/360126162.py:2: FutureWarning: Dropping of nuisance columns in DataFrame reductions (with 'numeric_only=None') is deprecated; in a future version this will raise TypeError.  Select only valid columns before calling the reduction.\n",
            "  df_norm = (df - df.mean()) / df.std()\n"
          ]
        }
      ],
      "source": [
        "#the data set is normalized to handle large featured dimensions\n",
        "df_norm = (df - df.mean()) / df.std()"
      ]
    },
    {
      "cell_type": "code",
      "execution_count": 8,
      "metadata": {
        "colab": {
          "base_uri": "https://localhost:8080/"
        },
        "id": "rruPbzQPackO",
        "outputId": "58512398-fdb2-4536-8f48-b03b8df9e1e3"
      },
      "outputs": [
        {
          "name": "stdout",
          "output_type": "stream",
          "text": [
            "(13832, 21)\n",
            "(3458, 21)\n",
            "(4323, 21)\n"
          ]
        }
      ],
      "source": [
        "train, test = train_test_split(df_norm, test_size=0.2, random_state=69)\n",
        "\n",
        "train, val = train_test_split(train, test_size=0.2, random_state=69)\n",
        "\n",
        "#check the shape of the data\n",
        "print(train.shape)\n",
        "print(val.shape)\n",
        "print(test.shape)"
      ]
    },
    {
      "cell_type": "markdown",
      "metadata": {
        "id": "HGPtrQG0bnRk"
      },
      "source": [
        "# 2. Feature selection\n",
        "\n",
        "One feature will be selected based on the highest correlation among the variables to the target which is price."
      ]
    },
    {
      "cell_type": "code",
      "execution_count": 9,
      "metadata": {
        "colab": {
          "base_uri": "https://localhost:8080/"
        },
        "id": "vCS1P5Jaah-a",
        "outputId": "9718d41d-5416-432b-bc88-7f18352ccb7b"
      },
      "outputs": [
        {
          "data": {
            "text/plain": [
              "price            1.000000\n",
              "sqft_living      0.696098\n",
              "grade            0.663449\n",
              "sqft_above       0.599814\n",
              "sqft_living15    0.587558\n",
              "bathrooms        0.512786\n",
              "view             0.384801\n",
              "bedrooms         0.321161\n",
              "lat              0.318558\n",
              "sqft_basement    0.311594\n",
              "floors           0.268417\n",
              "waterfront       0.254408\n",
              "yr_renovated     0.115188\n",
              "sqft_lot         0.085132\n",
              "sqft_lot15       0.078625\n",
              "yr_built         0.051809\n",
              "condition        0.032224\n",
              "long             0.020111\n",
              "id              -0.014780\n",
              "zipcode         -0.047377\n",
              "Name: price, dtype: float64"
            ]
          },
          "execution_count": 9,
          "metadata": {},
          "output_type": "execute_result"
        }
      ],
      "source": [
        "#calculate and sort highest correlation wrt price\n",
        "corr = train.corr()\n",
        "corr['price'].sort_values(ascending=False)"
      ]
    },
    {
      "cell_type": "code",
      "execution_count": 10,
      "metadata": {
        "colab": {
          "base_uri": "https://localhost:8080/",
          "height": 320
        },
        "id": "bYsgb5r6b7fY",
        "outputId": "48dd3528-07ed-409f-9178-e61bbd1358c8"
      },
      "outputs": [
        {
          "data": {
            "text/plain": [
              "<seaborn.axisgrid.PairGrid at 0x1e24d7babe0>"
            ]
          },
          "execution_count": 10,
          "metadata": {},
          "output_type": "execute_result"
        },
        {
          "data": {
            "image/png": "[encoded data removed]",
            "text/plain": [
              "<Figure size 864x288 with 3 Axes>"
            ]
          },
          "metadata": {
            "needs_background": "light"
          },
          "output_type": "display_data"
        }
      ],
      "source": [
        "#for this task, i am selecting sqft_living as my primary feature\n",
        "#pairplot of sqft_living, grade, sqft_above and price\n",
        "\n",
        "sns.pairplot(train, x_vars=['sqft_living', 'grade', 'sqft_above'], y_vars='price', height=4, aspect=1, kind='reg')\n",
        "\n"
      ]
    },
    {
      "cell_type": "markdown",
      "metadata": {
        "id": "zkdOKRmqHr3Y"
      },
      "source": [
        "It can be seen that price values are clustered close to each other on the lower half of our sqft_living samples and the price variance gets larger as sqft_living increases. This behavior is also observed in the grade dimension as well as the sqft_above_dimension."
      ]
    },
    {
      "cell_type": "markdown",
      "metadata": {
        "id": "ePw-bJo6cdGU"
      },
      "source": [
        "#3. Implementing Gradient Descent \n",
        "\n"
      ]
    },
    {
      "cell_type": "markdown",
      "metadata": {
        "id": "xlTjGc6Dcx8l"
      },
      "source": [
        "task: minimize the cost function on each pass:\n",
        "\n",
        "\\begin{align} \\mathbf{J_{cost}} = \\frac{1}{n}\\sum_{i=1}^n (y_i - \\hat{y} )^2.\n",
        "\\end{align}\n",
        "\n",
        "---\n",
        "\n",
        "\n",
        "to minimize the cost, weights will need to be updated by finding the gradient with respect to m and b.\n",
        "\n"
      ]
    },
    {
      "cell_type": "code",
      "execution_count": 11,
      "metadata": {
        "id": "8a1edO2kmAlb"
      },
      "outputs": [],
      "source": [
        "X = train['sqft_living']\n",
        "y = train['price']\n",
        "\n",
        "#convert to numpy array\n",
        "X = np.array(X)\n",
        "y = np.array(y)"
      ]
    },
    {
      "cell_type": "code",
      "execution_count": 12,
      "metadata": {
        "id": "CPgKA52hlzdL"
      },
      "outputs": [],
      "source": [
        "m = 0\n",
        "c = 0\n",
        "learning_rate = .01\n",
        "n_iter = 5000\n",
        "#mean squared error if y is a vector\n",
        "def error_calc(X,y,m,c):\n",
        "    error = 0\n",
        "    n = len(X)\n",
        "    for i in range(n):\n",
        "        y_hat = m*X[i] + c\n",
        "        error += (y_hat - y[i])**2\n",
        "    return error/n\n",
        "    \n",
        "\n",
        "def calculate_gradient(X,y,m,c):\n",
        "    n = len(X)\n",
        "    c_grad = 0\n",
        "    m_grad = 0\n",
        "    for i in range(n):\n",
        "        y_hat = m*X[i] + c\n",
        "        c_grad += -2*(y[i] - y_hat)\n",
        "        m_grad += -2*X[i]*(y[i] - y_hat)\n",
        "    return c_grad/n, m_grad/n\n",
        "\n",
        "#gradient descent\n",
        "def gradient_descent(X, y, m, c, learning_rate, n_iter):\n",
        "    \n",
        "    errors = []\n",
        "    \n",
        "    \n",
        " \n",
        "    for i in range(n_iter):  \n",
        "\n",
        "        #calculate total error\n",
        "        error = error_calc(X,y,m,c)\n",
        "        if i % 100 == 0:\n",
        "          print(f'on iter: {i} m:{m} c: {c} error {error}')\n",
        "          errors.append(error)\n",
        "\n",
        "        c_grad, m_grad = calculate_gradient(X,y,m,c)\n",
        "        \n",
        "        #update m and c\n",
        "           \n",
        "        m = m - learning_rate * m_grad\n",
        "        c = c - learning_rate * c_grad \n",
        "                         \n",
        "    return m,c,errors\n",
        "\n"
      ]
    },
    {
      "cell_type": "code",
      "execution_count": 13,
      "metadata": {
        "colab": {
          "base_uri": "https://localhost:8080/"
        },
        "id": "mn9sBhn1l6j0",
        "outputId": "393f0686-6bb6-4048-c73c-7456cf0663ad"
      },
      "outputs": [
        {
          "name": "stdout",
          "output_type": "stream",
          "text": [
            "on iter: 0 m:0 c: 0 error 0.8859723280450884\n",
            "on iter: 100 m:0.5717517862877474 c: -0.009737358062616304 error 0.46520789479908925\n",
            "on iter: 200 m:0.6528726271773572 c: -0.009940936731296668 error 0.45674097853803947\n",
            "on iter: 300 m:0.6643843924412162 c: -0.009813583704232678 error 0.4565704648051404\n",
            "on iter: 400 m:0.6660183111079836 c: -0.00977478833466349 error 0.4565670284564827\n",
            "on iter: 500 m:0.6662502602482105 c: -0.009766533840132052 error 0.45656695916178874\n",
            "on iter: 600 m:0.6662831926980018 c: -0.00976499768062736 error 0.45656695776370776\n",
            "on iter: 700 m:0.666287869184301 c: -0.009764731273170495 error 0.4565669577354864\n",
            "on iter: 800 m:0.6662885333483376 c: -0.009764687040620609 error 0.456566957734918\n",
            "on iter: 900 m:0.6662886276864282 c: -0.009764679910197832 error 0.45656695773490497\n",
            "on iter: 1000 m:0.6662886410878561 c: -0.009764678784968691 error 0.4565669577349047\n",
            "on iter: 1100 m:0.6662886429918424 c: -0.009764678610226956 error 0.4565669577349039\n",
            "on iter: 1200 m:0.6662886432623765 c: -0.00976467858342768 error 0.456566957734908\n",
            "on iter: 1300 m:0.6662886433008197 c: -0.009764678579358468 error 0.45656695773490585\n",
            "on iter: 1400 m:0.6662886433062833 c: -0.009764678578745606 error 0.4565669577349055\n",
            "on iter: 1500 m:0.6662886433070601 c: -0.00976467857865393 error 0.45656695773490497\n",
            "on iter: 1600 m:0.6662886433071701 c: -0.009764678578640293 error 0.456566957734908\n",
            "on iter: 1700 m:0.6662886433071857 c: -0.00976467857863827 error 0.4565669577349081\n",
            "on iter: 1800 m:0.6662886433071857 c: -0.009764678578637996 error 0.4565669577349078\n",
            "on iter: 1900 m:0.6662886433071857 c: -0.009764678578637996 error 0.4565669577349078\n",
            "on iter: 2000 m:0.6662886433071857 c: -0.009764678578637996 error 0.4565669577349078\n",
            "on iter: 2100 m:0.6662886433071857 c: -0.009764678578637996 error 0.4565669577349078\n",
            "on iter: 2200 m:0.6662886433071857 c: -0.009764678578637996 error 0.4565669577349078\n",
            "on iter: 2300 m:0.6662886433071857 c: -0.009764678578637996 error 0.4565669577349078\n",
            "on iter: 2400 m:0.6662886433071857 c: -0.009764678578637996 error 0.4565669577349078\n",
            "on iter: 2500 m:0.6662886433071857 c: -0.009764678578637996 error 0.4565669577349078\n",
            "on iter: 2600 m:0.6662886433071857 c: -0.009764678578637996 error 0.4565669577349078\n",
            "on iter: 2700 m:0.6662886433071857 c: -0.009764678578637996 error 0.4565669577349078\n",
            "on iter: 2800 m:0.6662886433071857 c: -0.009764678578637996 error 0.4565669577349078\n",
            "on iter: 2900 m:0.6662886433071857 c: -0.009764678578637996 error 0.4565669577349078\n",
            "on iter: 3000 m:0.6662886433071857 c: -0.009764678578637996 error 0.4565669577349078\n",
            "on iter: 3100 m:0.6662886433071857 c: -0.009764678578637996 error 0.4565669577349078\n",
            "on iter: 3200 m:0.6662886433071857 c: -0.009764678578637996 error 0.4565669577349078\n",
            "on iter: 3300 m:0.6662886433071857 c: -0.009764678578637996 error 0.4565669577349078\n",
            "on iter: 3400 m:0.6662886433071857 c: -0.009764678578637996 error 0.4565669577349078\n",
            "on iter: 3500 m:0.6662886433071857 c: -0.009764678578637996 error 0.4565669577349078\n",
            "on iter: 3600 m:0.6662886433071857 c: -0.009764678578637996 error 0.4565669577349078\n",
            "on iter: 3700 m:0.6662886433071857 c: -0.009764678578637996 error 0.4565669577349078\n",
            "on iter: 3800 m:0.6662886433071857 c: -0.009764678578637996 error 0.4565669577349078\n",
            "on iter: 3900 m:0.6662886433071857 c: -0.009764678578637996 error 0.4565669577349078\n",
            "on iter: 4000 m:0.6662886433071857 c: -0.009764678578637996 error 0.4565669577349078\n",
            "on iter: 4100 m:0.6662886433071857 c: -0.009764678578637996 error 0.4565669577349078\n",
            "on iter: 4200 m:0.6662886433071857 c: -0.009764678578637996 error 0.4565669577349078\n",
            "on iter: 4300 m:0.6662886433071857 c: -0.009764678578637996 error 0.4565669577349078\n",
            "on iter: 4400 m:0.6662886433071857 c: -0.009764678578637996 error 0.4565669577349078\n",
            "on iter: 4500 m:0.6662886433071857 c: -0.009764678578637996 error 0.4565669577349078\n",
            "on iter: 4600 m:0.6662886433071857 c: -0.009764678578637996 error 0.4565669577349078\n",
            "on iter: 4700 m:0.6662886433071857 c: -0.009764678578637996 error 0.4565669577349078\n",
            "on iter: 4800 m:0.6662886433071857 c: -0.009764678578637996 error 0.4565669577349078\n",
            "on iter: 4900 m:0.6662886433071857 c: -0.009764678578637996 error 0.4565669577349078\n"
          ]
        }
      ],
      "source": [
        "m, c, errors = gradient_descent(X, y, m, c, learning_rate, n_iter)"
      ]
    },
    {
      "cell_type": "code",
      "execution_count": 14,
      "metadata": {
        "colab": {
          "base_uri": "https://localhost:8080/",
          "height": 280
        },
        "id": "2yN7Qs9PmIs8",
        "outputId": "d4adb378-9d73-4662-d471-f8ac108634f5"
      },
      "outputs": [
        {
          "data": {
            "image/png": "[encoded data removed]",
            "text/plain": [
              "<Figure size 432x288 with 1 Axes>"
            ]
          },
          "metadata": {
            "needs_background": "light"
          },
          "output_type": "display_data"
        }
      ],
      "source": [
        "#plot the errors. It can be seen that the process converges before the first 100 epoch\n",
        "import matplotlib.pyplot as plt\n",
        "plt.plot(errors[:5])\n",
        "plt.xlabel('Iterations')\n",
        "plt.ylabel('Error')\n",
        "plt.show()"
      ]
    },
    {
      "cell_type": "markdown",
      "metadata": {
        "id": "Tqe9RX70e5fn"
      },
      "source": [
        "### 4. Parameter tuning on learning rate, iter, and batch size\n"
      ]
    },
    {
      "cell_type": "code",
      "execution_count": 15,
      "metadata": {
        "colab": {
          "base_uri": "https://localhost:8080/"
        },
        "id": "ZS1ciymImJtM",
        "outputId": "b2c207c1-f161-4f41-d90f-547923a0a90d"
      },
      "outputs": [
        {
          "name": "stdout",
          "output_type": "stream",
          "text": [
            "error on validation set: 0.588641006799941\n"
          ]
        }
      ],
      "source": [
        "#train on validation set\n",
        "X_val = val['sqft_living']\n",
        "y_val = val['price']\n",
        "\n",
        "#convert to numpy array\n",
        "X_val = np.array(X_val)\n",
        "y_val = np.array(y_val)\n",
        "\n",
        "#calculate error on validation set\n",
        "error_val = error_calc(X_val,y_val,m,c)\n",
        "\n",
        "print(f'error on validation set: {error_val}')"
      ]
    },
    {
      "cell_type": "code",
      "execution_count": 16,
      "metadata": {
        "id": "syxYer19fdVa"
      },
      "outputs": [],
      "source": [
        "def mini_batch_gradient_descent(X, y, m, c, learning_rate, n_iter, batch_size):\n",
        "\n",
        "    errors = []\n",
        "    \n",
        "    n = len(X)\n",
        "    \n",
        "    for i in range(n_iter):  \n",
        "\n",
        "        #calculate total error\n",
        "        error = error_calc(X,y,m,c)\n",
        "        if i % 300 == 0:\n",
        "          print(f'on iter: {i} m:{m} c: {c} error {error}')\n",
        "          errors.append(error)\n",
        "\n",
        "        #calculate the batch size\n",
        "        batch_size = int(n/batch_size)      \n",
        "        shuffled = np.random.permutation(n) \n",
        "\n",
        "        #loop through mini batch\n",
        "        for i in range(0, n, batch_size):\n",
        "            X_batch = X[shuffled[i:i+batch_size]]\n",
        "            y_batch = y[shuffled[i:i+batch_size]]\n",
        "            \n",
        "            c_grad, m_grad = calculate_gradient(X_batch,y_batch,m,c)\n",
        "        \n",
        "            #update m and c\n",
        "           \n",
        "            m = m - learning_rate * m_grad\n",
        "            c = c - learning_rate * c_grad \n",
        "\n",
        "    return m,c,errors "
      ]
    },
    {
      "cell_type": "code",
      "execution_count": 17,
      "metadata": {
        "colab": {
          "base_uri": "https://localhost:8080/"
        },
        "id": "cyRnDFqHncPT",
        "outputId": "f22cf524-9832-4fb2-dbd0-0e7f3dabc893"
      },
      "outputs": [
        {
          "name": "stdout",
          "output_type": "stream",
          "text": [
            "on iter: 0 m:0 c: 0 error 0.8859723280450884\n",
            "on iter: 300 m:0.6670652232902166 c: -0.00906438702408358 error 0.45656802383126005\n",
            "on iter: 600 m:0.665471705667962 c: -0.00996104479669776 error 0.45656763937344996\n",
            "on iter: 900 m:0.667076561030616 c: -0.009249698189844129 error 0.4565678176545765\n",
            "on iter: 1200 m:0.668884487494211 c: -0.009517067955598695 error 0.4565735253010003\n",
            "on iter: 1500 m:0.6662458411918348 c: -0.009960472877343711 error 0.4565669977276625\n",
            "on iter: 1800 m:0.6663480932741289 c: -0.009847113598604872 error 0.45656696801417884\n",
            "on iter: 2100 m:0.6653314422794705 c: -0.00985492865348305 error 0.4565678505613767\n",
            "on iter: 2400 m:0.6654260478301243 c: -0.009903740866378491 error 0.4565676948435473\n",
            "on iter: 2700 m:0.6671240187032144 c: -0.009703497615383947 error 0.4565676354977664\n",
            "on iter: 3000 m:0.6659694846473061 c: -0.010044798475231901 error 0.4565671334716464\n",
            "on iter: 3300 m:0.6661684165465026 c: -0.009108777300100259 error 0.4565674029886548\n",
            "on iter: 3600 m:0.6663303591615904 c: -0.009727968478740145 error 0.4565669607442325\n",
            "on iter: 3900 m:0.6662020989775082 c: -0.010450816049657748 error 0.45656743495385554\n",
            "on iter: 4200 m:0.6686734359925989 c: -0.009163378764976707 error 0.45657279847615173\n",
            "on iter: 4500 m:0.6659668268133737 c: -0.009757217840439166 error 0.45656705795530944\n",
            "on iter: 4800 m:0.6662146179206514 c: -0.009720096118808648 error 0.45656696506543887\n"
          ]
        }
      ],
      "source": [
        "m = 0\n",
        "c = 0\n",
        "learning_rate = .001\n",
        "n_iter = 5000\n",
        "batch_size = 100\n",
        "m, c, errors = mini_batch_gradient_descent(X, y, m, c, learning_rate, n_iter, batch_size)"
      ]
    },
    {
      "cell_type": "code",
      "execution_count": 18,
      "metadata": {
        "colab": {
          "base_uri": "https://localhost:8080/"
        },
        "id": "zTMaK1BcqBYk",
        "outputId": "203b0ba2-759b-4da3-94fd-c18fa9a7ae3d"
      },
      "outputs": [
        {
          "name": "stdout",
          "output_type": "stream",
          "text": [
            "0.5887550005832572\n"
          ]
        }
      ],
      "source": [
        "X_val = val['sqft_living']\n",
        "y_val = val['price']\n",
        "\n",
        "#convert to numpy array\n",
        "X_val = np.array(X_val)\n",
        "y_val = np.array(y_val)\n",
        "\n",
        "#calculate error on validation set\n",
        "error_val = error_calc(X_val,y_val,m,c)\n",
        "print(error_val)"
      ]
    },
    {
      "cell_type": "markdown",
      "metadata": {
        "id": "s9fB_-naG7Hy"
      },
      "source": [
        "### 5. Final evaluation on test set"
      ]
    },
    {
      "cell_type": "code",
      "execution_count": 19,
      "metadata": {
        "colab": {
          "base_uri": "https://localhost:8080/"
        },
        "id": "WdGmYpyPqB-E",
        "outputId": "1071f466-8133-4e64-b6d8-6e4fec4c395a"
      },
      "outputs": [
        {
          "name": "stdout",
          "output_type": "stream",
          "text": [
            "final evaluation error: 0.610700591769302\n"
          ]
        }
      ],
      "source": [
        "#final evaluation on test set\n",
        "\n",
        "X_test = test['sqft_living']\n",
        "y_test = test['price']\n",
        "\n",
        "#convert to numpy array\n",
        "X_test = np.array(X_test)\n",
        "y_test = np.array(y_test)\n",
        "error_val = error_calc(X_test,y_test,m,c)\n",
        "print(f'final evaluation error: {error_val}')"
      ]
    },
    {
      "cell_type": "code",
      "execution_count": 20,
      "metadata": {
        "colab": {
          "base_uri": "https://localhost:8080/"
        },
        "id": "R6lnyRZEHBIx",
        "outputId": "ae208061-c4a7-47f7-b3e2-9bf3a0e79b13"
      },
      "outputs": [
        {
          "name": "stdout",
          "output_type": "stream",
          "text": [
            "final m : 0.6656131051363897, c: -0.009828790287640724\n"
          ]
        }
      ],
      "source": [
        "#final m and c values\n",
        "print(f'final m : {m}, c: {c}')"
      ]
    },
    {
      "cell_type": "code",
      "execution_count": 21,
      "metadata": {
        "colab": {
          "base_uri": "https://localhost:8080/",
          "height": 363
        },
        "id": "lZoCJr0cr6FH",
        "outputId": "6d4b6337-d29a-4375-b879-f2906f6651be"
      },
      "outputs": [
        {
          "data": {
            "text/html": [
              "<div>\n",
              "<style scoped>\n",
              "    .dataframe tbody tr th:only-of-type {\n",
              "        vertical-align: middle;\n",
              "    }\n",
              "\n",
              "    .dataframe tbody tr th {\n",
              "        vertical-align: top;\n",
              "    }\n",
              "\n",
              "    .dataframe thead th {\n",
              "        text-align: right;\n",
              "    }\n",
              "</style>\n",
              "<table border=\"1\" class=\"dataframe\">\n",
              "  <thead>\n",
              "    <tr style=\"text-align: right;\">\n",
              "      <th></th>\n",
              "      <th>sqft_living</th>\n",
              "      <th>price</th>\n",
              "    </tr>\n",
              "  </thead>\n",
              "  <tbody>\n",
              "    <tr>\n",
              "      <th>19452</th>\n",
              "      <td>290</td>\n",
              "      <td>142000.0</td>\n",
              "    </tr>\n",
              "    <tr>\n",
              "      <th>15381</th>\n",
              "      <td>370</td>\n",
              "      <td>276000.0</td>\n",
              "    </tr>\n",
              "    <tr>\n",
              "      <th>860</th>\n",
              "      <td>380</td>\n",
              "      <td>245000.0</td>\n",
              "    </tr>\n",
              "    <tr>\n",
              "      <th>18379</th>\n",
              "      <td>384</td>\n",
              "      <td>265000.0</td>\n",
              "    </tr>\n",
              "    <tr>\n",
              "      <th>4868</th>\n",
              "      <td>390</td>\n",
              "      <td>228000.0</td>\n",
              "    </tr>\n",
              "    <tr>\n",
              "      <th>21332</th>\n",
              "      <td>390</td>\n",
              "      <td>245000.0</td>\n",
              "    </tr>\n",
              "    <tr>\n",
              "      <th>8623</th>\n",
              "      <td>410</td>\n",
              "      <td>325000.0</td>\n",
              "    </tr>\n",
              "    <tr>\n",
              "      <th>11500</th>\n",
              "      <td>420</td>\n",
              "      <td>229050.0</td>\n",
              "    </tr>\n",
              "    <tr>\n",
              "      <th>14466</th>\n",
              "      <td>420</td>\n",
              "      <td>280000.0</td>\n",
              "    </tr>\n",
              "    <tr>\n",
              "      <th>465</th>\n",
              "      <td>430</td>\n",
              "      <td>80000.0</td>\n",
              "    </tr>\n",
              "  </tbody>\n",
              "</table>\n",
              "</div>"
            ],
            "text/plain": [
              "       sqft_living     price\n",
              "19452          290  142000.0\n",
              "15381          370  276000.0\n",
              "860            380  245000.0\n",
              "18379          384  265000.0\n",
              "4868           390  228000.0\n",
              "21332          390  245000.0\n",
              "8623           410  325000.0\n",
              "11500          420  229050.0\n",
              "14466          420  280000.0\n",
              "465            430   80000.0"
            ]
          },
          "execution_count": 21,
          "metadata": {},
          "output_type": "execute_result"
        }
      ],
      "source": [
        "df[['sqft_living','price']].sort_values('sqft_living')[:10]"
      ]
    },
    {
      "cell_type": "code",
      "execution_count": 22,
      "metadata": {
        "colab": {
          "base_uri": "https://localhost:8080/"
        },
        "id": "iDZXyRMesA0I",
        "outputId": "d1973f58-777a-49c5-d899-063fbb3e4131"
      },
      "outputs": [
        {
          "data": {
            "text/plain": [
              "252.92315116154046"
            ]
          },
          "execution_count": 22,
          "metadata": {},
          "output_type": "execute_result"
        }
      ],
      "source": [
        "#sanity check\n",
        "m*380 + c"
      ]
    },
    {
      "cell_type": "code",
      "execution_count": 23,
      "metadata": {
        "id": "CQ0i5HdksSOC"
      },
      "outputs": [
        {
          "name": "stdout",
          "output_type": "stream",
          "text": [
            "0.4565669577349047\n"
          ]
        }
      ],
      "source": [
        "#sklearn implementation\n",
        "from sklearn.linear_model import LinearRegression\n",
        "from sklearn.metrics import mean_squared_error\n",
        "\n",
        "X = train['sqft_living'].values.reshape(-1,1)\n",
        "y = train['price'].values.reshape(-1,1)\n",
        "\n",
        "reg = LinearRegression()\n",
        "reg.fit(X,y)\n",
        "\n",
        "y_pred = reg.predict(X)\n",
        "mse = mean_squared_error(y, y_pred)\n",
        "print(mse)"
      ]
    },
    {
      "cell_type": "code",
      "execution_count": 25,
      "metadata": {},
      "outputs": [
        {
          "name": "stdout",
          "output_type": "stream",
          "text": [
            "[[0.66628864]]\n",
            "[-0.00976468]\n"
          ]
        }
      ],
      "source": [
        "print(reg.coef_)\n",
        "print(reg.intercept_)"
      ]
    },
    {
      "cell_type": "code",
      "execution_count": null,
      "metadata": {},
      "outputs": [],
      "source": []
    }
  ],
  "metadata": {
    "colab": {
      "authorship_tag": "ABX9TyM50RJmCgonA/GjzKG6BvdO",
      "collapsed_sections": [],
      "include_colab_link": true,
      "mount_file_id": "1Pur3I3Mn445aChXZxgMdQIYDbh_zbVZM",
      "provenance": []
    },
    "kernelspec": {
      "display_name": "Python 3.9.7",
      "language": "python",
      "name": "python3"
    },
    "language_info": {
      "codemirror_mode": {
        "name": "ipython",
        "version": 3
      },
      "file_extension": ".py",
      "mimetype": "text/x-python",
      "name": "python",
      "nbconvert_exporter": "python",
      "pygments_lexer": "ipython3",
      "version": "3.9.7"
    },
    "vscode": {
      "interpreter": {
        "hash": "d05d3ed20d17a9c8ee84c44b7d541b39e2d1ba1a844cb5793cf52df81ef9f2c6"
      }
    }
  },
  "nbformat": 4,
  "nbformat_minor": 0
}
