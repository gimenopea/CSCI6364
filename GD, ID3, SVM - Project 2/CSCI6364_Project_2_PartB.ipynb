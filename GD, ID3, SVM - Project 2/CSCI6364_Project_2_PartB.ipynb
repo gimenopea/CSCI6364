{
  "nbformat": 4,
  "nbformat_minor": 0,
  "metadata": {
    "colab": {
      "provenance": [],
      "authorship_tag": "ABX9TyNnQkaNDFKSkwir7yf7WAnR",
      "include_colab_link": true
    },
    "kernelspec": {
      "name": "python3",
      "display_name": "Python 3"
    },
    "language_info": {
      "name": "python"
    }
  },
  "cells": [
    {
      "cell_type": "markdown",
      "metadata": {
        "id": "view-in-github",
        "colab_type": "text"
      },
      "source": [
        "<a href=\"https://colab.research.google.com/github/gimenopea/CSCI6364/blob/main/GD%2C%20ID3%2C%20SVM%20-%20Project%202/CSCI6364_Project_2_PartB.ipynb\" target=\"_parent\"><img src=\"https://colab.research.google.com/assets/colab-badge.svg\" alt=\"Open In Colab\"/></a>"
      ]
    },
    {
      "cell_type": "markdown",
      "source": [
        "<img src='https://github.com/gimenopea/CSCI6364/blob/main/GD,%20ID3,%20SVM%20-%20Project%202/Project2PartBInst.PNG?raw=true'>\n"
      ],
      "metadata": {
        "id": "O3dBqq8Ak6V2"
      }
    },
    {
      "cell_type": "markdown",
      "source": [
        "Sample entropy can be calculated at:\n",
        "\n",
        "\\begin{align} H(X) = -\\sum_{x}{p(x) * log_2\\,{p(x)}} \\end{align}\n"
      ],
      "metadata": {
        "id": "_w2F_ts5lK92"
      }
    },
    {
      "cell_type": "markdown",
      "source": [
        "### 1. What is the sample entropy H(Y) for this training data?"
      ],
      "metadata": {
        "id": "oZR69FnWn_S4"
      }
    },
    {
      "cell_type": "code",
      "execution_count": 2,
      "metadata": {
        "id": "WkI3r3kwkLOv"
      },
      "outputs": [],
      "source": [
        "#n samples = \n",
        "n_samples = 3 + 4 + 4 + 1 + 0 + 1 + 3 + 5\n",
        "positive_classes = 3 + 4 + 4 + 1\n",
        "negative_classes = 0 + 1 + 3 + 5"
      ]
    },
    {
      "cell_type": "code",
      "source": [
        "print(f'positive classes:{positive_classes} negative classes:{negative_classes} total samples:{n_samples}')"
      ],
      "metadata": {
        "colab": {
          "base_uri": "https://localhost:8080/"
        },
        "id": "epqIIQAlnBVL",
        "outputId": "bd7bc6a6-0052-4db7-b877-b27bbe230699"
      },
      "execution_count": 4,
      "outputs": [
        {
          "output_type": "stream",
          "name": "stdout",
          "text": [
            "positive classes:12 negative classes:9 total samples:21\n"
          ]
        }
      ]
    },
    {
      "cell_type": "code",
      "source": [
        "from math import log2\n",
        "\n",
        "p_positive = positive_classes/n_samples\n",
        "p_negative = negative_classes/n_samples\n",
        "sample_entropy = -(p_positive*log2(p_positive) + p_negative*log2(p_negative))\n",
        "print(f'sample entropy is {sample_entropy}')"
      ],
      "metadata": {
        "colab": {
          "base_uri": "https://localhost:8080/"
        },
        "id": "lKxmknHtnZ5l",
        "outputId": "cc140310-2653-41e0-c698-24d6632454a8"
      },
      "execution_count": 8,
      "outputs": [
        {
          "output_type": "stream",
          "name": "stdout",
          "text": [
            "sample entropy is 0.9852281360342515\n"
          ]
        }
      ]
    },
    {
      "cell_type": "markdown",
      "source": [
        "### 2. What are the information gains IG(X1) and IG(X2)?"
      ],
      "metadata": {
        "id": "D_XwSRDjoJ6J"
      }
    },
    {
      "cell_type": "code",
      "source": [
        "def calculate_entropy(label_count_positive, label_count_negative, n_samples):\n",
        "  p_positive = label_count_positive/n_samples\n",
        "  p_negative = label_count_negative/n_samples\n",
        "  return -((p_positive)*log2(p_positive) + (p_negative)*log2(p_negative))\n"
      ],
      "metadata": {
        "id": "fBr0gTMaoIlx"
      },
      "execution_count": 14,
      "outputs": []
    },
    {
      "cell_type": "markdown",
      "source": [
        "---\n",
        "\n",
        " 2a. Information Gain IG(X1)\n",
        "\n",
        "---"
      ],
      "metadata": {
        "id": "3RsNChACxELS"
      }
    },
    {
      "cell_type": "code",
      "source": [
        "#Entropy H(Y) given X1 is positive\n",
        "n_samples = 8 #instances for X1 is positive\n",
        "label_count_positive = 7 \n",
        "label_count_negative = 1 \n",
        "\n",
        "#H(Y|X1 = positive)\n",
        "H_y_X1_pos = calculate_entropy(label_count_positive, label_count_negative, n_samples)\n",
        "print(f'H(Y|X1 = positive): {H_y_X1_pos}')"
      ],
      "metadata": {
        "colab": {
          "base_uri": "https://localhost:8080/"
        },
        "id": "7DMtVK1ipoas",
        "outputId": "de96a95f-3316-4147-a0b0-ec1baf9f9387"
      },
      "execution_count": 22,
      "outputs": [
        {
          "output_type": "stream",
          "name": "stdout",
          "text": [
            "H(Y|X1 = positive): 0.5435644431995964\n"
          ]
        }
      ]
    },
    {
      "cell_type": "code",
      "source": [
        "#Entropy H(Y)given X1 is negative\n",
        "n_samples = 13 #instances for X1 is negative\n",
        "label_count_positive = 5\n",
        "label_count_negative = 8 \n",
        "\n",
        "#H(Y|X1 = negative)\n",
        "H_y_X1_neg = calculate_entropy(label_count_positive, label_count_negative, n_samples)\n",
        "print(f'H(Y|X1 = negative): {H_y_X1_neg}')"
      ],
      "metadata": {
        "colab": {
          "base_uri": "https://localhost:8080/"
        },
        "id": "or5_7E7rrXE-",
        "outputId": "4e42f92f-4aaf-43b1-ad54-d1316ccb44d4"
      },
      "execution_count": 23,
      "outputs": [
        {
          "output_type": "stream",
          "name": "stdout",
          "text": [
            "H(Y|X1 = negative): 0.9612366047228759\n"
          ]
        }
      ]
    },
    {
      "cell_type": "code",
      "source": [
        "#Information Gain IG(X1) = H(Y) - H(Y | X1)\n",
        "p_positive_classes = 8/21\n",
        "p_negative_classes = 13/21\n",
        "\n",
        "\n",
        "IG_X1 = sample_entropy - p_positive_classes*H_y_X1_pos -  p_negative_classes*H_y_X1_neg\n",
        "\n",
        "print(f'IG(X1): {IG_X1}')"
      ],
      "metadata": {
        "colab": {
          "base_uri": "https://localhost:8080/"
        },
        "id": "4hO2lAgcrxxq",
        "outputId": "29a74cb6-151e-4adf-f2b6-a0e39f4433f9"
      },
      "execution_count": 33,
      "outputs": [
        {
          "output_type": "stream",
          "name": "stdout",
          "text": [
            "IG(X1): 0.18310473570119645\n"
          ]
        }
      ]
    },
    {
      "cell_type": "markdown",
      "source": [
        "---\n",
        "\n",
        " 2a. Information Gain IG(X2)\n",
        "\n",
        "---"
      ],
      "metadata": {
        "id": "pWXWXlStxS_8"
      }
    },
    {
      "cell_type": "code",
      "source": [
        "#Entropy H(Y) given X2 is positive\n",
        "n_samples = 10 #instances for X2 is positive\n",
        "label_count_positive = 7 \n",
        "label_count_negative = 3 \n",
        "\n",
        "#H(Y|X1 = positive)\n",
        "H_y_X2_pos = calculate_entropy(label_count_positive, label_count_negative, n_samples)\n",
        "print(f'H(Y|X1 = positive): {H_y_X2_pos}')"
      ],
      "metadata": {
        "colab": {
          "base_uri": "https://localhost:8080/"
        },
        "id": "V3_1dmR8yHUZ",
        "outputId": "7509c449-71e1-4654-b3f2-01194a30d939"
      },
      "execution_count": 29,
      "outputs": [
        {
          "output_type": "stream",
          "name": "stdout",
          "text": [
            "H(Y|X1 = positive): 0.8812908992306927\n"
          ]
        }
      ]
    },
    {
      "cell_type": "code",
      "source": [
        "#Entropy H(Y) given X2 is negative\n",
        "n_samples = 11 #instances for X2 is positive\n",
        "label_count_positive = 5 \n",
        "label_count_negative = 6 \n",
        "\n",
        "#H(Y|X1 = positive)\n",
        "H_y_X2_neg = calculate_entropy(label_count_positive, label_count_negative, n_samples)\n",
        "print(f'H(Y|X1 = negative): {H_y_X2_neg}')"
      ],
      "metadata": {
        "colab": {
          "base_uri": "https://localhost:8080/"
        },
        "id": "4Frvw2Ijykks",
        "outputId": "2bce4f5c-f509-4e9f-99e9-7f871946ab02"
      },
      "execution_count": 30,
      "outputs": [
        {
          "output_type": "stream",
          "name": "stdout",
          "text": [
            "H(Y|X1 = negative): 0.9940302114769565\n"
          ]
        }
      ]
    },
    {
      "cell_type": "code",
      "source": [
        "#Information Gain IG(X2) = H(Y) - H(Y | X1)\n",
        "p_positive_classes = 10/21\n",
        "p_negative_classes = 11/21\n",
        "\n",
        "\n",
        "IG_X2 = sample_entropy - p_positive_classes*H_y_X2_pos -  p_negative_classes*H_y_X2_neg\n",
        "\n",
        "print(f'IG(X2): {IG_X2}')"
      ],
      "metadata": {
        "colab": {
          "base_uri": "https://localhost:8080/"
        },
        "id": "NO9LTm5oy5O-",
        "outputId": "99d66bf9-3c1d-442a-b820-ea3f08ebc8f4"
      },
      "execution_count": 35,
      "outputs": [
        {
          "output_type": "stream",
          "name": "stdout",
          "text": [
            "IG(X2): 0.04488331134123014\n"
          ]
        }
      ]
    },
    {
      "cell_type": "markdown",
      "source": [
        "### 3. Draw the decision tree w/o postpruning: \n",
        "\n",
        "Since IG(X1) > IG(X2) root node is X1"
      ],
      "metadata": {
        "id": "4KqUlfEu0YNo"
      }
    },
    {
      "cell_type": "code",
      "source": [
        "from graphviz import Digraph\n",
        "# Create Digraph object\n",
        "dot = Digraph()\n",
        "\n",
        "dot.node('1', 'X1\\n IG: [.183]\\n n = 21')\n",
        "dot.node('2', 'Node X2\\n\\nX1 = True\\n n=8')\n",
        "dot.node('3', 'Node X2\\n\\n X1 = False\\n n=13')\n",
        "dot.node('4', 'Node X2\\n\\n X2 = True\\n n=3\\nlabel= + ')\n",
        "dot.node('5', 'Node X2\\n\\n X2 = False\\n n=5\\n 4(+) 1(-)\\n label= +' )\n",
        "dot.node('6', 'Node X2\\n\\n X2 = True\\n n=7 \\n 4(+) 3(-)\\n label = +')\n",
        "dot.node('7', 'Node X2\\n\\n X2 = False\\n n=6 \\n 1(+) 5(0)\\n label = -')\n",
        "\n",
        "# Add edges\n",
        "dot.edges(['12','13','24','25','36','37'])\n",
        "\n",
        "# Visualize the graph\n",
        "dot"
      ],
      "metadata": {
        "id": "9JwKN4do2x6v"
      },
      "execution_count": null,
      "outputs": []
    },
    {
      "cell_type": "markdown",
      "source": [
        "### final image\n",
        "<img src='https://github.com/gimenopea/CSCI6364/blob/main/GD,%20ID3,%20SVM%20-%20Project%202/Project2PartBTree.PNG?raw=true'>"
      ],
      "metadata": {
        "id": "aKH9W1d4HTZ3"
      }
    },
    {
      "cell_type": "code",
      "source": [
        "#image\n"
      ],
      "metadata": {
        "id": "1JoP5PS1G1pe"
      },
      "execution_count": null,
      "outputs": []
    }
  ]
}