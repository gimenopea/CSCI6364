{
  "nbformat": 4,
  "nbformat_minor": 0,
  "metadata": {
    "colab": {
      "provenance": [],
      "authorship_tag": "ABX9TyMuJxXGiJDOtTgpn0cg1pu3",
      "include_colab_link": true
    },
    "kernelspec": {
      "name": "python3",
      "display_name": "Python 3"
    },
    "language_info": {
      "name": "python"
    }
  },
  "cells": [
    {
      "cell_type": "markdown",
      "metadata": {
        "id": "view-in-github",
        "colab_type": "text"
      },
      "source": [
        "<a href=\"https://colab.research.google.com/github/gimenopea/CSCI6364/blob/main/GD%2C%20ID3%2C%20SVM%20-%20Project%202/CSCI6364_Project_2_PartB.ipynb\" target=\"_parent\"><img src=\"https://colab.research.google.com/assets/colab-badge.svg\" alt=\"Open In Colab\"/></a>"
      ]
    },
    {
      "cell_type": "markdown",
      "source": [
        "<img src='https://github.com/gimenopea/CSCI6364/blob/main/GD,%20ID3,%20SVM%20-%20Project%202/Project2PartBInst.PNG?raw=true'>\n"
      ],
      "metadata": {
        "id": "O3dBqq8Ak6V2"
      }
    },
    {
      "cell_type": "markdown",
      "source": [
        "Sample entropy can be calculated at:\n",
        "\n",
        "\\begin{align} H(X) = -\\sum_{x}{p(x) * log_2\\,{p(x)}} \\end{align}\n"
      ],
      "metadata": {
        "id": "_w2F_ts5lK92"
      }
    },
    {
      "cell_type": "markdown",
      "source": [
        "### 1. What is the sample entropy H(Y) for this training data?"
      ],
      "metadata": {
        "id": "oZR69FnWn_S4"
      }
    },
    {
      "cell_type": "code",
      "execution_count": 2,
      "metadata": {
        "id": "WkI3r3kwkLOv"
      },
      "outputs": [],
      "source": [
        "#n samples = \n",
        "n_samples = 3 + 4 + 4 + 1 + 0 + 1 + 3 + 5\n",
        "positive_classes = 3 + 4 + 4 + 1\n",
        "negative_classes = 0 + 1 + 3 + 5"
      ]
    },
    {
      "cell_type": "code",
      "source": [
        "print(f'positive classes:{positive_classes} negative classes:{negative_classes} total samples:{n_samples}')"
      ],
      "metadata": {
        "colab": {
          "base_uri": "https://localhost:8080/"
        },
        "id": "epqIIQAlnBVL",
        "outputId": "bd7bc6a6-0052-4db7-b877-b27bbe230699"
      },
      "execution_count": 4,
      "outputs": [
        {
          "output_type": "stream",
          "name": "stdout",
          "text": [
            "positive classes:12 negative classes:9 total samples:21\n"
          ]
        }
      ]
    },
    {
      "cell_type": "code",
      "source": [
        "from math import log2\n",
        "\n",
        "p_positive = positive_classes/n_samples\n",
        "p_negative = negative_classes/n_samples\n",
        "sample_entropy = -(p_positive*log2(p_positive) + p_negative*log2(p_negative))\n",
        "print(f'sample entropy is {sample_entropy}')"
      ],
      "metadata": {
        "colab": {
          "base_uri": "https://localhost:8080/"
        },
        "id": "lKxmknHtnZ5l",
        "outputId": "cc140310-2653-41e0-c698-24d6632454a8"
      },
      "execution_count": 8,
      "outputs": [
        {
          "output_type": "stream",
          "name": "stdout",
          "text": [
            "sample entropy is 0.9852281360342515\n"
          ]
        }
      ]
    },
    {
      "cell_type": "markdown",
      "source": [
        "### 2. What are the information gains IG(X1) and IG(X2)?"
      ],
      "metadata": {
        "id": "D_XwSRDjoJ6J"
      }
    },
    {
      "cell_type": "code",
      "source": [
        "def calculate_entropy(label_count_positive, label_count_negative, n_samples):\n",
        "  p_positive = label_count_positive/n_samples\n",
        "  p_negative = label_count_negative/n_samples\n",
        "  return -((p_positive)*log2(p_positive) + (p_negative)*log2(p_negative))\n"
      ],
      "metadata": {
        "id": "fBr0gTMaoIlx"
      },
      "execution_count": 14,
      "outputs": []
    },
    {
      "cell_type": "markdown",
      "source": [
        "---\n",
        "\n",
        " 2a. Information Gain IG(X1)\n",
        "\n",
        "---"
      ],
      "metadata": {
        "id": "3RsNChACxELS"
      }
    },
    {
      "cell_type": "code",
      "source": [
        "#Entropy H(Y) given X1 is positive\n",
        "n_samples = 8 #instances for X1 is positive\n",
        "label_count_positive = 7 \n",
        "label_count_negative = 1 \n",
        "\n",
        "#H(Y|X1 = positive)\n",
        "H_y_X1_pos = calculate_entropy(label_count_positive, label_count_negative, n_samples)\n",
        "print(f'H(Y|X1 = positive): {H_y_X1_pos}')"
      ],
      "metadata": {
        "colab": {
          "base_uri": "https://localhost:8080/"
        },
        "id": "7DMtVK1ipoas",
        "outputId": "de96a95f-3316-4147-a0b0-ec1baf9f9387"
      },
      "execution_count": 22,
      "outputs": [
        {
          "output_type": "stream",
          "name": "stdout",
          "text": [
            "H(Y|X1 = positive): 0.5435644431995964\n"
          ]
        }
      ]
    },
    {
      "cell_type": "code",
      "source": [
        "#Entropy H(Y)given X1 is negative\n",
        "n_samples = 13 #instances for X1 is negative\n",
        "label_count_positive = 5\n",
        "label_count_negative = 8 \n",
        "\n",
        "#H(Y|X1 = negative)\n",
        "H_y_X1_neg = calculate_entropy(label_count_positive, label_count_negative, n_samples)\n",
        "print(f'H(Y|X1 = negative): {H_y_X1_neg}')"
      ],
      "metadata": {
        "colab": {
          "base_uri": "https://localhost:8080/"
        },
        "id": "or5_7E7rrXE-",
        "outputId": "4e42f92f-4aaf-43b1-ad54-d1316ccb44d4"
      },
      "execution_count": 23,
      "outputs": [
        {
          "output_type": "stream",
          "name": "stdout",
          "text": [
            "H(Y|X1 = negative): 0.9612366047228759\n"
          ]
        }
      ]
    },
    {
      "cell_type": "code",
      "source": [
        "#Information Gain IG(X1) = H(Y) - H(Y | X1)\n",
        "p_positive_classes = 8/21\n",
        "p_negative_classes = 13/21\n",
        "\n",
        "\n",
        "IG_X1 = sample_entropy - p_positive_classes*H_y_X1_pos -  p_negative_classes*H_y_X1_neg\n",
        "\n",
        "print(f'IG(X1): {IG_X1}')"
      ],
      "metadata": {
        "colab": {
          "base_uri": "https://localhost:8080/"
        },
        "id": "4hO2lAgcrxxq",
        "outputId": "29a74cb6-151e-4adf-f2b6-a0e39f4433f9"
      },
      "execution_count": 33,
      "outputs": [
        {
          "output_type": "stream",
          "name": "stdout",
          "text": [
            "IG(X1): 0.18310473570119645\n"
          ]
        }
      ]
    },
    {
      "cell_type": "markdown",
      "source": [
        "---\n",
        "\n",
        " 2a. Information Gain IG(X2)\n",
        "\n",
        "---"
      ],
      "metadata": {
        "id": "pWXWXlStxS_8"
      }
    },
    {
      "cell_type": "code",
      "source": [
        "#Entropy H(Y) given X2 is positive\n",
        "n_samples = 10 #instances for X2 is positive\n",
        "label_count_positive = 7 \n",
        "label_count_negative = 3 \n",
        "\n",
        "#H(Y|X1 = positive)\n",
        "H_y_X2_pos = calculate_entropy(label_count_positive, label_count_negative, n_samples)\n",
        "print(f'H(Y|X1 = positive): {H_y_X2_pos}')"
      ],
      "metadata": {
        "colab": {
          "base_uri": "https://localhost:8080/"
        },
        "id": "V3_1dmR8yHUZ",
        "outputId": "7509c449-71e1-4654-b3f2-01194a30d939"
      },
      "execution_count": 29,
      "outputs": [
        {
          "output_type": "stream",
          "name": "stdout",
          "text": [
            "H(Y|X1 = positive): 0.8812908992306927\n"
          ]
        }
      ]
    },
    {
      "cell_type": "code",
      "source": [
        "#Entropy H(Y) given X2 is negative\n",
        "n_samples = 11 #instances for X2 is positive\n",
        "label_count_positive = 5 \n",
        "label_count_negative = 6 \n",
        "\n",
        "#H(Y|X1 = positive)\n",
        "H_y_X2_neg = calculate_entropy(label_count_positive, label_count_negative, n_samples)\n",
        "print(f'H(Y|X1 = negative): {H_y_X2_neg}')"
      ],
      "metadata": {
        "colab": {
          "base_uri": "https://localhost:8080/"
        },
        "id": "4Frvw2Ijykks",
        "outputId": "2bce4f5c-f509-4e9f-99e9-7f871946ab02"
      },
      "execution_count": 30,
      "outputs": [
        {
          "output_type": "stream",
          "name": "stdout",
          "text": [
            "H(Y|X1 = negative): 0.9940302114769565\n"
          ]
        }
      ]
    },
    {
      "cell_type": "code",
      "source": [
        "#Information Gain IG(X2) = H(Y) - H(Y | X1)\n",
        "p_positive_classes = 10/21\n",
        "p_negative_classes = 11/21\n",
        "\n",
        "\n",
        "IG_X2 = sample_entropy - p_positive_classes*H_y_X2_pos -  p_negative_classes*H_y_X2_neg\n",
        "\n",
        "print(f'IG(X2): {IG_X2}')"
      ],
      "metadata": {
        "colab": {
          "base_uri": "https://localhost:8080/"
        },
        "id": "NO9LTm5oy5O-",
        "outputId": "99d66bf9-3c1d-442a-b820-ea3f08ebc8f4"
      },
      "execution_count": 35,
      "outputs": [
        {
          "output_type": "stream",
          "name": "stdout",
          "text": [
            "IG(X2): 0.04488331134123014\n"
          ]
        }
      ]
    },
    {
      "cell_type": "markdown",
      "source": [
        "### 3. Draw the decision tree w/o postpruning: \n",
        "\n",
        "Since IG(X1) > IG(X2) root node is X1"
      ],
      "metadata": {
        "id": "4KqUlfEu0YNo"
      }
    },
    {
      "cell_type": "code",
      "source": [
        "from graphviz import Digraph\n",
        "# Create Digraph object\n",
        "dot = Digraph()\n",
        "\n",
        "dot.node('1', 'X1\\n IG: [.183]\\n n = 21')\n",
        "dot.node('2', 'Node X2\\n\\nX1 = True\\n n=8')\n",
        "dot.node('3', 'Node X2\\n\\n X1 = False\\n n=13')\n",
        "dot.node('4', 'Node X2\\n\\n X2 = True\\n n=3\\nlabel= + ')\n",
        "dot.node('5', 'Node X2\\n\\n X2 = False\\n n=5\\n 4(+) 1(-)\\n label= +' )\n",
        "dot.node('6', 'Node X2\\n\\n X2 = True\\n n=7 \\n 4(+) 3(-)\\n label = +')\n",
        "dot.node('7', 'Node X2\\n\\n X2 = False\\n n=6 \\n 1(+) 5(0)\\n label = -')\n",
        "\n",
        "# Add edges\n",
        "dot.edges(['12','13','24','25','36','37'])\n",
        "\n",
        "# Visualize the graph\n",
        "dot"
      ],
      "metadata": {
        "colab": {
          "base_uri": "https://localhost:8080/",
          "height": 545
        },
        "id": "9JwKN4do2x6v",
        "outputId": "aa8842e8-e925-4ba3-aaa6-63b04a6d02eb"
      },
      "execution_count": 104,
      "outputs": [
        {
          "output_type": "execute_result",
          "data": {
            "text/plain": [
              "<graphviz.dot.Digraph at 0x7f61bb7d94d0>"
            ],
            "image/svg+xml": "<?xml version=\"1.0\" encoding=\"UTF-8\" standalone=\"no\"?>\n<!DOCTYPE svg PUBLIC \"-//W3C//DTD SVG 1.1//EN\"\n \"http://www.w3.org/Graphics/SVG/1.1/DTD/svg11.dtd\">\n<!-- Generated by graphviz version 2.40.1 (20161225.0304)\n -->\n<!-- Title: %3 Pages: 1 -->\n<svg width=\"522pt\" height=\"393pt\"\n viewBox=\"0.00 0.00 522.26 392.54\" xmlns=\"http://www.w3.org/2000/svg\" xmlns:xlink=\"http://www.w3.org/1999/xlink\">\n<g id=\"graph0\" class=\"graph\" transform=\"scale(1 1) rotate(0) translate(4 388.5412)\">\n<title>%3</title>\n<polygon fill=\"#ffffff\" stroke=\"transparent\" points=\"-4,4 -4,-388.5412 518.2584,-388.5412 518.2584,4 -4,4\"/>\n<!-- 1 -->\n<g id=\"node1\" class=\"node\">\n<title>1</title>\n<ellipse fill=\"none\" stroke=\"#000000\" cx=\"255.5685\" cy=\"-347.0645\" rx=\"55.3091\" ry=\"37.4533\"/>\n<text text-anchor=\"middle\" x=\"255.5685\" y=\"-358.3645\" font-family=\"Times,serif\" font-size=\"14.00\" fill=\"#000000\">X1</text>\n<text text-anchor=\"middle\" x=\"255.5685\" y=\"-343.3645\" font-family=\"Times,serif\" font-size=\"14.00\" fill=\"#000000\"> IG: [.183]</text>\n<text text-anchor=\"middle\" x=\"255.5685\" y=\"-328.3645\" font-family=\"Times,serif\" font-size=\"14.00\" fill=\"#000000\"> n = 21</text>\n</g>\n<!-- 2 -->\n<g id=\"node2\" class=\"node\">\n<title>2</title>\n<ellipse fill=\"none\" stroke=\"#000000\" cx=\"189.5685\" cy=\"-224.7975\" rx=\"54.3945\" ry=\"48.5816\"/>\n<text text-anchor=\"middle\" x=\"189.5685\" y=\"-244.0975\" font-family=\"Times,serif\" font-size=\"14.00\" fill=\"#000000\">Node X2</text>\n<text text-anchor=\"middle\" x=\"189.5685\" y=\"-213.0975\" font-family=\"Times,serif\" font-size=\"14.00\" fill=\"#000000\">X1 = True</text>\n<text text-anchor=\"middle\" x=\"189.5685\" y=\"-198.0975\" font-family=\"Times,serif\" font-size=\"14.00\" fill=\"#000000\"> n=8</text>\n</g>\n<!-- 1&#45;&gt;2 -->\n<g id=\"edge1\" class=\"edge\">\n<title>1&#45;&gt;2</title>\n<path fill=\"none\" stroke=\"#000000\" d=\"M236.4786,-311.6998C230.7709,-301.1262 224.3837,-289.2937 218.2043,-277.8462\"/>\n<polygon fill=\"#000000\" stroke=\"#000000\" points=\"221.1402,-275.9167 213.3101,-268.7795 214.9804,-279.2418 221.1402,-275.9167\"/>\n</g>\n<!-- 3 -->\n<g id=\"node3\" class=\"node\">\n<title>3</title>\n<ellipse fill=\"none\" stroke=\"#000000\" cx=\"322.5685\" cy=\"-224.7975\" rx=\"58.8803\" ry=\"48.5816\"/>\n<text text-anchor=\"middle\" x=\"322.5685\" y=\"-244.0975\" font-family=\"Times,serif\" font-size=\"14.00\" fill=\"#000000\">Node X2</text>\n<text text-anchor=\"middle\" x=\"322.5685\" y=\"-213.0975\" font-family=\"Times,serif\" font-size=\"14.00\" fill=\"#000000\"> X1 = False</text>\n<text text-anchor=\"middle\" x=\"322.5685\" y=\"-198.0975\" font-family=\"Times,serif\" font-size=\"14.00\" fill=\"#000000\"> n=13</text>\n</g>\n<!-- 1&#45;&gt;3 -->\n<g id=\"edge2\" class=\"edge\">\n<title>1&#45;&gt;3</title>\n<path fill=\"none\" stroke=\"#000000\" d=\"M274.9477,-311.6998C280.6809,-301.2375 287.0894,-289.5427 293.3007,-278.2078\"/>\n<polygon fill=\"#000000\" stroke=\"#000000\" points=\"296.4868,-279.6767 298.2231,-269.2251 290.3481,-276.3128 296.4868,-279.6767\"/>\n</g>\n<!-- 4 -->\n<g id=\"node4\" class=\"node\">\n<title>4</title>\n<ellipse fill=\"none\" stroke=\"#000000\" cx=\"56.5685\" cy=\"-70.0036\" rx=\"56.6372\" ry=\"59.2941\"/>\n<text text-anchor=\"middle\" x=\"56.5685\" y=\"-96.8036\" font-family=\"Times,serif\" font-size=\"14.00\" fill=\"#000000\">Node X2</text>\n<text text-anchor=\"middle\" x=\"56.5685\" y=\"-65.8036\" font-family=\"Times,serif\" font-size=\"14.00\" fill=\"#000000\"> X2 = True</text>\n<text text-anchor=\"middle\" x=\"56.5685\" y=\"-50.8036\" font-family=\"Times,serif\" font-size=\"14.00\" fill=\"#000000\"> n=3</text>\n<text text-anchor=\"middle\" x=\"56.5685\" y=\"-35.8036\" font-family=\"Times,serif\" font-size=\"14.00\" fill=\"#000000\">label= + </text>\n</g>\n<!-- 2&#45;&gt;4 -->\n<g id=\"edge3\" class=\"edge\">\n<title>2&#45;&gt;4</title>\n<path fill=\"none\" stroke=\"#000000\" d=\"M156.3501,-186.1358C139.6299,-166.6757 119.1277,-142.8139 101.066,-121.7925\"/>\n<polygon fill=\"#000000\" stroke=\"#000000\" points=\"103.7053,-119.4936 94.5336,-114.1897 98.3959,-124.0555 103.7053,-119.4936\"/>\n</g>\n<!-- 5 -->\n<g id=\"node5\" class=\"node\">\n<title>5</title>\n<ellipse fill=\"none\" stroke=\"#000000\" cx=\"189.5685\" cy=\"-70.0036\" rx=\"58.8803\" ry=\"70.0071\"/>\n<text text-anchor=\"middle\" x=\"189.5685\" y=\"-104.3036\" font-family=\"Times,serif\" font-size=\"14.00\" fill=\"#000000\">Node X2</text>\n<text text-anchor=\"middle\" x=\"189.5685\" y=\"-73.3036\" font-family=\"Times,serif\" font-size=\"14.00\" fill=\"#000000\"> X2 = False</text>\n<text text-anchor=\"middle\" x=\"189.5685\" y=\"-58.3036\" font-family=\"Times,serif\" font-size=\"14.00\" fill=\"#000000\"> n=5</text>\n<text text-anchor=\"middle\" x=\"189.5685\" y=\"-43.3036\" font-family=\"Times,serif\" font-size=\"14.00\" fill=\"#000000\"> 4(+) 1(&#45;)</text>\n<text text-anchor=\"middle\" x=\"189.5685\" y=\"-28.3036\" font-family=\"Times,serif\" font-size=\"14.00\" fill=\"#000000\"> label= +</text>\n</g>\n<!-- 2&#45;&gt;5 -->\n<g id=\"edge4\" class=\"edge\">\n<title>2&#45;&gt;5</title>\n<path fill=\"none\" stroke=\"#000000\" d=\"M189.5685,-175.8197C189.5685,-167.671 189.5685,-159.0341 189.5685,-150.3476\"/>\n<polygon fill=\"#000000\" stroke=\"#000000\" points=\"193.0686,-150.154 189.5685,-140.154 186.0686,-150.1541 193.0686,-150.154\"/>\n</g>\n<!-- 6 -->\n<g id=\"node6\" class=\"node\">\n<title>6</title>\n<ellipse fill=\"none\" stroke=\"#000000\" cx=\"322.5685\" cy=\"-70.0036\" rx=\"56.6372\" ry=\"70.0071\"/>\n<text text-anchor=\"middle\" x=\"322.5685\" y=\"-104.3036\" font-family=\"Times,serif\" font-size=\"14.00\" fill=\"#000000\">Node X2</text>\n<text text-anchor=\"middle\" x=\"322.5685\" y=\"-73.3036\" font-family=\"Times,serif\" font-size=\"14.00\" fill=\"#000000\"> X2 = True</text>\n<text text-anchor=\"middle\" x=\"322.5685\" y=\"-58.3036\" font-family=\"Times,serif\" font-size=\"14.00\" fill=\"#000000\"> n=7 </text>\n<text text-anchor=\"middle\" x=\"322.5685\" y=\"-43.3036\" font-family=\"Times,serif\" font-size=\"14.00\" fill=\"#000000\"> 4(+) 3(&#45;)</text>\n<text text-anchor=\"middle\" x=\"322.5685\" y=\"-28.3036\" font-family=\"Times,serif\" font-size=\"14.00\" fill=\"#000000\"> label = +</text>\n</g>\n<!-- 3&#45;&gt;6 -->\n<g id=\"edge5\" class=\"edge\">\n<title>3&#45;&gt;6</title>\n<path fill=\"none\" stroke=\"#000000\" d=\"M322.5685,-175.8197C322.5685,-167.671 322.5685,-159.0341 322.5685,-150.3476\"/>\n<polygon fill=\"#000000\" stroke=\"#000000\" points=\"326.0686,-150.154 322.5685,-140.154 319.0686,-150.1541 326.0686,-150.154\"/>\n</g>\n<!-- 7 -->\n<g id=\"node7\" class=\"node\">\n<title>7</title>\n<ellipse fill=\"none\" stroke=\"#000000\" cx=\"455.5685\" cy=\"-70.0036\" rx=\"58.8803\" ry=\"70.0071\"/>\n<text text-anchor=\"middle\" x=\"455.5685\" y=\"-104.3036\" font-family=\"Times,serif\" font-size=\"14.00\" fill=\"#000000\">Node X2</text>\n<text text-anchor=\"middle\" x=\"455.5685\" y=\"-73.3036\" font-family=\"Times,serif\" font-size=\"14.00\" fill=\"#000000\"> X2 = False</text>\n<text text-anchor=\"middle\" x=\"455.5685\" y=\"-58.3036\" font-family=\"Times,serif\" font-size=\"14.00\" fill=\"#000000\"> n=6 </text>\n<text text-anchor=\"middle\" x=\"455.5685\" y=\"-43.3036\" font-family=\"Times,serif\" font-size=\"14.00\" fill=\"#000000\"> 1(+) 5(0)</text>\n<text text-anchor=\"middle\" x=\"455.5685\" y=\"-28.3036\" font-family=\"Times,serif\" font-size=\"14.00\" fill=\"#000000\"> label = &#45;</text>\n</g>\n<!-- 3&#45;&gt;7 -->\n<g id=\"edge6\" class=\"edge\">\n<title>3&#45;&gt;7</title>\n<path fill=\"none\" stroke=\"#000000\" d=\"M356.8193,-184.9342C371.9722,-167.2984 390.0726,-146.232 406.6133,-126.9809\"/>\n<polygon fill=\"#000000\" stroke=\"#000000\" points=\"409.4872,-129.0066 413.3495,-119.1408 404.1778,-124.4447 409.4872,-129.0066\"/>\n</g>\n</g>\n</svg>\n"
          },
          "metadata": {},
          "execution_count": 104
        }
      ]
    }
  ]
}