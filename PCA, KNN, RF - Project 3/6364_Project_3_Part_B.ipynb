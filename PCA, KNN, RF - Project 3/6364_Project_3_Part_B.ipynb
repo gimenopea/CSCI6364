{
  "nbformat": 4,
  "nbformat_minor": 0,
  "metadata": {
    "colab": {
      "provenance": [],
      "mount_file_id": "16B4AqwxX-ABySVUOTrkxGEnwZu59Iueu",
      "authorship_tag": "ABX9TyMHx6K+Bjgzu71Wem5AyUau",
      "include_colab_link": true
    },
    "kernelspec": {
      "name": "python3",
      "display_name": "Python 3"
    },
    "language_info": {
      "name": "python"
    }
  },
  "cells": [
    {
      "cell_type": "markdown",
      "metadata": {
        "id": "view-in-github",
        "colab_type": "text"
      },
      "source": [
        "<a href=\"https://colab.research.google.com/github/gimenopea/CSCI6364/blob/main/PCA%2C%20KNN%2C%20RF%20-%20Project%203/6364_Project_3_Part_B.ipynb\" target=\"_parent\"><img src=\"https://colab.research.google.com/assets/colab-badge.svg\" alt=\"Open In Colab\"/></a>"
      ]
    },
    {
      "cell_type": "markdown",
      "source": [
        "### Dataset Source and Notebook Reference:\n",
        "https://www.kaggle.com/code/ruslankl/k-means-clustering-pca/notebook"
      ],
      "metadata": {
        "id": "UJlEqqYLO1o5"
      }
    },
    {
      "cell_type": "code",
      "execution_count": null,
      "metadata": {
        "id": "oqy0F7VBOnZn"
      },
      "outputs": [],
      "source": [
        "import pandas as pd\n",
        "import numpy as np\n",
        "import matplotlib.pyplot as plt\n",
        "from sklearn.preprocessing import StandardScaler\n",
        "%matplotlib inline"
      ]
    },
    {
      "cell_type": "code",
      "source": [
        "train_path = '/content/drive/MyDrive/DATA_STORE/6364Proj3/human_act_train.csv'\n",
        "test_path = '/content/drive/MyDrive/DATA_STORE/6364Proj3/human_act_test.csv'\n",
        "\n",
        "train = pd.read_csv(train_path)"
      ],
      "metadata": {
        "id": "sEnlT4v4PAtD"
      },
      "execution_count": null,
      "outputs": []
    },
    {
      "cell_type": "markdown",
      "source": [
        "# 1. K Means"
      ],
      "metadata": {
        "id": "bQ3ro4ObPCrR"
      }
    },
    {
      "cell_type": "markdown",
      "source": [
        "### 1a. Data Preparation and EDA"
      ],
      "metadata": {
        "id": "3G5_EVH8PGAx"
      }
    },
    {
      "cell_type": "code",
      "source": [
        "#get unique values in the activity column and turn into array\n",
        "#save labels as string\n",
        "Labels = train['activity']\n",
        "Data = train.drop(['rn', 'activity'], axis = 1)\n",
        "Labels_keys = Labels.unique().tolist()\n",
        "Labels = np.array(Labels)"
      ],
      "metadata": {
        "id": "U5Gwo63yPEjc"
      },
      "execution_count": null,
      "outputs": []
    },
    {
      "cell_type": "code",
      "source": [
        "#find the best k in k means using the silhouette score\n",
        "from sklearn.cluster import KMeans\n",
        "from sklearn.metrics import silhouette_score\n",
        "\n",
        "#find the best k in k means\n",
        "def find_best_k(X, max_k):\n",
        "    best_k = 0\n",
        "    best_score = 0\n",
        "    for k in range(2, max_k):\n",
        "        kmeans = KMeans(n_clusters=k, random_state=0).fit(X)\n",
        "        score = silhouette_score(X, kmeans.labels_)\n",
        "        if score > best_score:\n",
        "            best_k = k\n",
        "            best_score = score\n",
        "    return best_k\n",
        "\n",
        "best_k = find_best_k(Data, 10)\n",
        "print(f'best k based on silhouette score: {best_k}')"
      ],
      "metadata": {
        "colab": {
          "base_uri": "https://localhost:8080/"
        },
        "id": "7pJkywm4PHY8",
        "outputId": "9341c641-b391-4ac2-e9ff-216aa0123cb1"
      },
      "execution_count": null,
      "outputs": [
        {
          "output_type": "stream",
          "name": "stdout",
          "text": [
            "best k based on silhouette score: 2\n"
          ]
        }
      ]
    },
    {
      "cell_type": "code",
      "source": [
        "#plot the silhouette score for each k\n",
        "def plot_silhouette_score(X, max_k):\n",
        "    scores = []\n",
        "    for k in range(2, max_k):\n",
        "        kmeans = KMeans(n_clusters=k, random_state=0).fit(X)\n",
        "        score = silhouette_score(X, kmeans.labels_)\n",
        "        scores.append(score)\n",
        "    plt.plot(range(2, max_k), scores)\n",
        "    plt.xlabel('k')\n",
        "    plt.ylabel('silhouette score')\n",
        "    plt.title('silhouette score for each k')\n",
        "    plt.show()\n",
        "\n",
        "plot_silhouette_score(Data, 10)"
      ],
      "metadata": {
        "colab": {
          "base_uri": "https://localhost:8080/",
          "height": 295
        },
        "id": "21gVjSraPIn1",
        "outputId": "8ffc52e5-4c6a-406c-f692-8bb6b190a411"
      },
      "execution_count": null,
      "outputs": [
        {
          "output_type": "display_data",
          "data": {
            "text/plain": [
              "<Figure size 432x288 with 1 Axes>"
            ],
            "image/png": "[encoded data removed]"
          },
          "metadata": {
            "needs_background": "light"
          }
        }
      ]
    },
    {
      "cell_type": "code",
      "source": [
        "#normalize the dataset\n",
        "scaler = StandardScaler()\n",
        "Data = scaler.fit_transform(Data)"
      ],
      "metadata": {
        "id": "9nvDS0HIPO-t"
      },
      "execution_count": null,
      "outputs": []
    },
    {
      "cell_type": "code",
      "source": [
        "#perform k means clustering using best k\n",
        "kmeans = KMeans(n_clusters=best_k, random_state=0).fit(Data)\n",
        "\n",
        "#add the cluster labels to the dataframe\n",
        "Labels = pd.DataFrame(Labels)\n",
        "Labels.columns = ['activity']\n",
        "Labels['cluster'] = kmeans.labels_\n",
        "Labels['cluster'] = Labels['cluster'].astype('category')\n",
        "\n",
        "#plot the cluster labels\n",
        "Labels['cluster'].value_counts().plot(kind='bar')\n",
        "plt.title('cluster labels')\n",
        "plt.xlabel('cluster')\n",
        "plt.ylabel('count')\n",
        "plt.show()"
      ],
      "metadata": {
        "colab": {
          "base_uri": "https://localhost:8080/",
          "height": 292
        },
        "id": "N5U04KNbPSFt",
        "outputId": "727bf1b0-5d8b-4856-9d50-130599495f71"
      },
      "execution_count": null,
      "outputs": [
        {
          "output_type": "display_data",
          "data": {
            "text/plain": [
              "<Figure size 432x288 with 1 Axes>"
            ],
            "image/png": "[encoded data removed]"
          },
          "metadata": {
            "needs_background": "light"
          }
        }
      ]
    },
    {
      "cell_type": "code",
      "source": [
        "#calculate the homogeneity score, completeness score\n",
        "from sklearn.metrics import homogeneity_score, completeness_score\n",
        "\n",
        "print(f'homogeneity score: {homogeneity_score(Labels[\"activity\"], Labels[\"cluster\"])}')\n",
        "print(f'completeness score: {completeness_score(Labels[\"activity\"], Labels[\"cluster\"])}')\n"
      ],
      "metadata": {
        "colab": {
          "base_uri": "https://localhost:8080/"
        },
        "id": "UlNDhY6KPUvw",
        "outputId": "7c5927b0-7b60-465a-c001-17a57694a64c"
      },
      "execution_count": null,
      "outputs": [
        {
          "output_type": "stream",
          "name": "stdout",
          "text": [
            "homogeneity score: 0.3782347751436709\n",
            "completeness score: 0.9807129071960827\n"
          ]
        }
      ]
    },
    {
      "cell_type": "markdown",
      "source": [
        "### Findings:\n",
        "- Homogeneity: this is score that indicates how homogenous the cluster is, a perfect homogeneous cluster is one where each cluster only has class of the same labels, in the case of k=2, the score is .37\n",
        "- Completeness: when a cluster is perfectly complete, all samples that belong to the same class are grouped in the same cluster, in the case of k=2, the score is .98\n",
        "- the two classes makes a distinction between activities that involve moving and no moving, as seen by the completeness score, this appears to be a really result"
      ],
      "metadata": {
        "id": "53hrtWGvPWV5"
      }
    },
    {
      "cell_type": "markdown",
      "source": [
        "# 2. Using Principal Component Analysis (PCA)\n",
        "\n",
        "Principal Component Analysis is a dimension-reduction tool that can be used to reduce a large set of variables to a small set that still contains most of the information in the large set. The goal of this section is to apply PCA to the dataset to reduce the dimension of our data and apply k means to it"
      ],
      "metadata": {
        "id": "AGR5C9ecPZW_"
      }
    },
    {
      "cell_type": "code",
      "source": [
        "#import pca\n",
        "from sklearn.decomposition import PCA\n",
        "\n",
        "pca = PCA(random_state=123)\n",
        "pca.fit(Data)\n",
        "features = range(pca.n_components_)\n",
        "\n",
        "#plot the pca vs variance chart to determine how many PCA features to use\n",
        "plt.figure(figsize=(8,4))\n",
        "plt.bar(features[:15], pca.explained_variance_[:15], color='lightskyblue')\n",
        "plt.xlabel('PCA feature')\n",
        "plt.ylabel('Variance')\n",
        "plt.xticks(features[:15])\n",
        "plt.show()"
      ],
      "metadata": {
        "colab": {
          "base_uri": "https://localhost:8080/",
          "height": 279
        },
        "id": "gjiMYI6YPVUw",
        "outputId": "213f254d-9c86-4513-d06b-4a5403086735"
      },
      "execution_count": null,
      "outputs": [
        {
          "output_type": "display_data",
          "data": {
            "text/plain": [
              "<Figure size 576x288 with 1 Axes>"
            ],
            "image/png": "[encoded data removed]"
          },
          "metadata": {
            "needs_background": "light"
          }
        }
      ]
    },
    {
      "cell_type": "code",
      "source": [
        "#perform k means on reduced dataset using pca\n",
        "pca = PCA(n_components=2, random_state=123)\n",
        "pca.fit(Data)\n",
        "Data_pca = pca.transform(Data)\n",
        "\n",
        "\n",
        "#perform k means again with best k\n",
        "kmeans = KMeans(n_clusters=best_k, random_state=0).fit(Data_pca)\n",
        "\n",
        "#add the cluster labels to the dataframe\n",
        "Labels['cluster_pca'] = kmeans.labels_\n",
        "Labels['cluster_pca'] = Labels['cluster_pca'].astype('category')\n",
        "\n",
        "#plot the cluster labels\n",
        "Labels['cluster_pca'].value_counts().plot(kind='bar')\n",
        "plt.title('cluster labels')\n",
        "plt.xlabel('cluster')\n",
        "plt.ylabel('count')\n",
        "plt.show()"
      ],
      "metadata": {
        "colab": {
          "base_uri": "https://localhost:8080/",
          "height": 292
        },
        "id": "ItGtqFp5PdPl",
        "outputId": "c285e5d5-7e73-474e-c6ab-534c371c90b4"
      },
      "execution_count": null,
      "outputs": [
        {
          "output_type": "display_data",
          "data": {
            "text/plain": [
              "<Figure size 432x288 with 1 Axes>"
            ],
            "image/png": "[encoded data removed]"
          },
          "metadata": {
            "needs_background": "light"
          }
        }
      ]
    },
    {
      "cell_type": "code",
      "source": [
        "#run the analysis once again with the reduced dataset\n",
        "print(f'homogeneity score: {homogeneity_score(Labels[\"activity\"], Labels[\"cluster_pca\"])}')\n",
        "print(f'completeness score: {completeness_score(Labels[\"activity\"], Labels[\"cluster_pca\"])}')"
      ],
      "metadata": {
        "colab": {
          "base_uri": "https://localhost:8080/"
        },
        "id": "KI5a4PaFPiWQ",
        "outputId": "d9124239-4e3c-42a3-c580-e790f78117c3"
      },
      "execution_count": null,
      "outputs": [
        {
          "output_type": "stream",
          "name": "stdout",
          "text": [
            "homogeneity score: 0.3773122039443527\n",
            "completeness score: 0.9782459755675554\n"
          ]
        }
      ]
    },
    {
      "cell_type": "markdown",
      "source": [
        "# Findings after PCA\n",
        "- homogeneity score and completeness score did not appear to change much by using pca\n",
        "- adding in the additional PCA, provided the benefit of dimensionality reduction for the same result in this particular dataset"
      ],
      "metadata": {
        "id": "6yURGCpvPkgA"
      }
    },
    {
      "cell_type": "code",
      "source": [],
      "metadata": {
        "id": "g3mBbcl9Piru"
      },
      "execution_count": null,
      "outputs": []
    }
  ]
}