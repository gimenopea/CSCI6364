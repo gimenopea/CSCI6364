{
 "cells": [
  {
   "cell_type": "code",
   "execution_count": 147,
   "metadata": {
    "collapsed": true
   },
   "outputs": [],
   "source": [
    "import pandas as pd\n",
    "import numpy as np\n",
    "import matplotlib.pyplot as plt\n",
    "from matplotlib.pyplot import figure, grid"
   ]
  },
  {
   "cell_type": "code",
   "execution_count": null,
   "outputs": [],
   "source": [
    "\n",
    "#create the amount raised by percent ahead or behidn opponents and call is amountranksimple (but it's more complex..)\n",
    "\n",
    "candiates = pd.read_csv(f\"../data/candidate_summary_with_labels.csv\")"
   ],
   "metadata": {
    "collapsed": false
   }
  },
  {
   "cell_type": "code",
   "execution_count": 160,
   "outputs": [
    {
     "data": {
      "text/plain": "      Cycle    RecipID  TotalGiftAmt  TotalGiftAvg  TotalGiftCount  \\\n28     2010  N00000826        813995    825.552738            1167   \n134    2010  N00003572        228913    538.618824             545   \n202    2010  N00005906        158966    819.412371             210   \n836    2010  N00030728          2907   2907.000000              16   \n2135   2012  N00001279        263619    955.141304             438   \n2389   2012  N00013808        220445   1281.656977             239   \n2497   2012  N00027493       5047046    747.157069           10604   \n4711   2014  N00034889         21900    509.302326              51   \n5948   2016  N00030612      48485888   1174.390544          130478   \n5974   2016  N00030836       8421348    714.581926           37761   \n7520   2018  N00030910        927421   1270.439726            1213   \n\n      TotalGiftAvg.1  DonorCount  MultiCycleDonorCount  RepeatDonorCount  \\\n28          1.183570         986                   347               414   \n134         1.282353         425                    95               134   \n202         1.082474         194                    96               103   \n836        16.000000           1                     0                 1   \n2135        1.586957         276                    12               103   \n2389        1.389535         172                    46                82   \n2497        1.569800        6755                  1418              2587   \n4711        1.186047          43                     3                 7   \n5948        3.160345       41286                  3386             22303   \n5974        3.204158       11785                  1391              6802   \n7520        1.661644         730                   159               334   \n\n      MaleDonorCount  ...  nopacs  republican democrat other_party  \\\n28               720  ...       0           0        1           0   \n134              199  ...       0           0        1           0   \n202              146  ...       0           1        0           0   \n836                1  ...       0           0        1           0   \n2135             169  ...       0           0        0           1   \n2389             129  ...       0           1        0           0   \n2497            4765  ...       0           1        0           0   \n4711              32  ...       0           1        0           0   \n5948           27587  ...       0           1        0           0   \n5974            8970  ...       0           1        0           0   \n7520             506  ...       0           1        0           0   \n\n      cand_party   cand_status run_for_state run_for_district  \\\n28      Democrat           Win            NJ               01   \n134     Democrat           Win            OH               10   \n202   Republican           Win            TX               14   \n836     Democrat  NonIncumbent            CA               33   \n2135       Other          Lose            FL               20   \n2389  Republican     Incumbent            MI               11   \n2497  Republican           Win            MN               06   \n4711  Republican  NonIncumbent            MA               S2   \n5948  Republican           Win            FL               S2   \n5974  Republican           Win            KY               S2   \n7520  Republican           Win            AL               05   \n\n     presidential_year label  \n28                   0     1  \n134                  0     1  \n202                  0     1  \n836                  0     0  \n2135                 1     0  \n2389                 1     0  \n2497                 1     1  \n4711                 0     0  \n5948                 1     1  \n5974                 1     1  \n7520                 0     1  \n\n[11 rows x 37 columns]",
      "text/html": "<div>\n<style scoped>\n    .dataframe tbody tr th:only-of-type {\n        vertical-align: middle;\n    }\n\n    .dataframe tbody tr th {\n        vertical-align: top;\n    }\n\n    .dataframe thead th {\n        text-align: right;\n    }\n</style>\n<table border=\"1\" class=\"dataframe\">\n  <thead>\n    <tr style=\"text-align: right;\">\n      <th></th>\n      <th>Cycle</th>\n      <th>RecipID</th>\n      <th>TotalGiftAmt</th>\n      <th>TotalGiftAvg</th>\n      <th>TotalGiftCount</th>\n      <th>TotalGiftAvg.1</th>\n      <th>DonorCount</th>\n      <th>MultiCycleDonorCount</th>\n      <th>RepeatDonorCount</th>\n      <th>MaleDonorCount</th>\n      <th>...</th>\n      <th>nopacs</th>\n      <th>republican</th>\n      <th>democrat</th>\n      <th>other_party</th>\n      <th>cand_party</th>\n      <th>cand_status</th>\n      <th>run_for_state</th>\n      <th>run_for_district</th>\n      <th>presidential_year</th>\n      <th>label</th>\n    </tr>\n  </thead>\n  <tbody>\n    <tr>\n      <th>28</th>\n      <td>2010</td>\n      <td>N00000826</td>\n      <td>813995</td>\n      <td>825.552738</td>\n      <td>1167</td>\n      <td>1.183570</td>\n      <td>986</td>\n      <td>347</td>\n      <td>414</td>\n      <td>720</td>\n      <td>...</td>\n      <td>0</td>\n      <td>0</td>\n      <td>1</td>\n      <td>0</td>\n      <td>Democrat</td>\n      <td>Win</td>\n      <td>NJ</td>\n      <td>01</td>\n      <td>0</td>\n      <td>1</td>\n    </tr>\n    <tr>\n      <th>134</th>\n      <td>2010</td>\n      <td>N00003572</td>\n      <td>228913</td>\n      <td>538.618824</td>\n      <td>545</td>\n      <td>1.282353</td>\n      <td>425</td>\n      <td>95</td>\n      <td>134</td>\n      <td>199</td>\n      <td>...</td>\n      <td>0</td>\n      <td>0</td>\n      <td>1</td>\n      <td>0</td>\n      <td>Democrat</td>\n      <td>Win</td>\n      <td>OH</td>\n      <td>10</td>\n      <td>0</td>\n      <td>1</td>\n    </tr>\n    <tr>\n      <th>202</th>\n      <td>2010</td>\n      <td>N00005906</td>\n      <td>158966</td>\n      <td>819.412371</td>\n      <td>210</td>\n      <td>1.082474</td>\n      <td>194</td>\n      <td>96</td>\n      <td>103</td>\n      <td>146</td>\n      <td>...</td>\n      <td>0</td>\n      <td>1</td>\n      <td>0</td>\n      <td>0</td>\n      <td>Republican</td>\n      <td>Win</td>\n      <td>TX</td>\n      <td>14</td>\n      <td>0</td>\n      <td>1</td>\n    </tr>\n    <tr>\n      <th>836</th>\n      <td>2010</td>\n      <td>N00030728</td>\n      <td>2907</td>\n      <td>2907.000000</td>\n      <td>16</td>\n      <td>16.000000</td>\n      <td>1</td>\n      <td>0</td>\n      <td>1</td>\n      <td>1</td>\n      <td>...</td>\n      <td>0</td>\n      <td>0</td>\n      <td>1</td>\n      <td>0</td>\n      <td>Democrat</td>\n      <td>NonIncumbent</td>\n      <td>CA</td>\n      <td>33</td>\n      <td>0</td>\n      <td>0</td>\n    </tr>\n    <tr>\n      <th>2135</th>\n      <td>2012</td>\n      <td>N00001279</td>\n      <td>263619</td>\n      <td>955.141304</td>\n      <td>438</td>\n      <td>1.586957</td>\n      <td>276</td>\n      <td>12</td>\n      <td>103</td>\n      <td>169</td>\n      <td>...</td>\n      <td>0</td>\n      <td>0</td>\n      <td>0</td>\n      <td>1</td>\n      <td>Other</td>\n      <td>Lose</td>\n      <td>FL</td>\n      <td>20</td>\n      <td>1</td>\n      <td>0</td>\n    </tr>\n    <tr>\n      <th>2389</th>\n      <td>2012</td>\n      <td>N00013808</td>\n      <td>220445</td>\n      <td>1281.656977</td>\n      <td>239</td>\n      <td>1.389535</td>\n      <td>172</td>\n      <td>46</td>\n      <td>82</td>\n      <td>129</td>\n      <td>...</td>\n      <td>0</td>\n      <td>1</td>\n      <td>0</td>\n      <td>0</td>\n      <td>Republican</td>\n      <td>Incumbent</td>\n      <td>MI</td>\n      <td>11</td>\n      <td>1</td>\n      <td>0</td>\n    </tr>\n    <tr>\n      <th>2497</th>\n      <td>2012</td>\n      <td>N00027493</td>\n      <td>5047046</td>\n      <td>747.157069</td>\n      <td>10604</td>\n      <td>1.569800</td>\n      <td>6755</td>\n      <td>1418</td>\n      <td>2587</td>\n      <td>4765</td>\n      <td>...</td>\n      <td>0</td>\n      <td>1</td>\n      <td>0</td>\n      <td>0</td>\n      <td>Republican</td>\n      <td>Win</td>\n      <td>MN</td>\n      <td>06</td>\n      <td>1</td>\n      <td>1</td>\n    </tr>\n    <tr>\n      <th>4711</th>\n      <td>2014</td>\n      <td>N00034889</td>\n      <td>21900</td>\n      <td>509.302326</td>\n      <td>51</td>\n      <td>1.186047</td>\n      <td>43</td>\n      <td>3</td>\n      <td>7</td>\n      <td>32</td>\n      <td>...</td>\n      <td>0</td>\n      <td>1</td>\n      <td>0</td>\n      <td>0</td>\n      <td>Republican</td>\n      <td>NonIncumbent</td>\n      <td>MA</td>\n      <td>S2</td>\n      <td>0</td>\n      <td>0</td>\n    </tr>\n    <tr>\n      <th>5948</th>\n      <td>2016</td>\n      <td>N00030612</td>\n      <td>48485888</td>\n      <td>1174.390544</td>\n      <td>130478</td>\n      <td>3.160345</td>\n      <td>41286</td>\n      <td>3386</td>\n      <td>22303</td>\n      <td>27587</td>\n      <td>...</td>\n      <td>0</td>\n      <td>1</td>\n      <td>0</td>\n      <td>0</td>\n      <td>Republican</td>\n      <td>Win</td>\n      <td>FL</td>\n      <td>S2</td>\n      <td>1</td>\n      <td>1</td>\n    </tr>\n    <tr>\n      <th>5974</th>\n      <td>2016</td>\n      <td>N00030836</td>\n      <td>8421348</td>\n      <td>714.581926</td>\n      <td>37761</td>\n      <td>3.204158</td>\n      <td>11785</td>\n      <td>1391</td>\n      <td>6802</td>\n      <td>8970</td>\n      <td>...</td>\n      <td>0</td>\n      <td>1</td>\n      <td>0</td>\n      <td>0</td>\n      <td>Republican</td>\n      <td>Win</td>\n      <td>KY</td>\n      <td>S2</td>\n      <td>1</td>\n      <td>1</td>\n    </tr>\n    <tr>\n      <th>7520</th>\n      <td>2018</td>\n      <td>N00030910</td>\n      <td>927421</td>\n      <td>1270.439726</td>\n      <td>1213</td>\n      <td>1.661644</td>\n      <td>730</td>\n      <td>159</td>\n      <td>334</td>\n      <td>506</td>\n      <td>...</td>\n      <td>0</td>\n      <td>1</td>\n      <td>0</td>\n      <td>0</td>\n      <td>Republican</td>\n      <td>Win</td>\n      <td>AL</td>\n      <td>05</td>\n      <td>0</td>\n      <td>1</td>\n    </tr>\n  </tbody>\n</table>\n<p>11 rows × 37 columns</p>\n</div>"
     },
     "execution_count": 160,
     "metadata": {},
     "output_type": "execute_result"
    }
   ],
   "source": [
    "candiates.loc[candiates.duplicated(subset=['CID', 'CycleCands']), :]"
   ],
   "metadata": {
    "collapsed": false
   }
  },
  {
   "cell_type": "code",
   "execution_count": 148,
   "outputs": [],
   "source": [
    "\n",
    "\n",
    "ranks = pd.DataFrame()\n",
    "simple_ranks = pd.DataFrame()\n",
    "results=pd.DataFrame()\n",
    "\n",
    "\n",
    "for y in [2010, 2012, 2014, 2016, 2018]:\n",
    "    open_seats = candiates.loc[candiates['Cycle'] == y]['DistIDRunFor'].unique()\n",
    "\n",
    "    for seat in open_seats:\n",
    "\n",
    "        #get all candidates for this seat\n",
    "        seat_candidates = pd.DataFrame(candiates.loc[ (candiates['DistIDRunFor'] == seat) & (candiates['Cycle'] == y) ])\n",
    "\n",
    "        #get the top amount for that seat\n",
    "        max_amount = seat_candidates['TotalGiftAmt'].max()\n",
    "\n",
    "        n = len(seat_candidates)\n",
    "\n",
    "        seat_candidates = seat_candidates.sort_values(by='TotalGiftAmt', ascending=False, ignore_index=True)\n",
    "\n",
    "        for i in seat_candidates.index:\n",
    "\n",
    "            amount = seat_candidates['TotalGiftAmt'][i]\n",
    "            cid = seat_candidates['CID'][i]\n",
    "            year = seat_candidates['CycleCands'][i]\n",
    "\n",
    "            rank = pd.DataFrame( [[cid,year, (amount/max_amount)]], columns=['CID','CycleCands', 'AmountRank'])\n",
    "            ranks = ranks.append(rank)\n",
    "\n",
    "\n",
    "            simple_rank = None\n",
    "            if i==0:\n",
    "                #top amount\n",
    "                if n > 1:\n",
    "                    competitor_amount = seat_candidates['TotalGiftAmt'][1]\n",
    "                    if competitor_amount ==0:\n",
    "                        if amount>0:\n",
    "                            simple_rank = pd.DataFrame([[cid, year, 1]], columns=['CID', 'CycleCands', 'AmountRankSimple'])\n",
    "                        else:\n",
    "                            simple_rank = pd.DataFrame([[cid,year,  2]], columns=['CID', 'CycleCands', 'AmountRankSimple'])\n",
    "                        simple_rank = simple_ranks.append(simple_rank)\n",
    "                        continue\n",
    "\n",
    "                    percent_diff = abs( competitor_amount - amount ) /competitor_amount\n",
    "                    if  percent_diff > .05:\n",
    "                        simple_rank = pd.DataFrame([[cid,year,  1]], columns=['CID', 'CycleCands', 'AmountRankSimple'])\n",
    "\n",
    "                    else:\n",
    "                        simple_rank = pd.DataFrame([[cid,year, 2]], columns=['CID', 'CycleCands', 'AmountRankSimple'])\n",
    "\n",
    "                else:\n",
    "                    #no competitors\n",
    "                    simple_rank = pd.DataFrame([[cid,year, 1]], columns=['CID', 'CycleCands', 'AmountRankSimple'])\n",
    "\n",
    "            else:\n",
    "                #not top amount\n",
    "                top_amount = seat_candidates['TotalGiftAmt'][0]\n",
    "                percent_diff = abs( top_amount - amount ) /amount\n",
    "                if amount ==0:\n",
    "                    if top_amount>0:\n",
    "                        simple_rank = pd.DataFrame([[cid,year, 3]], columns=['CID', 'CycleCands', 'AmountRankSimple'])\n",
    "                    else:\n",
    "                        simple_rank = pd.DataFrame([[cid,year, 2]], columns=['CID', 'CycleCands', 'AmountRankSimple'])\n",
    "                    simple_rank = simple_ranks.append(simple_rank)\n",
    "                    continue\n",
    "\n",
    "                if percent_diff <=.05:\n",
    "                    simple_rank = pd.DataFrame([[cid,year,2]], columns=['CID', 'CycleCands', 'AmountRankSimple'])\n",
    "                else:\n",
    "                    simple_rank = pd.DataFrame([[cid,year, 3]], columns=['CID', 'CycleCands', 'AmountRankSimple'])\n",
    "\n",
    "            if simple_rank.empty:\n",
    "                raise Exception('Not good')\n",
    "\n",
    "            simple_ranks = simple_ranks.append(simple_rank)\n",
    "\n",
    "\n",
    "results = ranks"
   ],
   "metadata": {
    "collapsed": false
   }
  },
  {
   "cell_type": "code",
   "execution_count": 149,
   "outputs": [
    {
     "data": {
      "text/plain": "(9592,)"
     },
     "execution_count": 149,
     "metadata": {},
     "output_type": "execute_result"
    }
   ],
   "source": [
    "dup = results.duplicated(subset=['CID', 'CycleCands'])\n",
    "\n"
   ],
   "metadata": {
    "collapsed": false
   }
  },
  {
   "cell_type": "code",
   "execution_count": 156,
   "outputs": [
    {
     "data": {
      "text/plain": "11"
     },
     "execution_count": 156,
     "metadata": {},
     "output_type": "execute_result"
    }
   ],
   "source": [
    "dup.sum()"
   ],
   "metadata": {
    "collapsed": false
   }
  },
  {
   "cell_type": "code",
   "execution_count": 150,
   "outputs": [
    {
     "data": {
      "text/plain": "(9592, 3)"
     },
     "execution_count": 150,
     "metadata": {},
     "output_type": "execute_result"
    }
   ],
   "source": [
    "results.shape"
   ],
   "metadata": {
    "collapsed": false
   }
  },
  {
   "cell_type": "code",
   "execution_count": 151,
   "outputs": [
    {
     "data": {
      "text/plain": "(9614, 4)"
     },
     "execution_count": 151,
     "metadata": {},
     "output_type": "execute_result"
    }
   ],
   "source": [
    "\n",
    "results = results.merge(simple_ranks, how='left', on=['CID', 'CycleCands'])\n",
    "\n",
    "results.shape"
   ],
   "metadata": {
    "collapsed": false
   }
  },
  {
   "cell_type": "code",
   "execution_count": 152,
   "outputs": [
    {
     "data": {
      "text/plain": "(9581, 4)"
     },
     "execution_count": 152,
     "metadata": {},
     "output_type": "execute_result"
    }
   ],
   "source": [
    "no_dup = results.drop_duplicates(\n",
    "  subset = ['CycleCands', 'CID'],\n",
    "  keep = 'first').reset_index(drop = True)\n",
    "\n",
    "no_dup.shape"
   ],
   "metadata": {
    "collapsed": false
   }
  },
  {
   "cell_type": "code",
   "execution_count": 153,
   "outputs": [
    {
     "data": {
      "text/plain": "CID                  0\nCycleCands           0\nAmountRank           0\nAmountRankSimple    23\ndtype: int64"
     },
     "execution_count": 153,
     "metadata": {},
     "output_type": "execute_result"
    }
   ],
   "source": [
    "no_dup.isnull().sum()"
   ],
   "metadata": {
    "collapsed": false
   }
  },
  {
   "cell_type": "code",
   "execution_count": 154,
   "outputs": [
    {
     "data": {
      "text/plain": "CID                 0\nCycleCands          0\nAmountRank          0\nAmountRankSimple    0\ndtype: int64"
     },
     "execution_count": 154,
     "metadata": {},
     "output_type": "execute_result"
    }
   ],
   "source": [
    "no_dup = no_dup.fillna(value={'AmountRankSimple':2})\n",
    "\n",
    "no_dup.isnull().sum()"
   ],
   "metadata": {
    "collapsed": false
   }
  },
  {
   "cell_type": "code",
   "execution_count": 155,
   "outputs": [],
   "source": [
    "no_dup.to_csv(f\"../data/amount_rank.csv\")"
   ],
   "metadata": {
    "collapsed": false
   }
  },
  {
   "cell_type": "code",
   "execution_count": 155,
   "outputs": [],
   "source": [],
   "metadata": {
    "collapsed": false
   }
  },
  {
   "cell_type": "code",
   "execution_count": 155,
   "outputs": [],
   "source": [],
   "metadata": {
    "collapsed": false
   }
  }
 ],
 "metadata": {
  "kernelspec": {
   "display_name": "Python 3",
   "language": "python",
   "name": "python3"
  },
  "language_info": {
   "codemirror_mode": {
    "name": "ipython",
    "version": 2
   },
   "file_extension": ".py",
   "mimetype": "text/x-python",
   "name": "python",
   "nbconvert_exporter": "python",
   "pygments_lexer": "ipython2",
   "version": "2.7.6"
  }
 },
 "nbformat": 4,
 "nbformat_minor": 0
}
