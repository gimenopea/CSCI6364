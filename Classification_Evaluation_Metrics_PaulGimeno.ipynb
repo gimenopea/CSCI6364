{
  "nbformat": 4,
  "nbformat_minor": 0,
  "metadata": {
    "colab": {
      "provenance": [],
      "collapsed_sections": [
        "jaaFmM__H38b",
        "uaTiD7tyK8_N"
      ],
      "authorship_tag": "ABX9TyMGhPId/v7hLx+4KSpxumlk",
      "include_colab_link": true
    },
    "kernelspec": {
      "name": "python3",
      "display_name": "Python 3"
    },
    "language_info": {
      "name": "python"
    }
  },
  "cells": [
    {
      "cell_type": "markdown",
      "metadata": {
        "id": "view-in-github",
        "colab_type": "text"
      },
      "source": [
        "<a href=\"https://colab.research.google.com/github/gimenopea/CSCI6364/blob/main/Classification_Evaluation_Metrics_PaulGimeno.ipynb\" target=\"_parent\"><img src=\"https://colab.research.google.com/assets/colab-badge.svg\" alt=\"Open In Colab\"/></a>"
      ]
    },
    {
      "cell_type": "markdown",
      "source": [
        "**Paul Gimeno Fall 2022**\n",
        "\n",
        "CSCI 6364 Machine Learning\n",
        "\n",
        "pgimeno@gwu.edu "
      ],
      "metadata": {
        "id": "EmaMKgbgqw3o"
      }
    },
    {
      "cell_type": "markdown",
      "source": [
        "**Binary Classification Metric Evaluation**\n",
        "\n",
        "\n",
        "\n",
        "A model using a classifier has been trained and two vectors (y_actual and y_predict) is saved for a particular run. This notebook details an analysis of model performance using various evaluation metrics.\n",
        "\n",
        "* **We have determined that there is baseline F score of 0.65 prior to this model's specific run** "
      ],
      "metadata": {
        "id": "ugUSnrEy8w4l"
      }
    },
    {
      "cell_type": "code",
      "source": [
        "from sklearn.metrics import confusion_matrix, ConfusionMatrixDisplay"
      ],
      "metadata": {
        "id": "7mxIXhaY8RwS"
      },
      "execution_count": 83,
      "outputs": []
    },
    {
      "cell_type": "code",
      "source": [
        "#after model training, we evaluate our model with our predicted classes and compare it with actual classes. In this particular case, we assume that 1's reach the threshold where it considered in the positive class and 0 being in the negative class.\n",
        "y_actual = [0, 1, 1, 0, 0, 1]\n",
        "y_predict = [0, 1, 1, 1, 0, 1]"
      ],
      "metadata": {
        "id": "RJSD69AhgPTd"
      },
      "execution_count": 84,
      "outputs": []
    },
    {
      "cell_type": "code",
      "source": [
        "#a confusion matrix is constructed to aggrgate prediction performance against our true value (or in this case, our test sample)\n",
        "cm = confusion_matrix(y_actual, y_predict)\n",
        "#the ravel method convers a 2d numpy array to a single list that sequentially lists true negative, false positive, false negative and true positive in this order. As we can see, we can observe this order by manually observing y_actual and y_predict indexes.\n",
        "tn, fp, fn, tp = cm.ravel()\n",
        "print(cm.ravel())"
      ],
      "metadata": {
        "colab": {
          "base_uri": "https://localhost:8080/"
        },
        "id": "emtpxt0cncHS",
        "outputId": "c962fa0c-9770-4615-9a79-9102173bdb45"
      },
      "execution_count": 85,
      "outputs": [
        {
          "output_type": "stream",
          "name": "stdout",
          "text": [
            "[2 1 0 3]\n"
          ]
        }
      ]
    },
    {
      "cell_type": "code",
      "source": [
        "#plotting the confusion matrix using sklearn's library\n",
        "disp = ConfusionMatrixDisplay(confusion_matrix=cm)\n",
        "disp.plot()"
      ],
      "metadata": {
        "colab": {
          "base_uri": "https://localhost:8080/",
          "height": 300
        },
        "id": "JCIdZmG0niL6",
        "outputId": "b69bd69c-12c9-4579-c2c9-0a094627224a"
      },
      "execution_count": 86,
      "outputs": [
        {
          "output_type": "execute_result",
          "data": {
            "text/plain": [
              "<sklearn.metrics._plot.confusion_matrix.ConfusionMatrixDisplay at 0x7f0e6ef3db10>"
            ]
          },
          "metadata": {},
          "execution_count": 86
        },
        {
          "output_type": "display_data",
          "data": {
            "text/plain": [
              "<Figure size 432x288 with 2 Axes>"
            ],
            "image/png": "[encoded data removed]"
          },
          "metadata": {
            "needs_background": "light"
          }
        }
      ]
    },
    {
      "cell_type": "markdown",
      "source": [
        "# **Confusion Matrix**"
      ],
      "metadata": {
        "id": "UimHsPWy-JZV"
      }
    },
    {
      "cell_type": "code",
      "source": [
        "print(f'The True Positives (bottom right) in the matrix: {tp}, indicates predicted true values that are TRUE \\n\\\n",
        "The True Negatives (upper left) in the matrix: {tn}, indicates predicted false values that are FALSE \\n\\\n",
        "The False Positives in the matrix (upper right): {fp}, indicates predicted positive values that are FALSE \\n\\\n",
        "The False Negatives in the matrix (lower left): {fn}, indicates predicted negative values that are TRUE ')"
      ],
      "metadata": {
        "colab": {
          "base_uri": "https://localhost:8080/"
        },
        "id": "bImkPfzYn1dM",
        "outputId": "025c0ca0-1972-4689-9cea-d4e47001f2ce"
      },
      "execution_count": 87,
      "outputs": [
        {
          "output_type": "stream",
          "name": "stdout",
          "text": [
            "The True Positives (bottom right) in the matrix: 3, indicates predicted true values that are TRUE \n",
            "The True Negatives (upper left) in the matrix: 2, indicates predicted false values that are FALSE \n",
            "The False Positives in the matrix (upper right): 1, indicates predicted positive values that are FALSE \n",
            "The False Negatives in the matrix (lower left): 0, indicates predicted negative values that are TRUE \n"
          ]
        }
      ]
    },
    {
      "cell_type": "markdown",
      "source": [
        "# **Accuracy**"
      ],
      "metadata": {
        "id": "sYn2_Nm8CfJN"
      }
    },
    {
      "cell_type": "code",
      "source": [
        "print(f'Accuracy is defined as the total correct predictions over all samples, TP + TN / (TP + TN + FP + FN), in this evaluation, the model accuracy is: {round((tp + tn) / (tp+tn+fp+fn))*100}%\\n\\\n",
        "This can be interpreted as out of 100 samples, it correctly predicted 83 cases')"
      ],
      "metadata": {
        "colab": {
          "base_uri": "https://localhost:8080/"
        },
        "id": "zg8KQMhXoorh",
        "outputId": "7088165e-8ee9-465c-8b92-3703d28eb97d"
      },
      "execution_count": 88,
      "outputs": [
        {
          "output_type": "stream",
          "name": "stdout",
          "text": [
            "Accuracy is defined as the total correct predictions over all samples, TP + TN / (TP + TN + FP + FN), in this evaluation, the model accuracy is: 100%\n",
            "This can be interpreted as out of 100 samples, it correctly predicted 83 cases\n"
          ]
        }
      ]
    },
    {
      "cell_type": "code",
      "source": [
        "#As an alternative, we can use sklearn's evaluation metric method called accuracy_score\n",
        "from sklearn.metrics import accuracy_score\n",
        "\n",
        "accuracy_score(y_actual, y_predict)"
      ],
      "metadata": {
        "colab": {
          "base_uri": "https://localhost:8080/"
        },
        "id": "7oPHBnLPoqr5",
        "outputId": "811929bf-14f8-425d-f127-4e2f821a71a7"
      },
      "execution_count": 89,
      "outputs": [
        {
          "output_type": "execute_result",
          "data": {
            "text/plain": [
              "0.8333333333333334"
            ]
          },
          "metadata": {},
          "execution_count": 89
        }
      ]
    },
    {
      "cell_type": "markdown",
      "source": [
        "## Precision\n",
        "\n",
        "Often times determining accuracy is not adequate to evaluate model performance if the sample is biased. For example, if in 100 samples, there's only 1 instance of the positive class, the model can always predict the negative class and have a 99/100 accuracy. If we care about the positive class prediction, the accuracy metric is misleading.\n",
        "\n",
        "**Precision** can be defined as: of all the predicted positive classes, how many are actually positive? or in another term, how many correct positive predictions were made across all positive samples.\n",
        "\n",
        "This measure would be weighed more if we actually care about the predictive power of the model of a particular class in addition for accounting for cases where the sample distribution are heavily biased."
      ],
      "metadata": {
        "id": "jaaFmM__H38b"
      }
    },
    {
      "cell_type": "code",
      "source": [
        "print(f'precision can be manually calculated as tp / tp + fp, in the example statement the value is: {tp / (tp + fp)}, \\n\\\n",
        "there were {tp} positive predictions (tp) out of {tp + fp} (tp + fp) positive samples  ')"
      ],
      "metadata": {
        "colab": {
          "base_uri": "https://localhost:8080/"
        },
        "id": "PmHm2rZtEA2s",
        "outputId": "afc4a84d-3dc9-4aa7-ed80-750de5eb1d08"
      },
      "execution_count": 90,
      "outputs": [
        {
          "output_type": "stream",
          "name": "stdout",
          "text": [
            "precision can be manually calculated as tp / tp + fp, in the example statement the value is: 0.75, \n",
            "there were 3 positive predictions (tp) out of 4 (tp + fp) positive samples  \n"
          ]
        }
      ]
    },
    {
      "cell_type": "code",
      "source": [
        "#similarly we can compute this value using sklearn's precision_score method\n",
        "from sklearn.metrics import precision_score\n",
        "\n",
        "print(precision_score(y_actual,y_predict))"
      ],
      "metadata": {
        "colab": {
          "base_uri": "https://localhost:8080/"
        },
        "id": "gSvdWLmKuq4q",
        "outputId": "76140944-61f8-48ca-aabd-161df3835cb6"
      },
      "execution_count": 91,
      "outputs": [
        {
          "output_type": "stream",
          "name": "stdout",
          "text": [
            "0.75\n"
          ]
        }
      ]
    },
    {
      "cell_type": "markdown",
      "source": [
        "## Recall\n",
        "\n",
        "Closely related to related to precision is the measure called recall.\n",
        "\n",
        "**Recall** can be defined as: of all the actual positive classes, how many are predicted as positive?"
      ],
      "metadata": {
        "id": "uaTiD7tyK8_N"
      }
    },
    {
      "cell_type": "code",
      "source": [
        "print(f'recall can be manually calculated as tp / tp + fn, in the example statement the value is: {tp / (tp + fn)}')"
      ],
      "metadata": {
        "colab": {
          "base_uri": "https://localhost:8080/"
        },
        "id": "UT3KzFknLAHr",
        "outputId": "2202ba28-0a16-41a7-fe3d-c43b124a7aa6"
      },
      "execution_count": 92,
      "outputs": [
        {
          "output_type": "stream",
          "name": "stdout",
          "text": [
            "recall can be manually calculated as tp / tp + fn, in the example statement the value is: 1.0\n"
          ]
        }
      ]
    },
    {
      "cell_type": "code",
      "source": [
        "#similarly we can compute this value using sklearn's recall method\n",
        "\n",
        "from sklearn.metrics import recall_score\n",
        "\n",
        "print(recall_score(y_actual, y_predict))\n",
        "\n",
        "#with a recall score of 1, we were able to predict all of the positive classes"
      ],
      "metadata": {
        "colab": {
          "base_uri": "https://localhost:8080/"
        },
        "id": "OiAZhX_88q2G",
        "outputId": "cd3de738-a127-46e1-c673-18810aace2d1"
      },
      "execution_count": 93,
      "outputs": [
        {
          "output_type": "stream",
          "name": "stdout",
          "text": [
            "1.0\n"
          ]
        }
      ]
    },
    {
      "cell_type": "markdown",
      "source": [
        "# F Score\n",
        "\n",
        "Depending on the problem statement, we either value precision over recall if for example, we want to reduce the instances or consequences of false positives. In this classification problem, if the positive class indicates a decision to retaliate using nuclear weapons (positive class) vs not retaliate using nuclear weapons (negative class), we would value high precision in a higher priority as this ensures that a large proportion of our predicted positive class are actually positive class. \n",
        "\n",
        "Recall would be weighed more if the instances of false negatives (type II) errors are not acceptable.\n",
        "\n",
        "We can use a ratio of precision and recall to determine the model's accuracy. [F1 score is the harmonic mean of precision and recall.](https://https://en.wikipedia.org/wiki/F-score) \n",
        "\n",
        "for this problem statement, we can calculate an F1 score using:\n",
        "\n",
        "<img src = \"https://wikimedia.org/api/rest_v1/media/math/render/svg/b006f28426fcf95c08de4be0597f7894d86bfccd\">"
      ],
      "metadata": {
        "id": "uUCtjEgUkoiO"
      }
    },
    {
      "cell_type": "code",
      "source": [
        "#This model run's F1 score which is a balanced approach in weighing precision and recall\n",
        "\n",
        "precision = tp / (tp + fp)\n",
        "recall = tp / (tp + fn)\n",
        "\n",
        "f_1 = (2*precision*recall)/(precision+recall)\n",
        "print(f_1)"
      ],
      "metadata": {
        "colab": {
          "base_uri": "https://localhost:8080/"
        },
        "id": "u6BOTO2RkqE1",
        "outputId": "f71e52e9-3e20-4d23-b0fe-d23f2fed3f3f"
      },
      "execution_count": 95,
      "outputs": [
        {
          "output_type": "stream",
          "name": "stdout",
          "text": [
            "0.8571428571428571\n"
          ]
        }
      ]
    },
    {
      "cell_type": "markdown",
      "source": [
        "**F beta Scores**\n",
        "\n",
        "If we want to weigh either recall or precision over another, we can designate a beta parameter to the f score using the formula\n",
        "\n",
        "<img src='https://wikimedia.org/api/rest_v1/media/math/render/svg/136f45612c08805f4254f63d2f2524bc25075fff'>\n",
        "\n",
        "[source](https://en.wikipedia.org/wiki/F-score)"
      ],
      "metadata": {
        "id": "uGCzqfrC9w7l"
      }
    },
    {
      "cell_type": "code",
      "source": [
        "#in the case of beta = 0.5, more weight on precision but less on precision \n",
        "\n",
        "beta_05 = 0.5\n",
        "precision = tp / (tp + fp)\n",
        "recall = tp / (tp + fn)\n",
        "f_score_beta05 = (1 + beta**2)*(precision*recall)*1/(((beta**2) * precision) + recall)\n",
        "print(f_score_beta05)"
      ],
      "metadata": {
        "colab": {
          "base_uri": "https://localhost:8080/"
        },
        "id": "Cq-1sh1ctxSx",
        "outputId": "c47deb68-29d7-49b6-edc4-cceeb3104a31"
      },
      "execution_count": 81,
      "outputs": [
        {
          "output_type": "stream",
          "name": "stdout",
          "text": [
            "0.7894736842105263\n"
          ]
        }
      ]
    },
    {
      "cell_type": "code",
      "source": [
        "#in the case of beta = 2, more weight on recall and less weight on precision\n",
        "beta_2 = 2\n",
        "precision = tp / (tp + fp)\n",
        "recall = tp / (tp + fn)\n",
        "f_2 = (1 + beta_2**2)*(precision*recall)*1/(((beta_2**2) * precision) + recall)\n",
        "print(f_2)"
      ],
      "metadata": {
        "colab": {
          "base_uri": "https://localhost:8080/"
        },
        "id": "c5ISP0r5pjKG",
        "outputId": "3904912b-dfbf-4928-bdc9-4ae74a0ff34d"
      },
      "execution_count": 96,
      "outputs": [
        {
          "output_type": "stream",
          "name": "stdout",
          "text": [
            "0.9375\n"
          ]
        }
      ]
    },
    {
      "cell_type": "markdown",
      "source": [
        "# Comparing model metrics to baseline\n",
        "\n",
        "our baseline F1 score is .65\n",
        "\n",
        "* Since this model's F1 score is .85, we determine that this model is more accurate than the baseline with a balanced precision/recall Fmeasure\n",
        "\n",
        "* If we value precision and determine that false positives are detrimental to decision making, we can compare the baseline's f1 score with a beta of .5 for example to this model's f1 score of .789\n",
        "\n",
        "* if we value predicting as much positive classes from the sample, having a higher recall or higher beta would be ideal compared to our baseline."
      ],
      "metadata": {
        "id": "8vPENu2O_tG4"
      }
    },
    {
      "cell_type": "code",
      "source": [
        "#we also can calculate the f1 measure using the sklearn classification_report measure\n",
        "\n",
        "from sklearn.metrics import classification_report\n",
        "print(classification_report(y_actual,y_predict))"
      ],
      "metadata": {
        "colab": {
          "base_uri": "https://localhost:8080/"
        },
        "id": "OhNb4MRHrIcJ",
        "outputId": "81e3cff7-b6ff-4fd7-bd0e-0af0ac84bda4"
      },
      "execution_count": 98,
      "outputs": [
        {
          "output_type": "stream",
          "name": "stdout",
          "text": [
            "              precision    recall  f1-score   support\n",
            "\n",
            "           0       1.00      0.67      0.80         3\n",
            "           1       0.75      1.00      0.86         3\n",
            "\n",
            "    accuracy                           0.83         6\n",
            "   macro avg       0.88      0.83      0.83         6\n",
            "weighted avg       0.88      0.83      0.83         6\n",
            "\n"
          ]
        }
      ]
    },
    {
      "cell_type": "code",
      "source": [],
      "metadata": {
        "id": "f7w5ZUUVrR-a"
      },
      "execution_count": null,
      "outputs": []
    }
  ]
}